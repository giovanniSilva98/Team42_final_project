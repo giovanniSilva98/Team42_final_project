{
 "cells": [
  {
   "cell_type": "code",
   "execution_count": 15,
   "metadata": {},
   "outputs": [
    {
     "ename": "NameError",
     "evalue": "name 'x' is not defined",
     "output_type": "error",
     "traceback": [
      "\u001b[1;31m---------------------------------------------------------------------------\u001b[0m",
      "\u001b[1;31mNameError\u001b[0m                                 Traceback (most recent call last)",
      "\u001b[1;32mc:\\Users\\39347\\Desktop\\devD\\data\\data_plot.ipynb Cell 1\u001b[0m in \u001b[0;36m<cell line: 10>\u001b[1;34m()\u001b[0m\n\u001b[0;32m      <a href='vscode-notebook-cell:/c%3A/Users/39347/Desktop/devD/data/data_plot.ipynb#W0sZmlsZQ%3D%3D?line=5'>6</a>\u001b[0m fig \u001b[39m=\u001b[39m make_subplots(rows\u001b[39m=\u001b[39m\u001b[39m3\u001b[39m, cols\u001b[39m=\u001b[39m\u001b[39m1\u001b[39m,\n\u001b[0;32m      <a href='vscode-notebook-cell:/c%3A/Users/39347/Desktop/devD/data/data_plot.ipynb#W0sZmlsZQ%3D%3D?line=6'>7</a>\u001b[0m                     subplot_titles\u001b[39m=\u001b[39m(\u001b[39m\"\u001b[39m\u001b[39mHR: Temp--Magnitude\u001b[39m\u001b[39m\"\u001b[39m, \u001b[39m\"\u001b[39m\u001b[39mHR: Temp--lumin\u001b[39m\u001b[39m\"\u001b[39m,\u001b[39m\"\u001b[39m\u001b[39mHR: Temp--radius\u001b[39m\u001b[39m\"\u001b[39m))\n\u001b[0;32m      <a href='vscode-notebook-cell:/c%3A/Users/39347/Desktop/devD/data/data_plot.ipynb#W0sZmlsZQ%3D%3D?line=8'>9</a>\u001b[0m \u001b[39m# scatterplot: x=temperature y=absolute magnitude \u001b[39;00m\n\u001b[0;32m     <a href='vscode-notebook-cell:/c%3A/Users/39347/Desktop/devD/data/data_plot.ipynb#W0sZmlsZQ%3D%3D?line=9'>10</a>\u001b[0m fig\u001b[39m.\u001b[39mappend_trace(go\u001b[39m.\u001b[39mScatter(\n\u001b[1;32m---> <a href='vscode-notebook-cell:/c%3A/Users/39347/Desktop/devD/data/data_plot.ipynb#W0sZmlsZQ%3D%3D?line=10'>11</a>\u001b[0m     x\u001b[39m=\u001b[39mnp\u001b[39m.\u001b[39mlog(x),\n\u001b[0;32m     <a href='vscode-notebook-cell:/c%3A/Users/39347/Desktop/devD/data/data_plot.ipynb#W0sZmlsZQ%3D%3D?line=11'>12</a>\u001b[0m     y\u001b[39m=\u001b[39m\u001b[39m-\u001b[39mnp\u001b[39m.\u001b[39mlog(y1),\n\u001b[0;32m     <a href='vscode-notebook-cell:/c%3A/Users/39347/Desktop/devD/data/data_plot.ipynb#W0sZmlsZQ%3D%3D?line=12'>13</a>\u001b[0m     mode\u001b[39m=\u001b[39m\u001b[39m\"\u001b[39m\u001b[39mmarkers\u001b[39m\u001b[39m\"\u001b[39m\n\u001b[0;32m     <a href='vscode-notebook-cell:/c%3A/Users/39347/Desktop/devD/data/data_plot.ipynb#W0sZmlsZQ%3D%3D?line=13'>14</a>\u001b[0m ), row\u001b[39m=\u001b[39m\u001b[39m1\u001b[39m, col\u001b[39m=\u001b[39m\u001b[39m1\u001b[39m)\n\u001b[0;32m     <a href='vscode-notebook-cell:/c%3A/Users/39347/Desktop/devD/data/data_plot.ipynb#W0sZmlsZQ%3D%3D?line=15'>16</a>\u001b[0m \u001b[39m# scatterplot: x=temperature y=absolute magnitude \u001b[39;00m\n\u001b[0;32m     <a href='vscode-notebook-cell:/c%3A/Users/39347/Desktop/devD/data/data_plot.ipynb#W0sZmlsZQ%3D%3D?line=16'>17</a>\u001b[0m fig\u001b[39m.\u001b[39mappend_trace(go\u001b[39m.\u001b[39mScatter(\n\u001b[0;32m     <a href='vscode-notebook-cell:/c%3A/Users/39347/Desktop/devD/data/data_plot.ipynb#W0sZmlsZQ%3D%3D?line=17'>18</a>\u001b[0m     x\u001b[39m=\u001b[39mx,\n\u001b[0;32m     <a href='vscode-notebook-cell:/c%3A/Users/39347/Desktop/devD/data/data_plot.ipynb#W0sZmlsZQ%3D%3D?line=18'>19</a>\u001b[0m     y\u001b[39m=\u001b[39my2,\n\u001b[0;32m     <a href='vscode-notebook-cell:/c%3A/Users/39347/Desktop/devD/data/data_plot.ipynb#W0sZmlsZQ%3D%3D?line=19'>20</a>\u001b[0m     mode\u001b[39m=\u001b[39m\u001b[39m\"\u001b[39m\u001b[39mmarkers\u001b[39m\u001b[39m\"\u001b[39m\n\u001b[0;32m     <a href='vscode-notebook-cell:/c%3A/Users/39347/Desktop/devD/data/data_plot.ipynb#W0sZmlsZQ%3D%3D?line=20'>21</a>\u001b[0m ), row\u001b[39m=\u001b[39m\u001b[39m2\u001b[39m, col\u001b[39m=\u001b[39m\u001b[39m1\u001b[39m)\n",
      "\u001b[1;31mNameError\u001b[0m: name 'x' is not defined"
     ]
    }
   ],
   "source": [
    "#Example plot from plotly\n",
    "from plotly.subplots import make_subplots\n",
    "import plotly.graph_objects as go\n",
    "import plotly.express as px\n",
    "\n",
    "fig = make_subplots(rows=3, cols=1,\n",
    "                    subplot_titles=(\"HR: Temp--Magnitude\", \"HR: Temp--lumin\",\"HR: Temp--radius\"))\n",
    "\n",
    "# scatterplot: x=temperature y=absolute magnitude \n",
    "fig.append_trace(go.Scatter(\n",
    "    x=np.log(x),\n",
    "    y=-np.log(y1),\n",
    "    mode=\"markers\"\n",
    "), row=1, col=1)\n",
    "\n",
    "# scatterplot: x=temperature y=absolute magnitude \n",
    "fig.append_trace(go.Scatter(\n",
    "    x=x,\n",
    "    y=y2,\n",
    "    mode=\"markers\"\n",
    "), row=2, col=1)\n",
    "\n",
    "# scatterplot: x=temperature y=radius \n",
    "fig.append_trace(go.Scatter(\n",
    "    x=x,\n",
    "    y=r,\n",
    "    mode=\"markers\"\n",
    "), row=3, col=1)\n",
    "\n",
    "\n",
    "fig.update_layout(height=600, width=600, title_text=\"HR-plots examples- test1\")\n",
    "fig.show()"
   ]
  },
  {
   "cell_type": "markdown",
   "metadata": {},
   "source": [
    "About this file\n",
    "This CSV file contains a dataset of 240 stars of 6 classes:\n",
    "\n",
    "Brown Dwarf -> Star Type = 0\n",
    "\n",
    "Red Dwarf -> Star Type = 1\n",
    "\n",
    "White Dwarf-> Star Type = 2\n",
    "\n",
    "Main Sequence -> Star Type = 3\n",
    "\n",
    "Supergiant -> Star Type = 4\n",
    "\n",
    "Hypergiant -> Star Type = 5\n",
    "\n",
    "The Luminosity and radius of each star is calculated w.r.t. that of the values of Sun.\n",
    "Lo = 3.828 x 10^26 Watts\n",
    "Ro = 6.9551 x 10^8 m"
   ]
  },
  {
   "cell_type": "code",
   "execution_count": 16,
   "metadata": {},
   "outputs": [],
   "source": [
    "import pandas as pd\n",
    "import numpy as np\n",
    "import matplotlib.pyplot as plt\n",
    "\n",
    "FILENAME=\"HR_data_1.csv\"\n",
    "dataset = pd.read_csv(FILENAME, delimiter=',')\n",
    "\n",
    "#as plotted by the friend on the net \n",
    "O = dataset[dataset[\"Spectral Class\"] == 'O']\n",
    "B = dataset[dataset[\"Spectral Class\"] == 'B']\n",
    "A = dataset[dataset[\"Spectral Class\"] == 'A']\n",
    "F = dataset[dataset[\"Spectral Class\"] == 'F']\n",
    "G = dataset[dataset[\"Spectral Class\"] == 'G']\n",
    "K = dataset[dataset[\"Spectral Class\"] == 'K']\n",
    "M = dataset[dataset[\"Spectral Class\"] == 'M']\n",
    "\n",
    "\n"
   ]
  },
  {
   "cell_type": "code",
   "execution_count": 17,
   "metadata": {},
   "outputs": [
    {
     "data": {
      "text/html": [
       "<div>\n",
       "<style scoped>\n",
       "    .dataframe tbody tr th:only-of-type {\n",
       "        vertical-align: middle;\n",
       "    }\n",
       "\n",
       "    .dataframe tbody tr th {\n",
       "        vertical-align: top;\n",
       "    }\n",
       "\n",
       "    .dataframe thead th {\n",
       "        text-align: right;\n",
       "    }\n",
       "</style>\n",
       "<table border=\"1\" class=\"dataframe\">\n",
       "  <thead>\n",
       "    <tr style=\"text-align: right;\">\n",
       "      <th></th>\n",
       "      <th>Temperature (K)</th>\n",
       "      <th>Luminosity(L/Lo)</th>\n",
       "      <th>Radius(R/Ro)</th>\n",
       "      <th>Absolute magnitude(Mv)</th>\n",
       "      <th>Star type</th>\n",
       "      <th>Star color</th>\n",
       "      <th>Spectral Class</th>\n",
       "    </tr>\n",
       "  </thead>\n",
       "  <tbody>\n",
       "    <tr>\n",
       "      <th>0</th>\n",
       "      <td>3068</td>\n",
       "      <td>0.002400</td>\n",
       "      <td>0.1700</td>\n",
       "      <td>16.12</td>\n",
       "      <td>0</td>\n",
       "      <td>Red</td>\n",
       "      <td>M</td>\n",
       "    </tr>\n",
       "    <tr>\n",
       "      <th>1</th>\n",
       "      <td>3042</td>\n",
       "      <td>0.000500</td>\n",
       "      <td>0.1542</td>\n",
       "      <td>16.60</td>\n",
       "      <td>0</td>\n",
       "      <td>Red</td>\n",
       "      <td>M</td>\n",
       "    </tr>\n",
       "    <tr>\n",
       "      <th>2</th>\n",
       "      <td>2600</td>\n",
       "      <td>0.000300</td>\n",
       "      <td>0.1020</td>\n",
       "      <td>18.70</td>\n",
       "      <td>0</td>\n",
       "      <td>Red</td>\n",
       "      <td>M</td>\n",
       "    </tr>\n",
       "    <tr>\n",
       "      <th>3</th>\n",
       "      <td>2800</td>\n",
       "      <td>0.000200</td>\n",
       "      <td>0.1600</td>\n",
       "      <td>16.65</td>\n",
       "      <td>0</td>\n",
       "      <td>Red</td>\n",
       "      <td>M</td>\n",
       "    </tr>\n",
       "    <tr>\n",
       "      <th>4</th>\n",
       "      <td>1939</td>\n",
       "      <td>0.000138</td>\n",
       "      <td>0.1030</td>\n",
       "      <td>20.06</td>\n",
       "      <td>0</td>\n",
       "      <td>Red</td>\n",
       "      <td>M</td>\n",
       "    </tr>\n",
       "    <tr>\n",
       "      <th>...</th>\n",
       "      <td>...</td>\n",
       "      <td>...</td>\n",
       "      <td>...</td>\n",
       "      <td>...</td>\n",
       "      <td>...</td>\n",
       "      <td>...</td>\n",
       "      <td>...</td>\n",
       "    </tr>\n",
       "    <tr>\n",
       "      <th>235</th>\n",
       "      <td>38940</td>\n",
       "      <td>374830.000000</td>\n",
       "      <td>1356.0000</td>\n",
       "      <td>-9.93</td>\n",
       "      <td>5</td>\n",
       "      <td>Blue</td>\n",
       "      <td>O</td>\n",
       "    </tr>\n",
       "    <tr>\n",
       "      <th>236</th>\n",
       "      <td>30839</td>\n",
       "      <td>834042.000000</td>\n",
       "      <td>1194.0000</td>\n",
       "      <td>-10.63</td>\n",
       "      <td>5</td>\n",
       "      <td>Blue</td>\n",
       "      <td>O</td>\n",
       "    </tr>\n",
       "    <tr>\n",
       "      <th>237</th>\n",
       "      <td>8829</td>\n",
       "      <td>537493.000000</td>\n",
       "      <td>1423.0000</td>\n",
       "      <td>-10.73</td>\n",
       "      <td>5</td>\n",
       "      <td>White</td>\n",
       "      <td>A</td>\n",
       "    </tr>\n",
       "    <tr>\n",
       "      <th>238</th>\n",
       "      <td>9235</td>\n",
       "      <td>404940.000000</td>\n",
       "      <td>1112.0000</td>\n",
       "      <td>-11.23</td>\n",
       "      <td>5</td>\n",
       "      <td>White</td>\n",
       "      <td>A</td>\n",
       "    </tr>\n",
       "    <tr>\n",
       "      <th>239</th>\n",
       "      <td>37882</td>\n",
       "      <td>294903.000000</td>\n",
       "      <td>1783.0000</td>\n",
       "      <td>-7.80</td>\n",
       "      <td>5</td>\n",
       "      <td>Blue</td>\n",
       "      <td>O</td>\n",
       "    </tr>\n",
       "  </tbody>\n",
       "</table>\n",
       "<p>240 rows × 7 columns</p>\n",
       "</div>"
      ],
      "text/plain": [
       "     Temperature (K)  Luminosity(L/Lo)  Radius(R/Ro)  Absolute magnitude(Mv)  \\\n",
       "0               3068          0.002400        0.1700                   16.12   \n",
       "1               3042          0.000500        0.1542                   16.60   \n",
       "2               2600          0.000300        0.1020                   18.70   \n",
       "3               2800          0.000200        0.1600                   16.65   \n",
       "4               1939          0.000138        0.1030                   20.06   \n",
       "..               ...               ...           ...                     ...   \n",
       "235            38940     374830.000000     1356.0000                   -9.93   \n",
       "236            30839     834042.000000     1194.0000                  -10.63   \n",
       "237             8829     537493.000000     1423.0000                  -10.73   \n",
       "238             9235     404940.000000     1112.0000                  -11.23   \n",
       "239            37882     294903.000000     1783.0000                   -7.80   \n",
       "\n",
       "     Star type Star color Spectral Class  \n",
       "0            0        Red              M  \n",
       "1            0        Red              M  \n",
       "2            0        Red              M  \n",
       "3            0        Red              M  \n",
       "4            0        Red              M  \n",
       "..         ...        ...            ...  \n",
       "235          5       Blue              O  \n",
       "236          5       Blue              O  \n",
       "237          5      White              A  \n",
       "238          5      White              A  \n",
       "239          5       Blue              O  \n",
       "\n",
       "[240 rows x 7 columns]"
      ]
     },
     "execution_count": 17,
     "metadata": {},
     "output_type": "execute_result"
    }
   ],
   "source": [
    "dataset"
   ]
  },
  {
   "cell_type": "code",
   "execution_count": 25,
   "metadata": {},
   "outputs": [
    {
     "data": {
      "text/plain": [
       "<matplotlib.legend.Legend at 0x1a97442ae90>"
      ]
     },
     "execution_count": 25,
     "metadata": {},
     "output_type": "execute_result"
    },
    {
     "data": {
      "image/png": "[encoded data removed]",
      "text/plain": [
       "<Figure size 432x288 with 1 Axes>"
      ]
     },
     "metadata": {},
     "output_type": "display_data"
    }
   ],
   "source": [
    "plt.style.use('ggplot')\n",
    "plt.grid()\n",
    "plt.scatter(np.log(O[\"Temperature (K)\"]), np.log(O[\"Luminosity(L/Lo)\"]),10, label = 'O')\n",
    "plt.scatter(np.log(B[\"Temperature (K)\"]), np.log(B[\"Luminosity(L/Lo)\"]),8, label = 'B')\n",
    "plt.scatter(np.log(A[\"Temperature (K)\"]), np.log(A[\"Luminosity(L/Lo)\"]),6, label = 'A')\n",
    "plt.scatter(np.log(F[\"Temperature (K)\"]), np.log(F[\"Luminosity(L/Lo)\"]),4, label = 'F')\n",
    "plt.scatter(np.log(G[\"Temperature (K)\"]), np.log(G[\"Luminosity(L/Lo)\"]),3, label = 'G')\n",
    "plt.scatter(np.log(K[\"Temperature (K)\"]), np.log(K[\"Luminosity(L/Lo)\"]),2, label = 'K')\n",
    "plt.scatter(np.log(M[\"Temperature (K)\"]), np.log(M[\"Luminosity(L/Lo)\"]),1, label = 'M')\n",
    "plt.gca().invert_xaxis()\n",
    "plt.title(\"Hertzsprung-Russell Diagram\")\n",
    "plt.ylabel(\"log Luminosity\")\n",
    "plt.xlabel(\"log T\")\n",
    "plt.legend()\n"
   ]
  },
  {
   "cell_type": "code",
   "execution_count": null,
   "metadata": {},
   "outputs": [
    {
     "data": {
      "application/vnd.plotly.v1+json": {
       "config": {
        "plotlyServerURL": "https://plot.ly"
       },
       "data": [
        {
         "hovertemplate": "Temperature (K)=%{x}<br>Radius(R/Ro)=%{y}<br>Luminosity(L/Lo)=%{z}<br>color=%{marker.color}<extra></extra>",
         "legendgroup": "",
         "marker": {
          "color": [
           0,
           0,
           0,
           0,
           0,
           0,
           0,
           0,
           0,
           0,
           1,
           1,
           1,
           1,
           1,
           1,
           1,
           1,
           1,
           1,
           2,
           2,
           2,
           2,
           2,
           2,
           2,
           2,
           2,
           2,
           3,
           3,
           3,
           3,
           3,
           3,
           3,
           3,
           3,
           3,
           4,
           4,
           4,
           4,
           4,
           4,
           4,
           4,
           4,
           4,
           5,
           5,
           5,
           5,
           5,
           5,
           5,
           5,
           5,
           5,
           0,
           0,
           0,
           0,
           0,
           0,
           0,
           0,
           0,
           0,
           1,
           1,
           1,
           1,
           1,
           1,
           1,
           1,
           1,
           1,
           2,
           2,
           2,
           2,
           2,
           2,
           2,
           2,
           2,
           2,
           3,
           3,
           3,
           3,
           3,
           3,
           3,
           3,
           3,
           3,
           4,
           4,
           4,
           4,
           4,
           4,
           4,
           4,
           4,
           4,
           5,
           5,
           5,
           5,
           5,
           5,
           5,
           5,
           5,
           5,
           0,
           0,
           0,
           0,
           0,
           0,
           0,
           0,
           0,
           0,
           1,
           1,
           1,
           1,
           1,
           1,
           1,
           1,
           1,
           1,
           2,
           2,
           2,
           2,
           2,
           2,
           2,
           2,
           2,
           2,
           3,
           3,
           3,
           3,
           3,
           3,
           3,
           3,
           3,
           3,
           4,
           4,
           4,
           4,
           4,
           4,
           4,
           4,
           4,
           4,
           5,
           5,
           5,
           5,
           5,
           5,
           5,
           5,
           5,
           5,
           0,
           0,
           0,
           0,
           0,
           0,
           0,
           0,
           0,
           0,
           1,
           1,
           1,
           1,
           1,
           1,
           1,
           1,
           1,
           1,
           2,
           2,
           2,
           2,
           2,
           2,
           2,
           2,
           2,
           2,
           3,
           3,
           3,
           3,
           3,
           3,
           3,
           3,
           3,
           3,
           4,
           4,
           4,
           4,
           4,
           4,
           4,
           4,
           4,
           4,
           5,
           5,
           5,
           5,
           5,
           5,
           5,
           5,
           5,
           5
          ],
          "coloraxis": "coloraxis",
          "symbol": "circle"
         },
         "mode": "markers",
         "name": "",
         "scene": "scene",
         "showlegend": false,
         "type": "scatter3d",
         "x": [
          8.028781162487148,
          8.020270472819238,
          7.8632667240095735,
          7.937374696163295,
          7.569927655242652,
          7.951559331155252,
          7.877397186353287,
          7.8632667240095735,
          7.882314918980268,
          7.90100705199242,
          8.1886891244442,
          8.048468743668883,
          8.050065422915965,
          8.196436811235028,
          7.882314918980268,
          8.113726085970747,
          7.937017489515454,
          8.213923595622743,
          8.068402958569699,
          8.14351740579748,
          10.126631103850338,
          8.954156966583772,
          8.884610231886873,
          9.047821442478408,
          9.711115659888671,
          9.471935109664646,
          9.056023011591826,
          8.948975607841776,
          9.375006993531416,
          8.88599431515281,
          10.571316925111784,
          10.308952660644293,
          9.634038248345407,
          9.179881164491475,
          8.66561319653451,
          8.993675786759683,
          8.818334283552174,
          8.760923376338836,
          8.688790784847216,
          8.628197749459149,
          8.249575150000199,
          8.121183242078828,
          8.0925452638913,
          8.070906088787819,
          8.00903068506973,
          8.1886891244442,
          8.181720455128108,
          8.181440695719374,
          8.195609567288775,
          10.426735696300677,
          8.157657015196472,
          8.229511118964457,
          8.251663923605589,
          8.229244416735913,
          8.202482446576537,
          8.146129510025405,
          8.205218426395412,
          8.146129510025405,
          8.230044310126114,
          8.170468578330674,
          8.114025442356757,
          8.140898460607852,
          8.000684784514748,
          7.949797216161852,
          7.984462732262196,
          8.100161446936607,
          7.987864096085687,
          7.943427767876373,
          7.928045600874777,
          7.962415680121064,
          8.11522197256233,
          8.19063168090354,
          8.102889134640868,
          8.055157731819678,
          8.174702882469461,
          8.064636475774222,
          7.969011781106478,
          8.114324709155339,
          7.8713112033234065,
          8.057694194815587,
          8.867850063029406,
          9.266153436795395,
          9.097171673870545,
          9.752664662801545,
          9.55393007636626,
          9.177300517897983,
          9.39349491507403,
          9.30383071506352,
          9.526609901279876,
          9.896462937599164,
          8.575462099540212,
          8.417593826193484,
          8.313116702819253,
          8.513185170018698,
          9.108307646411031,
          9.328123407632566,
          8.53934599605737,
          8.951569643018821,
          9.400795428666859,
          10.494269726418045,
          10.413312675968536,
          10.596634733096073,
          10.043249494911286,
          9.748002649695733,
          9.314339961994667,
          9.56416124693201,
          10.111720491114584,
          9.464439807410837,
          10.100081768616802,
          10.416939723904,
          8.148734808937169,
          8.190077049719049,
          8.192847134592865,
          8.131236549696116,
          8.191463051326927,
          8.175547596021026,
          8.297792626380861,
          8.195609567288775,
          8.83200393125627,
          8.237479288613633,
          8.108623268354595,
          8.169336395928386,
          8.076515327552329,
          8.053887083618223,
          8.163656176168432,
          8.078688229229872,
          7.984462732262196,
          7.95892649305011,
          7.957177323459475,
          7.912423121473705,
          8.037543185118697,
          8.19063168090354,
          8.039157390473237,
          8.002694162283937,
          8.17244681834278,
          8.084254106307318,
          8.036249942132116,
          8.188133414510478,
          8.10892415597534,
          8.172164452111904,
          9.504501410525673,
          9.953229644430943,
          9.814109741384911,
          9.583282288378786,
          9.38429367909962,
          9.096499555552423,
          9.46591239050973,
          9.597777277564957,
          8.951958168569265,
          9.471473109194427,
          10.294177375062137,
          9.09884999594282,
          9.551089165364656,
          9.704426671737876,
          10.12942719115234,
          10.264652401747712,
          10.171221987178212,
          9.909469624213676,
          9.474472303967703,
          10.54006438160768,
          10.142110674698724,
          9.355911495295402,
          9.447386828459384,
          8.657302899400882,
          9.096835671179361,
          8.893160828735379,
          9.899630122208823,
          10.180096038519288,
          9.76324799612154,
          9.145588494746486,
          8.180320874773685,
          8.160518247477505,
          8.363342466597977,
          10.165851817003619,
          8.1886891244442,
          8.192570471152173,
          9.798127036878302,
          9.305650551780507,
          9.400960731584833,
          10.106020149946213,
          7.9483852851118995,
          7.97728198675515,
          8.137103389639302,
          8.076515327552329,
          8.146998697389993,
          7.968665700466235,
          7.995643604287271,
          8.155936337972394,
          7.9294865233142895,
          8.167068178341237,
          8.149601735736155,
          8.088561805276234,
          8.004365564979574,
          8.074649075066652,
          8.167068178341237,
          8.188133414510478,
          8.052614818815567,
          8.159374736775426,
          8.10892415597534,
          8.149890544402423,
          9.728538750071586,
          9.660141293904399,
          9.614604759507829,
          9.498522319469615,
          9.816839745810455,
          9.899479531138589,
          10.086642095633975,
          10.047241516180824,
          9.793672686528922,
          9.870964360830568,
          10.014581600041716,
          9.211539652551664,
          9.479527461791719,
          9.99934303817965,
          10.439688482633347,
          10.387763841068582,
          9.139917907679637,
          9.87302834505142,
          9.749170192151771,
          9.017968479328726,
          10.072301625971582,
          9.453208116138121,
          9.146654820290049,
          10.06219924369095,
          9.728360056322414,
          9.838095333769076,
          9.199481628641307,
          9.299266581170585,
          10.047371422864705,
          9.986817160123133,
          10.091832598307642,
          10.551480451088963,
          10.388656849488333,
          10.230594644192365,
          9.99442454752823,
          10.56977727892619,
          10.33653540173002,
          9.085797036901582,
          9.13075589263334,
          10.542231344216686
         ],
         "y": [
          -1.7719568419318752,
          -1.869504817852908,
          -2.282782465697866,
          -1.8325814637483102,
          -2.2730262907525014,
          -2.2072749131897207,
          -2.0635681925235456,
          -2.3434070875143007,
          -2.2072749131897207,
          -2.0402208285265546,
          -0.6733445532637656,
          -0.9779002135058463,
          -1.6296406197516198,
          -0.9339456671128757,
          -1.9661128563728327,
          -1.4271163556401458,
          -1.8325814637483102,
          -0.7550225842780328,
          -1.6260755535871236,
          -1.0469690555162714,
          -4.779523573132869,
          -4.394909260504895,
          -4.509860006183766,
          -4.605170185988091,
          -4.268697949366879,
          -4.621299567917975,
          -4.6356293934728,
          -4.358310108056566,
          -4.509860006183766,
          -4.3428059215206005,
          2.3608540011180215,
          1.840549633397487,
          1.9740810260220096,
          1.0612565021243408,
          -0.10536051565782628,
          0.5877866649021191,
          0.11332868530700327,
          -0.020202707317519466,
          0.10074990310014315,
          -0.01005033585350145,
          2.9444389791664403,
          3.1354942159291497,
          4.477336814478207,
          2.833213344056216,
          3.2188758248682006,
          3.367295829986474,
          3.8066624897703196,
          4.48863636973214,
          4.430816798843313,
          3.258096538021482,
          7.326465613840322,
          7.138866999945524,
          7.075808863978387,
          7.4073177104694174,
          7.188412736496954,
          7.207118856207756,
          7.422373700986824,
          7.157735484249907,
          6.86171134048073,
          7.343426229147367,
          -2.864704011147587,
          -1.6607312068216509,
          -2.364460496712133,
          -2.388142981355692,
          -2.1541650878757723,
          -2.0249533563957662,
          -2.375155785828881,
          -2.3957974747162245,
          -2.137070654516472,
          -2.120263536200091,
          -1.2982834837971773,
          -0.9675840262617056,
          -1.7147984280919266,
          -1.0498221244986778,
          -1.2344320118106447,
          -1.0498221244986778,
          -1.4271163556401458,
          -1.18090753139494,
          -2.322787800311565,
          -1.8263509139976741,
          -4.422848629194137,
          -4.688551794927142,
          -4.656463480375642,
          -4.199705077879927,
          -4.721704002244043,
          -4.518992489747039,
          -4.688551794927142,
          -4.744432253321599,
          -4.719459332390219,
          -4.3351430487750315,
          -0.09431067947124129,
          -0.14502577205025774,
          -0.2294131643278051,
          0.12221763272424911,
          0.9669838461896731,
          1.9430489167742813,
          -0.13238918804574562,
          0.29266961396282004,
          1.9473377010464987,
          2.322387720290225,
          2.4849066497880004,
          2.6390573296152584,
          3.58351893845611,
          4.418840607796598,
          2.4849066497880004,
          3.7376696182833684,
          4.143134726391533,
          3.58351893845611,
          4.04305126783455,
          4.204692619390966,
          7.161622002939187,
          7.024649030453636,
          7.399398083331354,
          7.303843225277705,
          7.3277805384216315,
          7.188412736496954,
          7.335633981927201,
          6.775366090936392,
          7.2909747781429814,
          7.188412736496954,
          -2.3947003819018513,
          -2.32687778556309,
          -2.2072749131897207,
          -2.3730075572905913,
          -2.2164073967529934,
          -2.111964733385396,
          -2.3730075572905913,
          -2.4090573375045627,
          -2.5484856314308715,
          -2.4580699958344407,
          -0.709276562489829,
          -0.9675840262617056,
          -1.171182981502945,
          -1.0788096613719298,
          -0.4780358009429998,
          -0.31471074483970024,
          -1.4271163556401458,
          -0.579818495252942,
          -1.0788096613719298,
          -1.3625778345025745,
          -4.624353005404865,
          -4.491841500681089,
          -4.673449026741386,
          -4.63356966050979,
          -4.712755396668029,
          -4.734140567285052,
          -4.6617405374764855,
          -4.719459332390219,
          -4.735278871335112,
          -4.60917820738563,
          1.7950872593207297,
          0.9110771648212677,
          1.7483299113007191,
          1.7369512327330598,
          1.7783364488959144,
          1.8562979903656263,
          1.7029282555214393,
          1.9139771019523042,
          1.8261608959453874,
          1.925707441737794,
          4.04305126783455,
          3.58351893845611,
          4.418840607796598,
          4.574710978503383,
          3.5553480614894135,
          3.1780538303479458,
          4.290459441148391,
          3.6635616461296463,
          3.4011973816621555,
          3.1780538303479458,
          7.299797366758161,
          7.258412150595307,
          7.181591944611865,
          7.425953657077541,
          7.081708586105575,
          7.347943823148687,
          6.951772164398911,
          7.483806687665835,
          6.563714472860972,
          7.033947304219897,
          -2.3914163067006613,
          -2.1541650878757723,
          -2.071473372030659,
          -2.3156703325427013,
          -2.560061323388761,
          -2.3299562897901778,
          -2.1286317858706076,
          -2.304587095664719,
          -2.1892564076870427,
          -2.047942874620465,
          -1.9105430052180221,
          -0.7765287894989963,
          -1.2729656758128873,
          -0.9728610833625494,
          -1.1425641761972924,
          -0.40047756659712525,
          -1.3547956940605197,
          -1.0906441190189327,
          -0.7528971849657193,
          -0.3930425881096072,
          -4.414549826379441,
          -4.474141923581687,
          -4.482952553263842,
          -4.456750180869818,
          -4.390058806371146,
          -4.254513314374922,
          -4.3661532855175915,
          -4.56594947283481,
          -4.546901277864116,
          -4.607172188658764,
          1.8500283773520307,
          1.7674667766590104,
          1.7904252462149184,
          1.8931119634883424,
          1.8547342683894434,
          1.8304992975439855,
          0.6471032420585384,
          1.7967470107390942,
          1.7321863776931536,
          0.6575200029167941,
          3.5553480614894135,
          4.330733340286331,
          4.584967478670572,
          4.394449154672439,
          4.127134385045092,
          3.828641396489095,
          4.382026634673881,
          3.2188758248682006,
          4.454347296253507,
          4.5217885770490405,
          7.309212365692763,
          7.212294468500341,
          7.574815124778764,
          7.132497551660044,
          7.029972911706386,
          7.212294468500341,
          7.085064293952548,
          7.260522598089852,
          7.013915474810528,
          7.48605261786314
         ],
         "z": [
          -6.032286541628237,
          -7.600902459542082,
          -8.111728083308073,
          -8.517193191416238,
          -8.88825687280707,
          -7.338538195074591,
          -7.222466023821838,
          -7.824046010856292,
          -7.278818960372969,
          -8.622553707074063,
          -5.843044541989709,
          -4.406319327242926,
          -7.824046010856292,
          -5.2030071867437115,
          -7.418580902748128,
          -5.572754212249797,
          -6.319968614080018,
          -5.607563616915658,
          -5.621281253144457,
          -3.2441936328524905,
          -2.8824035882469876,
          -7.621105166859602,
          -8.679712120914012,
          -7.600902459542082,
          -4.3428059215206005,
          -9.372859301473957,
          -7.1184763102977895,
          -9.115030192171858,
          -8.804875263868018,
          -9.433483923290392,
          12.225875272826354,
          10.269518591398885,
          7.035268599281097,
          4.30406509320417,
          -0.21072103131565253,
          2.163323025660538,
          0.3576744442718159,
          0.30010459245033816,
          0.30527638085273207,
          -0.1996711951290677,
          12.206072645530174,
          12.736700896592344,
          11.918390573078392,
          12.180754837545884,
          12.542544882151386,
          12.676076274775909,
          11.719939634354555,
          12.206072645530174,
          12.122691036591123,
          12.301382825334498,
          12.506177237980511,
          12.553202176625375,
          12.513557345278134,
          13.217673557208654,
          12.644327576461329,
          12.479909311159902,
          12.802158113246987,
          12.066810578196666,
          12.250089530946948,
          12.180754837545884,
          -5.184988681241033,
          -7.308232845579262,
          -8.334871634622283,
          -7.986564940354067,
          -8.87386813535497,
          -6.927957986299656,
          -8.047189562170502,
          -6.927957986299656,
          -7.929406526514119,
          -7.236259345954173,
          -3.863232841258714,
          -3.816712825623821,
          -4.767689115485866,
          -4.733003557497976,
          -5.521460917862246,
          -6.907755278982137,
          -5.683979847360021,
          -6.502290170873972,
          -7.418580902748128,
          -6.607650686531799,
          -8.145629634983754,
          -8.87386813535497,
          -7.487573774235079,
          -6.927957986299656,
          -7.308232845579262,
          -7.706262975199909,
          -7.156216638280637,
          -7.208860371766058,
          -8.622553707074063,
          -6.812445099177812,
          -0.527632742082372,
          -1.8773173575897015,
          -2.4651040224918206,
          -1.030019497202498,
          3.8066624897703196,
          6.51025834052315,
          -0.4620354595965587,
          2.0693912058263346,
          6.535241271013659,
          12.196022309676673,
          12.388394202324129,
          13.608486388529947,
          11.751942365440728,
          12.367340793126296,
          11.626254150277232,
          12.35017298950393,
          12.802158113246987,
          12.122691036591123,
          11.863582336583399,
          12.771386454580234,
          11.512925464970229,
          11.744037185933616,
          12.206072645530174,
          11.669929213779893,
          11.790557201568507,
          11.884489021402711,
          12.54966234992025,
          11.211820372186306,
          12.341477282536376,
          12.206072645530174,
          -7.751725349276666,
          -6.980325971816972,
          -7.523941418405954,
          -8.804875263868018,
          -7.354042381610556,
          -7.182192124683898,
          -7.047017346315645,
          -8.568486485803788,
          -7.017570144989343,
          -7.735577362868684,
          -8.568486485803788,
          -8.377431249041079,
          -4.8283137373023015,
          -4.744432253321599,
          -7.013115794639964,
          -6.074846156047033,
          -4.815891217303744,
          -6.812445099177812,
          -5.683979847360021,
          -6.645391014514646,
          -7.435388021064509,
          -6.502290170873972,
          -6.645391014514646,
          -7.106206217705975,
          -7.308232845579262,
          -8.180720954795024,
          -7.250245587928913,
          -9.115030192171858,
          -8.87386813535497,
          -7.035588650492022,
          12.144197241812087,
          3.6375861597263857,
          6.9957661563048505,
          7.15305163493748,
          9.581903928408666,
          9.728538750071586,
          9.583282288378786,
          8.459564078579602,
          6.905753276311464,
          12.220468525813907,
          12.314927050442256,
          12.43320821811392,
          13.021437458814368,
          12.409013489526863,
          12.384218830913648,
          11.782952602183288,
          11.931635799828413,
          12.196022309676673,
          12.745194138451012,
          12.95871439787576,
          12.676076274775909,
          11.835008964139341,
          13.353475098367715,
          12.66349749256905,
          12.388394202324129,
          11.884489021402711,
          12.206072645530174,
          12.043553716032399,
          11.695247021764184,
          12.42315788226042,
          -8.37309284744248,
          -7.368204695423061,
          -8.314252347419547,
          -7.701828378132043,
          -7.384179476030796,
          -7.951879382366177,
          -7.682112514967626,
          -7.50377574881136,
          -7.071451371652927,
          -6.95170716651132,
          -5.240048458424061,
          -6.032286541628237,
          -4.933674252960127,
          -6.437751649736401,
          -5.221356325411908,
          -5.914503505971854,
          -6.630123542383857,
          -6.684611727667927,
          -5.035953102080546,
          -5.914503505971854,
          -6.571283042360924,
          -6.708904420236972,
          -6.7422408405045635,
          -6.821577582741084,
          -6.615085665019317,
          -6.4630694577206915,
          -6.444021262749997,
          -6.630123542383857,
          -6.803395263657894,
          -6.684611727667927,
          9.429475901892854,
          6.313548046277095,
          6.669498089857879,
          8.817001443665859,
          12.197031900878025,
          12.065660491813428,
          3.367295829986474,
          9.298351249298896,
          6.78332520060396,
          2.224623551524334,
          12.406111323129286,
          12.714455287645025,
          12.745310783732842,
          13.194553797944819,
          12.416049900312624,
          12.322877425072258,
          13.294466234003952,
          13.572075009632053,
          12.759440383561834,
          13.526347389230695,
          12.85577199123336,
          12.5166041695796,
          13.382309335509305,
          13.652309042616597,
          13.525813122699134,
          12.834227868832594,
          13.634039039785106,
          13.194671015643337,
          12.911494186965507,
          12.594401767691604
         ]
        }
       ],
       "layout": {
        "coloraxis": {
         "colorbar": {
          "title": {
           "text": "color"
          }
         },
         "colorscale": [
          [
           0,
           "#0d0887"
          ],
          [
           0.1111111111111111,
           "#46039f"
          ],
          [
           0.2222222222222222,
           "#7201a8"
          ],
          [
           0.3333333333333333,
           "#9c179e"
          ],
          [
           0.4444444444444444,
           "#bd3786"
          ],
          [
           0.5555555555555556,
           "#d8576b"
          ],
          [
           0.6666666666666666,
           "#ed7953"
          ],
          [
           0.7777777777777778,
           "#fb9f3a"
          ],
          [
           0.8888888888888888,
           "#fdca26"
          ],
          [
           1,
           "#f0f921"
          ]
         ]
        },
        "legend": {
         "tracegroupgap": 0
        },
        "margin": {
         "t": 60
        },
        "scene": {
         "domain": {
          "x": [
           0,
           1
          ],
          "y": [
           0,
           1
          ]
         },
         "xaxis": {
          "title": {
           "text": "Temperature (K)"
          }
         },
         "yaxis": {
          "title": {
           "text": "Radius(R/Ro)"
          }
         },
         "zaxis": {
          "title": {
           "text": "Luminosity(L/Lo)"
          }
         }
        },
        "template": {
         "data": {
          "bar": [
           {
            "error_x": {
             "color": "#2a3f5f"
            },
            "error_y": {
             "color": "#2a3f5f"
            },
            "marker": {
             "line": {
              "color": "#E5ECF6",
              "width": 0.5
             },
             "pattern": {
              "fillmode": "overlay",
              "size": 10,
              "solidity": 0.2
             }
            },
            "type": "bar"
           }
          ],
          "barpolar": [
           {
            "marker": {
             "line": {
              "color": "#E5ECF6",
              "width": 0.5
             },
             "pattern": {
              "fillmode": "overlay",
              "size": 10,
              "solidity": 0.2
             }
            },
            "type": "barpolar"
           }
          ],
          "carpet": [
           {
            "aaxis": {
             "endlinecolor": "#2a3f5f",
             "gridcolor": "white",
             "linecolor": "white",
             "minorgridcolor": "white",
             "startlinecolor": "#2a3f5f"
            },
            "baxis": {
             "endlinecolor": "#2a3f5f",
             "gridcolor": "white",
             "linecolor": "white",
             "minorgridcolor": "white",
             "startlinecolor": "#2a3f5f"
            },
            "type": "carpet"
           }
          ],
          "choropleth": [
           {
            "colorbar": {
             "outlinewidth": 0,
             "ticks": ""
            },
            "type": "choropleth"
           }
          ],
          "contour": [
           {
            "colorbar": {
             "outlinewidth": 0,
             "ticks": ""
            },
            "colorscale": [
             [
              0,
              "#0d0887"
             ],
             [
              0.1111111111111111,
              "#46039f"
             ],
             [
              0.2222222222222222,
              "#7201a8"
             ],
             [
              0.3333333333333333,
              "#9c179e"
             ],
             [
              0.4444444444444444,
              "#bd3786"
             ],
             [
              0.5555555555555556,
              "#d8576b"
             ],
             [
              0.6666666666666666,
              "#ed7953"
             ],
             [
              0.7777777777777778,
              "#fb9f3a"
             ],
             [
              0.8888888888888888,
              "#fdca26"
             ],
             [
              1,
              "#f0f921"
             ]
            ],
            "type": "contour"
           }
          ],
          "contourcarpet": [
           {
            "colorbar": {
             "outlinewidth": 0,
             "ticks": ""
            },
            "type": "contourcarpet"
           }
          ],
          "heatmap": [
           {
            "colorbar": {
             "outlinewidth": 0,
             "ticks": ""
            },
            "colorscale": [
             [
              0,
              "#0d0887"
             ],
             [
              0.1111111111111111,
              "#46039f"
             ],
             [
              0.2222222222222222,
              "#7201a8"
             ],
             [
              0.3333333333333333,
              "#9c179e"
             ],
             [
              0.4444444444444444,
              "#bd3786"
             ],
             [
              0.5555555555555556,
              "#d8576b"
             ],
             [
              0.6666666666666666,
              "#ed7953"
             ],
             [
              0.7777777777777778,
              "#fb9f3a"
             ],
             [
              0.8888888888888888,
              "#fdca26"
             ],
             [
              1,
              "#f0f921"
             ]
            ],
            "type": "heatmap"
           }
          ],
          "heatmapgl": [
           {
            "colorbar": {
             "outlinewidth": 0,
             "ticks": ""
            },
            "colorscale": [
             [
              0,
              "#0d0887"
             ],
             [
              0.1111111111111111,
              "#46039f"
             ],
             [
              0.2222222222222222,
              "#7201a8"
             ],
             [
              0.3333333333333333,
              "#9c179e"
             ],
             [
              0.4444444444444444,
              "#bd3786"
             ],
             [
              0.5555555555555556,
              "#d8576b"
             ],
             [
              0.6666666666666666,
              "#ed7953"
             ],
             [
              0.7777777777777778,
              "#fb9f3a"
             ],
             [
              0.8888888888888888,
              "#fdca26"
             ],
             [
              1,
              "#f0f921"
             ]
            ],
            "type": "heatmapgl"
           }
          ],
          "histogram": [
           {
            "marker": {
             "pattern": {
              "fillmode": "overlay",
              "size": 10,
              "solidity": 0.2
             }
            },
            "type": "histogram"
           }
          ],
          "histogram2d": [
           {
            "colorbar": {
             "outlinewidth": 0,
             "ticks": ""
            },
            "colorscale": [
             [
              0,
              "#0d0887"
             ],
             [
              0.1111111111111111,
              "#46039f"
             ],
             [
              0.2222222222222222,
              "#7201a8"
             ],
             [
              0.3333333333333333,
              "#9c179e"
             ],
             [
              0.4444444444444444,
              "#bd3786"
             ],
             [
              0.5555555555555556,
              "#d8576b"
             ],
             [
              0.6666666666666666,
              "#ed7953"
             ],
             [
              0.7777777777777778,
              "#fb9f3a"
             ],
             [
              0.8888888888888888,
              "#fdca26"
             ],
             [
              1,
              "#f0f921"
             ]
            ],
            "type": "histogram2d"
           }
          ],
          "histogram2dcontour": [
           {
            "colorbar": {
             "outlinewidth": 0,
             "ticks": ""
            },
            "colorscale": [
             [
              0,
              "#0d0887"
             ],
             [
              0.1111111111111111,
              "#46039f"
             ],
             [
              0.2222222222222222,
              "#7201a8"
             ],
             [
              0.3333333333333333,
              "#9c179e"
             ],
             [
              0.4444444444444444,
              "#bd3786"
             ],
             [
              0.5555555555555556,
              "#d8576b"
             ],
             [
              0.6666666666666666,
              "#ed7953"
             ],
             [
              0.7777777777777778,
              "#fb9f3a"
             ],
             [
              0.8888888888888888,
              "#fdca26"
             ],
             [
              1,
              "#f0f921"
             ]
            ],
            "type": "histogram2dcontour"
           }
          ],
          "mesh3d": [
           {
            "colorbar": {
             "outlinewidth": 0,
             "ticks": ""
            },
            "type": "mesh3d"
           }
          ],
          "parcoords": [
           {
            "line": {
             "colorbar": {
              "outlinewidth": 0,
              "ticks": ""
             }
            },
            "type": "parcoords"
           }
          ],
          "pie": [
           {
            "automargin": true,
            "type": "pie"
           }
          ],
          "scatter": [
           {
            "fillpattern": {
             "fillmode": "overlay",
             "size": 10,
             "solidity": 0.2
            },
            "type": "scatter"
           }
          ],
          "scatter3d": [
           {
            "line": {
             "colorbar": {
              "outlinewidth": 0,
              "ticks": ""
             }
            },
            "marker": {
             "colorbar": {
              "outlinewidth": 0,
              "ticks": ""
             }
            },
            "type": "scatter3d"
           }
          ],
          "scattercarpet": [
           {
            "marker": {
             "colorbar": {
              "outlinewidth": 0,
              "ticks": ""
             }
            },
            "type": "scattercarpet"
           }
          ],
          "scattergeo": [
           {
            "marker": {
             "colorbar": {
              "outlinewidth": 0,
              "ticks": ""
             }
            },
            "type": "scattergeo"
           }
          ],
          "scattergl": [
           {
            "marker": {
             "colorbar": {
              "outlinewidth": 0,
              "ticks": ""
             }
            },
            "type": "scattergl"
           }
          ],
          "scattermapbox": [
           {
            "marker": {
             "colorbar": {
              "outlinewidth": 0,
              "ticks": ""
             }
            },
            "type": "scattermapbox"
           }
          ],
          "scatterpolar": [
           {
            "marker": {
             "colorbar": {
              "outlinewidth": 0,
              "ticks": ""
             }
            },
            "type": "scatterpolar"
           }
          ],
          "scatterpolargl": [
           {
            "marker": {
             "colorbar": {
              "outlinewidth": 0,
              "ticks": ""
             }
            },
            "type": "scatterpolargl"
           }
          ],
          "scatterternary": [
           {
            "marker": {
             "colorbar": {
              "outlinewidth": 0,
              "ticks": ""
             }
            },
            "type": "scatterternary"
           }
          ],
          "surface": [
           {
            "colorbar": {
             "outlinewidth": 0,
             "ticks": ""
            },
            "colorscale": [
             [
              0,
              "#0d0887"
             ],
             [
              0.1111111111111111,
              "#46039f"
             ],
             [
              0.2222222222222222,
              "#7201a8"
             ],
             [
              0.3333333333333333,
              "#9c179e"
             ],
             [
              0.4444444444444444,
              "#bd3786"
             ],
             [
              0.5555555555555556,
              "#d8576b"
             ],
             [
              0.6666666666666666,
              "#ed7953"
             ],
             [
              0.7777777777777778,
              "#fb9f3a"
             ],
             [
              0.8888888888888888,
              "#fdca26"
             ],
             [
              1,
              "#f0f921"
             ]
            ],
            "type": "surface"
           }
          ],
          "table": [
           {
            "cells": {
             "fill": {
              "color": "#EBF0F8"
             },
             "line": {
              "color": "white"
             }
            },
            "header": {
             "fill": {
              "color": "#C8D4E3"
             },
             "line": {
              "color": "white"
             }
            },
            "type": "table"
           }
          ]
         },
         "layout": {
          "annotationdefaults": {
           "arrowcolor": "#2a3f5f",
           "arrowhead": 0,
           "arrowwidth": 1
          },
          "autotypenumbers": "strict",
          "coloraxis": {
           "colorbar": {
            "outlinewidth": 0,
            "ticks": ""
           }
          },
          "colorscale": {
           "diverging": [
            [
             0,
             "#8e0152"
            ],
            [
             0.1,
             "#c51b7d"
            ],
            [
             0.2,
             "#de77ae"
            ],
            [
             0.3,
             "#f1b6da"
            ],
            [
             0.4,
             "#fde0ef"
            ],
            [
             0.5,
             "#f7f7f7"
            ],
            [
             0.6,
             "#e6f5d0"
            ],
            [
             0.7,
             "#b8e186"
            ],
            [
             0.8,
             "#7fbc41"
            ],
            [
             0.9,
             "#4d9221"
            ],
            [
             1,
             "#276419"
            ]
           ],
           "sequential": [
            [
             0,
             "#0d0887"
            ],
            [
             0.1111111111111111,
             "#46039f"
            ],
            [
             0.2222222222222222,
             "#7201a8"
            ],
            [
             0.3333333333333333,
             "#9c179e"
            ],
            [
             0.4444444444444444,
             "#bd3786"
            ],
            [
             0.5555555555555556,
             "#d8576b"
            ],
            [
             0.6666666666666666,
             "#ed7953"
            ],
            [
             0.7777777777777778,
             "#fb9f3a"
            ],
            [
             0.8888888888888888,
             "#fdca26"
            ],
            [
             1,
             "#f0f921"
            ]
           ],
           "sequentialminus": [
            [
             0,
             "#0d0887"
            ],
            [
             0.1111111111111111,
             "#46039f"
            ],
            [
             0.2222222222222222,
             "#7201a8"
            ],
            [
             0.3333333333333333,
             "#9c179e"
            ],
            [
             0.4444444444444444,
             "#bd3786"
            ],
            [
             0.5555555555555556,
             "#d8576b"
            ],
            [
             0.6666666666666666,
             "#ed7953"
            ],
            [
             0.7777777777777778,
             "#fb9f3a"
            ],
            [
             0.8888888888888888,
             "#fdca26"
            ],
            [
             1,
             "#f0f921"
            ]
           ]
          },
          "colorway": [
           "#636efa",
           "#EF553B",
           "#00cc96",
           "#ab63fa",
           "#FFA15A",
           "#19d3f3",
           "#FF6692",
           "#B6E880",
           "#FF97FF",
           "#FECB52"
          ],
          "font": {
           "color": "#2a3f5f"
          },
          "geo": {
           "bgcolor": "white",
           "lakecolor": "white",
           "landcolor": "#E5ECF6",
           "showlakes": true,
           "showland": true,
           "subunitcolor": "white"
          },
          "hoverlabel": {
           "align": "left"
          },
          "hovermode": "closest",
          "mapbox": {
           "style": "light"
          },
          "paper_bgcolor": "white",
          "plot_bgcolor": "#E5ECF6",
          "polar": {
           "angularaxis": {
            "gridcolor": "white",
            "linecolor": "white",
            "ticks": ""
           },
           "bgcolor": "#E5ECF6",
           "radialaxis": {
            "gridcolor": "white",
            "linecolor": "white",
            "ticks": ""
           }
          },
          "scene": {
           "xaxis": {
            "backgroundcolor": "#E5ECF6",
            "gridcolor": "white",
            "gridwidth": 2,
            "linecolor": "white",
            "showbackground": true,
            "ticks": "",
            "zerolinecolor": "white"
           },
           "yaxis": {
            "backgroundcolor": "#E5ECF6",
            "gridcolor": "white",
            "gridwidth": 2,
            "linecolor": "white",
            "showbackground": true,
            "ticks": "",
            "zerolinecolor": "white"
           },
           "zaxis": {
            "backgroundcolor": "#E5ECF6",
            "gridcolor": "white",
            "gridwidth": 2,
            "linecolor": "white",
            "showbackground": true,
            "ticks": "",
            "zerolinecolor": "white"
           }
          },
          "shapedefaults": {
           "line": {
            "color": "#2a3f5f"
           }
          },
          "ternary": {
           "aaxis": {
            "gridcolor": "white",
            "linecolor": "white",
            "ticks": ""
           },
           "baxis": {
            "gridcolor": "white",
            "linecolor": "white",
            "ticks": ""
           },
           "bgcolor": "#E5ECF6",
           "caxis": {
            "gridcolor": "white",
            "linecolor": "white",
            "ticks": ""
           }
          },
          "title": {
           "x": 0.05
          },
          "xaxis": {
           "automargin": true,
           "gridcolor": "white",
           "linecolor": "white",
           "ticks": "",
           "title": {
            "standoff": 15
           },
           "zerolinecolor": "white",
           "zerolinewidth": 2
          },
          "yaxis": {
           "automargin": true,
           "gridcolor": "white",
           "linecolor": "white",
           "ticks": "",
           "title": {
            "standoff": 15
           },
           "zerolinecolor": "white",
           "zerolinewidth": 2
          }
         }
        }
       }
      }
     },
     "metadata": {},
     "output_type": "display_data"
    }
   ],
   "source": [
    "#plots to familiarize with the datasets \n",
    "import plotly.express as px\n",
    "\n",
    "fig = px.scatter_3d( x=np.log(dataset['Temperature (K)']), y=np.log(dataset['Radius(R/Ro)']), \n",
    "                        z=np.log(dataset[\"Luminosity(L/Lo)\"]),\n",
    "                        labels={\n",
    "                                \"x\": \"Temperature (K)\",\n",
    "                                \"y\": \"Radius(R/Ro)\",\n",
    "                                \"z\": \"Luminosity(L/Lo)\"\n",
    "                                },\n",
    "                        color=dataset['Star type'])\n",
    "fig.show()\n"
   ]
  },
  {
   "cell_type": "code",
   "execution_count": null,
   "metadata": {},
   "outputs": [
    {
     "data": {
      "application/vnd.plotly.v1+json": {
       "config": {
        "plotlyServerURL": "https://plot.ly"
       },
       "data": [
        {
         "customdata": [
          [
           0.17
          ],
          [
           0.1542
          ],
          [
           0.102
          ],
          [
           0.16
          ],
          [
           0.103
          ],
          [
           0.11
          ],
          [
           0.127
          ],
          [
           0.096
          ],
          [
           0.11
          ],
          [
           0.13
          ],
          [
           0.51
          ],
          [
           0.3761
          ],
          [
           0.196
          ],
          [
           0.393
          ],
          [
           0.14
          ],
          [
           0.24
          ],
          [
           0.16
          ],
          [
           0.47
          ],
          [
           0.1967
          ],
          [
           0.351
          ],
          [
           0.0084
          ],
          [
           0.01234
          ],
          [
           0.011
          ],
          [
           0.01
          ],
          [
           0.014
          ],
          [
           0.00984
          ],
          [
           0.0097
          ],
          [
           0.0128
          ],
          [
           0.011
          ],
          [
           0.013
          ],
          [
           10.6
          ],
          [
           6.3
          ],
          [
           7.2
          ],
          [
           2.89
          ],
          [
           0.9
          ],
          [
           1.8
          ],
          [
           1.12
          ],
          [
           0.98
          ],
          [
           1.106
          ],
          [
           0.99
          ],
          [
           19
          ],
          [
           23
          ],
          [
           88
          ],
          [
           17
          ],
          [
           25
          ],
          [
           29
          ],
          [
           45
          ],
          [
           89
          ],
          [
           84
          ],
          [
           26
          ],
          [
           1520
          ],
          [
           1260
          ],
          [
           1183
          ],
          [
           1648
          ],
          [
           1324
          ],
          [
           1349
          ],
          [
           1673
          ],
          [
           1284
          ],
          [
           955
          ],
          [
           1546
          ],
          [
           0.057
          ],
          [
           0.19
          ],
          [
           0.094
          ],
          [
           0.0918
          ],
          [
           0.116
          ],
          [
           0.132
          ],
          [
           0.093
          ],
          [
           0.0911
          ],
          [
           0.118
          ],
          [
           0.12
          ],
          [
           0.273
          ],
          [
           0.38
          ],
          [
           0.18
          ],
          [
           0.35
          ],
          [
           0.291
          ],
          [
           0.35
          ],
          [
           0.24
          ],
          [
           0.307
          ],
          [
           0.098
          ],
          [
           0.161
          ],
          [
           0.012
          ],
          [
           0.0092
          ],
          [
           0.0095
          ],
          [
           0.015
          ],
          [
           0.0089
          ],
          [
           0.0109
          ],
          [
           0.0092
          ],
          [
           0.0087
          ],
          [
           0.00892
          ],
          [
           0.0131
          ],
          [
           0.91
          ],
          [
           0.865
          ],
          [
           0.795
          ],
          [
           1.13
          ],
          [
           2.63
          ],
          [
           6.98
          ],
          [
           0.876
          ],
          [
           1.34
          ],
          [
           7.01
          ],
          [
           10.2
          ],
          [
           12
          ],
          [
           14
          ],
          [
           36
          ],
          [
           83
          ],
          [
           12
          ],
          [
           42
          ],
          [
           63
          ],
          [
           36
          ],
          [
           57
          ],
          [
           67
          ],
          [
           1289
          ],
          [
           1124
          ],
          [
           1635
          ],
          [
           1486
          ],
          [
           1522
          ],
          [
           1324
          ],
          [
           1534
          ],
          [
           876
          ],
          [
           1467
          ],
          [
           1324
          ],
          [
           0.0912
          ],
          [
           0.0976
          ],
          [
           0.11
          ],
          [
           0.0932
          ],
          [
           0.109
          ],
          [
           0.121
          ],
          [
           0.0932
          ],
          [
           0.0899
          ],
          [
           0.0782
          ],
          [
           0.0856
          ],
          [
           0.492
          ],
          [
           0.38
          ],
          [
           0.31
          ],
          [
           0.34
          ],
          [
           0.62
          ],
          [
           0.73
          ],
          [
           0.24
          ],
          [
           0.56
          ],
          [
           0.34
          ],
          [
           0.256
          ],
          [
           0.00981
          ],
          [
           0.0112
          ],
          [
           0.00934
          ],
          [
           0.00972
          ],
          [
           0.00898
          ],
          [
           0.00879
          ],
          [
           0.00945
          ],
          [
           0.00892
          ],
          [
           0.00878
          ],
          [
           0.00996
          ],
          [
           6.02
          ],
          [
           2.487
          ],
          [
           5.745
          ],
          [
           5.68
          ],
          [
           5.92
          ],
          [
           6.4
          ],
          [
           5.49
          ],
          [
           6.78
          ],
          [
           6.21
          ],
          [
           6.86
          ],
          [
           57
          ],
          [
           36
          ],
          [
           83
          ],
          [
           97
          ],
          [
           35
          ],
          [
           24
          ],
          [
           73
          ],
          [
           39
          ],
          [
           30
          ],
          [
           24
          ],
          [
           1480
          ],
          [
           1420
          ],
          [
           1315
          ],
          [
           1679
          ],
          [
           1190
          ],
          [
           1553
          ],
          [
           1045
          ],
          [
           1779
          ],
          [
           708.9
          ],
          [
           1134.5
          ],
          [
           0.0915
          ],
          [
           0.116
          ],
          [
           0.126
          ],
          [
           0.0987
          ],
          [
           0.0773
          ],
          [
           0.0973
          ],
          [
           0.119
          ],
          [
           0.0998
          ],
          [
           0.112
          ],
          [
           0.129
          ],
          [
           0.148
          ],
          [
           0.46
          ],
          [
           0.28
          ],
          [
           0.378
          ],
          [
           0.319
          ],
          [
           0.67
          ],
          [
           0.258
          ],
          [
           0.336
          ],
          [
           0.471
          ],
          [
           0.675
          ],
          [
           0.0121
          ],
          [
           0.0114
          ],
          [
           0.0113
          ],
          [
           0.0116
          ],
          [
           0.0124
          ],
          [
           0.0142
          ],
          [
           0.0127
          ],
          [
           0.0104
          ],
          [
           0.0106
          ],
          [
           0.00998
          ],
          [
           6.36
          ],
          [
           5.856
          ],
          [
           5.992
          ],
          [
           6.64
          ],
          [
           6.39
          ],
          [
           6.237
          ],
          [
           1.91
          ],
          [
           6.03
          ],
          [
           5.653
          ],
          [
           1.93
          ],
          [
           35
          ],
          [
           76
          ],
          [
           98
          ],
          [
           81
          ],
          [
           62
          ],
          [
           46
          ],
          [
           80
          ],
          [
           25
          ],
          [
           86
          ],
          [
           92
          ],
          [
           1494
          ],
          [
           1356
          ],
          [
           1948.5
          ],
          [
           1252
          ],
          [
           1130
          ],
          [
           1356
          ],
          [
           1194
          ],
          [
           1423
          ],
          [
           1112
          ],
          [
           1783
          ]
         ],
         "hovertemplate": "Temperature (K)=%{x}<br>Radius(R/Ro)=%{customdata[0]}<br>size=%{marker.size}<br>Star type=%{marker.color}<extra></extra>",
         "legendgroup": "",
         "marker": {
          "color": [
           0,
           0,
           0,
           0,
           0,
           0,
           0,
           0,
           0,
           0,
           1,
           1,
           1,
           1,
           1,
           1,
           1,
           1,
           1,
           1,
           2,
           2,
           2,
           2,
           2,
           2,
           2,
           2,
           2,
           2,
           3,
           3,
           3,
           3,
           3,
           3,
           3,
           3,
           3,
           3,
           4,
           4,
           4,
           4,
           4,
           4,
           4,
           4,
           4,
           4,
           5,
           5,
           5,
           5,
           5,
           5,
           5,
           5,
           5,
           5,
           0,
           0,
           0,
           0,
           0,
           0,
           0,
           0,
           0,
           0,
           1,
           1,
           1,
           1,
           1,
           1,
           1,
           1,
           1,
           1,
           2,
           2,
           2,
           2,
           2,
           2,
           2,
           2,
           2,
           2,
           3,
           3,
           3,
           3,
           3,
           3,
           3,
           3,
           3,
           3,
           4,
           4,
           4,
           4,
           4,
           4,
           4,
           4,
           4,
           4,
           5,
           5,
           5,
           5,
           5,
           5,
           5,
           5,
           5,
           5,
           0,
           0,
           0,
           0,
           0,
           0,
           0,
           0,
           0,
           0,
           1,
           1,
           1,
           1,
           1,
           1,
           1,
           1,
           1,
           1,
           2,
           2,
           2,
           2,
           2,
           2,
           2,
           2,
           2,
           2,
           3,
           3,
           3,
           3,
           3,
           3,
           3,
           3,
           3,
           3,
           4,
           4,
           4,
           4,
           4,
           4,
           4,
           4,
           4,
           4,
           5,
           5,
           5,
           5,
           5,
           5,
           5,
           5,
           5,
           5,
           0,
           0,
           0,
           0,
           0,
           0,
           0,
           0,
           0,
           0,
           1,
           1,
           1,
           1,
           1,
           1,
           1,
           1,
           1,
           1,
           2,
           2,
           2,
           2,
           2,
           2,
           2,
           2,
           2,
           2,
           3,
           3,
           3,
           3,
           3,
           3,
           3,
           3,
           3,
           3,
           4,
           4,
           4,
           4,
           4,
           4,
           4,
           4,
           4,
           4,
           5,
           5,
           5,
           5,
           5,
           5,
           5,
           5,
           5,
           5
          ],
          "coloraxis": "coloraxis",
          "size": [
           1.7719568419318752,
           1.869504817852908,
           2.282782465697866,
           1.8325814637483102,
           2.2730262907525014,
           2.2072749131897207,
           2.0635681925235456,
           2.3434070875143007,
           2.2072749131897207,
           2.0402208285265546,
           0.6733445532637656,
           0.9779002135058463,
           1.6296406197516198,
           0.9339456671128757,
           1.9661128563728327,
           1.4271163556401458,
           1.8325814637483102,
           0.7550225842780328,
           1.6260755535871236,
           1.0469690555162714,
           4.779523573132869,
           4.394909260504895,
           4.509860006183766,
           4.605170185988091,
           4.268697949366879,
           4.621299567917975,
           4.6356293934728,
           4.358310108056566,
           4.509860006183766,
           4.3428059215206005,
           2.3608540011180215,
           1.840549633397487,
           1.9740810260220096,
           1.0612565021243408,
           0.10536051565782628,
           0.5877866649021191,
           0.11332868530700327,
           0.020202707317519466,
           0.10074990310014315,
           0.01005033585350145,
           2.9444389791664403,
           3.1354942159291497,
           4.477336814478207,
           2.833213344056216,
           3.2188758248682006,
           3.367295829986474,
           3.8066624897703196,
           4.48863636973214,
           4.430816798843313,
           3.258096538021482,
           7.326465613840322,
           7.138866999945524,
           7.075808863978387,
           7.4073177104694174,
           7.188412736496954,
           7.207118856207756,
           7.422373700986824,
           7.157735484249907,
           6.86171134048073,
           7.343426229147367,
           2.864704011147587,
           1.6607312068216509,
           2.364460496712133,
           2.388142981355692,
           2.1541650878757723,
           2.0249533563957662,
           2.375155785828881,
           2.3957974747162245,
           2.137070654516472,
           2.120263536200091,
           1.2982834837971773,
           0.9675840262617056,
           1.7147984280919266,
           1.0498221244986778,
           1.2344320118106447,
           1.0498221244986778,
           1.4271163556401458,
           1.18090753139494,
           2.322787800311565,
           1.8263509139976741,
           4.422848629194137,
           4.688551794927142,
           4.656463480375642,
           4.199705077879927,
           4.721704002244043,
           4.518992489747039,
           4.688551794927142,
           4.744432253321599,
           4.719459332390219,
           4.3351430487750315,
           0.09431067947124129,
           0.14502577205025774,
           0.2294131643278051,
           0.12221763272424911,
           0.9669838461896731,
           1.9430489167742813,
           0.13238918804574562,
           0.29266961396282004,
           1.9473377010464987,
           2.322387720290225,
           2.4849066497880004,
           2.6390573296152584,
           3.58351893845611,
           4.418840607796598,
           2.4849066497880004,
           3.7376696182833684,
           4.143134726391533,
           3.58351893845611,
           4.04305126783455,
           4.204692619390966,
           7.161622002939187,
           7.024649030453636,
           7.399398083331354,
           7.303843225277705,
           7.3277805384216315,
           7.188412736496954,
           7.335633981927201,
           6.775366090936392,
           7.2909747781429814,
           7.188412736496954,
           2.3947003819018513,
           2.32687778556309,
           2.2072749131897207,
           2.3730075572905913,
           2.2164073967529934,
           2.111964733385396,
           2.3730075572905913,
           2.4090573375045627,
           2.5484856314308715,
           2.4580699958344407,
           0.709276562489829,
           0.9675840262617056,
           1.171182981502945,
           1.0788096613719298,
           0.4780358009429998,
           0.31471074483970024,
           1.4271163556401458,
           0.579818495252942,
           1.0788096613719298,
           1.3625778345025745,
           4.624353005404865,
           4.491841500681089,
           4.673449026741386,
           4.63356966050979,
           4.712755396668029,
           4.734140567285052,
           4.6617405374764855,
           4.719459332390219,
           4.735278871335112,
           4.60917820738563,
           1.7950872593207297,
           0.9110771648212677,
           1.7483299113007191,
           1.7369512327330598,
           1.7783364488959144,
           1.8562979903656263,
           1.7029282555214393,
           1.9139771019523042,
           1.8261608959453874,
           1.925707441737794,
           4.04305126783455,
           3.58351893845611,
           4.418840607796598,
           4.574710978503383,
           3.5553480614894135,
           3.1780538303479458,
           4.290459441148391,
           3.6635616461296463,
           3.4011973816621555,
           3.1780538303479458,
           7.299797366758161,
           7.258412150595307,
           7.181591944611865,
           7.425953657077541,
           7.081708586105575,
           7.347943823148687,
           6.951772164398911,
           7.483806687665835,
           6.563714472860972,
           7.033947304219897,
           2.3914163067006613,
           2.1541650878757723,
           2.071473372030659,
           2.3156703325427013,
           2.560061323388761,
           2.3299562897901778,
           2.1286317858706076,
           2.304587095664719,
           2.1892564076870427,
           2.047942874620465,
           1.9105430052180221,
           0.7765287894989963,
           1.2729656758128873,
           0.9728610833625494,
           1.1425641761972924,
           0.40047756659712525,
           1.3547956940605197,
           1.0906441190189327,
           0.7528971849657193,
           0.3930425881096072,
           4.414549826379441,
           4.474141923581687,
           4.482952553263842,
           4.456750180869818,
           4.390058806371146,
           4.254513314374922,
           4.3661532855175915,
           4.56594947283481,
           4.546901277864116,
           4.607172188658764,
           1.8500283773520307,
           1.7674667766590104,
           1.7904252462149184,
           1.8931119634883424,
           1.8547342683894434,
           1.8304992975439855,
           0.6471032420585384,
           1.7967470107390942,
           1.7321863776931536,
           0.6575200029167941,
           3.5553480614894135,
           4.330733340286331,
           4.584967478670572,
           4.394449154672439,
           4.127134385045092,
           3.828641396489095,
           4.382026634673881,
           3.2188758248682006,
           4.454347296253507,
           4.5217885770490405,
           7.309212365692763,
           7.212294468500341,
           7.574815124778764,
           7.132497551660044,
           7.029972911706386,
           7.212294468500341,
           7.085064293952548,
           7.260522598089852,
           7.013915474810528,
           7.48605261786314
          ],
          "sizemode": "area",
          "sizeref": 0.01893703781194691,
          "symbol": "circle"
         },
         "mode": "markers",
         "name": "",
         "orientation": "v",
         "showlegend": false,
         "type": "scatter",
         "x": [
          8.028781162487148,
          8.020270472819238,
          7.8632667240095735,
          7.937374696163295,
          7.569927655242652,
          7.951559331155252,
          7.877397186353287,
          7.8632667240095735,
          7.882314918980268,
          7.90100705199242,
          8.1886891244442,
          8.048468743668883,
          8.050065422915965,
          8.196436811235028,
          7.882314918980268,
          8.113726085970747,
          7.937017489515454,
          8.213923595622743,
          8.068402958569699,
          8.14351740579748,
          10.126631103850338,
          8.954156966583772,
          8.884610231886873,
          9.047821442478408,
          9.711115659888671,
          9.471935109664646,
          9.056023011591826,
          8.948975607841776,
          9.375006993531416,
          8.88599431515281,
          10.571316925111784,
          10.308952660644293,
          9.634038248345407,
          9.179881164491475,
          8.66561319653451,
          8.993675786759683,
          8.818334283552174,
          8.760923376338836,
          8.688790784847216,
          8.628197749459149,
          8.249575150000199,
          8.121183242078828,
          8.0925452638913,
          8.070906088787819,
          8.00903068506973,
          8.1886891244442,
          8.181720455128108,
          8.181440695719374,
          8.195609567288775,
          10.426735696300677,
          8.157657015196472,
          8.229511118964457,
          8.251663923605589,
          8.229244416735913,
          8.202482446576537,
          8.146129510025405,
          8.205218426395412,
          8.146129510025405,
          8.230044310126114,
          8.170468578330674,
          8.114025442356757,
          8.140898460607852,
          8.000684784514748,
          7.949797216161852,
          7.984462732262196,
          8.100161446936607,
          7.987864096085687,
          7.943427767876373,
          7.928045600874777,
          7.962415680121064,
          8.11522197256233,
          8.19063168090354,
          8.102889134640868,
          8.055157731819678,
          8.174702882469461,
          8.064636475774222,
          7.969011781106478,
          8.114324709155339,
          7.8713112033234065,
          8.057694194815587,
          8.867850063029406,
          9.266153436795395,
          9.097171673870545,
          9.752664662801545,
          9.55393007636626,
          9.177300517897983,
          9.39349491507403,
          9.30383071506352,
          9.526609901279876,
          9.896462937599164,
          8.575462099540212,
          8.417593826193484,
          8.313116702819253,
          8.513185170018698,
          9.108307646411031,
          9.328123407632566,
          8.53934599605737,
          8.951569643018821,
          9.400795428666859,
          10.494269726418045,
          10.413312675968536,
          10.596634733096073,
          10.043249494911286,
          9.748002649695733,
          9.314339961994667,
          9.56416124693201,
          10.111720491114584,
          9.464439807410837,
          10.100081768616802,
          10.416939723904,
          8.148734808937169,
          8.190077049719049,
          8.192847134592865,
          8.131236549696116,
          8.191463051326927,
          8.175547596021026,
          8.297792626380861,
          8.195609567288775,
          8.83200393125627,
          8.237479288613633,
          8.108623268354595,
          8.169336395928386,
          8.076515327552329,
          8.053887083618223,
          8.163656176168432,
          8.078688229229872,
          7.984462732262196,
          7.95892649305011,
          7.957177323459475,
          7.912423121473705,
          8.037543185118697,
          8.19063168090354,
          8.039157390473237,
          8.002694162283937,
          8.17244681834278,
          8.084254106307318,
          8.036249942132116,
          8.188133414510478,
          8.10892415597534,
          8.172164452111904,
          9.504501410525673,
          9.953229644430943,
          9.814109741384911,
          9.583282288378786,
          9.38429367909962,
          9.096499555552423,
          9.46591239050973,
          9.597777277564957,
          8.951958168569265,
          9.471473109194427,
          10.294177375062137,
          9.09884999594282,
          9.551089165364656,
          9.704426671737876,
          10.12942719115234,
          10.264652401747712,
          10.171221987178212,
          9.909469624213676,
          9.474472303967703,
          10.54006438160768,
          10.142110674698724,
          9.355911495295402,
          9.447386828459384,
          8.657302899400882,
          9.096835671179361,
          8.893160828735379,
          9.899630122208823,
          10.180096038519288,
          9.76324799612154,
          9.145588494746486,
          8.180320874773685,
          8.160518247477505,
          8.363342466597977,
          10.165851817003619,
          8.1886891244442,
          8.192570471152173,
          9.798127036878302,
          9.305650551780507,
          9.400960731584833,
          10.106020149946213,
          7.9483852851118995,
          7.97728198675515,
          8.137103389639302,
          8.076515327552329,
          8.146998697389993,
          7.968665700466235,
          7.995643604287271,
          8.155936337972394,
          7.9294865233142895,
          8.167068178341237,
          8.149601735736155,
          8.088561805276234,
          8.004365564979574,
          8.074649075066652,
          8.167068178341237,
          8.188133414510478,
          8.052614818815567,
          8.159374736775426,
          8.10892415597534,
          8.149890544402423,
          9.728538750071586,
          9.660141293904399,
          9.614604759507829,
          9.498522319469615,
          9.816839745810455,
          9.899479531138589,
          10.086642095633975,
          10.047241516180824,
          9.793672686528922,
          9.870964360830568,
          10.014581600041716,
          9.211539652551664,
          9.479527461791719,
          9.99934303817965,
          10.439688482633347,
          10.387763841068582,
          9.139917907679637,
          9.87302834505142,
          9.749170192151771,
          9.017968479328726,
          10.072301625971582,
          9.453208116138121,
          9.146654820290049,
          10.06219924369095,
          9.728360056322414,
          9.838095333769076,
          9.199481628641307,
          9.299266581170585,
          10.047371422864705,
          9.986817160123133,
          10.091832598307642,
          10.551480451088963,
          10.388656849488333,
          10.230594644192365,
          9.99442454752823,
          10.56977727892619,
          10.33653540173002,
          9.085797036901582,
          9.13075589263334,
          10.542231344216686
         ],
         "xaxis": "x",
         "y": [
          -1.7719568419318752,
          -1.869504817852908,
          -2.282782465697866,
          -1.8325814637483102,
          -2.2730262907525014,
          -2.2072749131897207,
          -2.0635681925235456,
          -2.3434070875143007,
          -2.2072749131897207,
          -2.0402208285265546,
          -0.6733445532637656,
          -0.9779002135058463,
          -1.6296406197516198,
          -0.9339456671128757,
          -1.9661128563728327,
          -1.4271163556401458,
          -1.8325814637483102,
          -0.7550225842780328,
          -1.6260755535871236,
          -1.0469690555162714,
          -4.779523573132869,
          -4.394909260504895,
          -4.509860006183766,
          -4.605170185988091,
          -4.268697949366879,
          -4.621299567917975,
          -4.6356293934728,
          -4.358310108056566,
          -4.509860006183766,
          -4.3428059215206005,
          2.3608540011180215,
          1.840549633397487,
          1.9740810260220096,
          1.0612565021243408,
          -0.10536051565782628,
          0.5877866649021191,
          0.11332868530700327,
          -0.020202707317519466,
          0.10074990310014315,
          -0.01005033585350145,
          2.9444389791664403,
          3.1354942159291497,
          4.477336814478207,
          2.833213344056216,
          3.2188758248682006,
          3.367295829986474,
          3.8066624897703196,
          4.48863636973214,
          4.430816798843313,
          3.258096538021482,
          7.326465613840322,
          7.138866999945524,
          7.075808863978387,
          7.4073177104694174,
          7.188412736496954,
          7.207118856207756,
          7.422373700986824,
          7.157735484249907,
          6.86171134048073,
          7.343426229147367,
          -2.864704011147587,
          -1.6607312068216509,
          -2.364460496712133,
          -2.388142981355692,
          -2.1541650878757723,
          -2.0249533563957662,
          -2.375155785828881,
          -2.3957974747162245,
          -2.137070654516472,
          -2.120263536200091,
          -1.2982834837971773,
          -0.9675840262617056,
          -1.7147984280919266,
          -1.0498221244986778,
          -1.2344320118106447,
          -1.0498221244986778,
          -1.4271163556401458,
          -1.18090753139494,
          -2.322787800311565,
          -1.8263509139976741,
          -4.422848629194137,
          -4.688551794927142,
          -4.656463480375642,
          -4.199705077879927,
          -4.721704002244043,
          -4.518992489747039,
          -4.688551794927142,
          -4.744432253321599,
          -4.719459332390219,
          -4.3351430487750315,
          -0.09431067947124129,
          -0.14502577205025774,
          -0.2294131643278051,
          0.12221763272424911,
          0.9669838461896731,
          1.9430489167742813,
          -0.13238918804574562,
          0.29266961396282004,
          1.9473377010464987,
          2.322387720290225,
          2.4849066497880004,
          2.6390573296152584,
          3.58351893845611,
          4.418840607796598,
          2.4849066497880004,
          3.7376696182833684,
          4.143134726391533,
          3.58351893845611,
          4.04305126783455,
          4.204692619390966,
          7.161622002939187,
          7.024649030453636,
          7.399398083331354,
          7.303843225277705,
          7.3277805384216315,
          7.188412736496954,
          7.335633981927201,
          6.775366090936392,
          7.2909747781429814,
          7.188412736496954,
          -2.3947003819018513,
          -2.32687778556309,
          -2.2072749131897207,
          -2.3730075572905913,
          -2.2164073967529934,
          -2.111964733385396,
          -2.3730075572905913,
          -2.4090573375045627,
          -2.5484856314308715,
          -2.4580699958344407,
          -0.709276562489829,
          -0.9675840262617056,
          -1.171182981502945,
          -1.0788096613719298,
          -0.4780358009429998,
          -0.31471074483970024,
          -1.4271163556401458,
          -0.579818495252942,
          -1.0788096613719298,
          -1.3625778345025745,
          -4.624353005404865,
          -4.491841500681089,
          -4.673449026741386,
          -4.63356966050979,
          -4.712755396668029,
          -4.734140567285052,
          -4.6617405374764855,
          -4.719459332390219,
          -4.735278871335112,
          -4.60917820738563,
          1.7950872593207297,
          0.9110771648212677,
          1.7483299113007191,
          1.7369512327330598,
          1.7783364488959144,
          1.8562979903656263,
          1.7029282555214393,
          1.9139771019523042,
          1.8261608959453874,
          1.925707441737794,
          4.04305126783455,
          3.58351893845611,
          4.418840607796598,
          4.574710978503383,
          3.5553480614894135,
          3.1780538303479458,
          4.290459441148391,
          3.6635616461296463,
          3.4011973816621555,
          3.1780538303479458,
          7.299797366758161,
          7.258412150595307,
          7.181591944611865,
          7.425953657077541,
          7.081708586105575,
          7.347943823148687,
          6.951772164398911,
          7.483806687665835,
          6.563714472860972,
          7.033947304219897,
          -2.3914163067006613,
          -2.1541650878757723,
          -2.071473372030659,
          -2.3156703325427013,
          -2.560061323388761,
          -2.3299562897901778,
          -2.1286317858706076,
          -2.304587095664719,
          -2.1892564076870427,
          -2.047942874620465,
          -1.9105430052180221,
          -0.7765287894989963,
          -1.2729656758128873,
          -0.9728610833625494,
          -1.1425641761972924,
          -0.40047756659712525,
          -1.3547956940605197,
          -1.0906441190189327,
          -0.7528971849657193,
          -0.3930425881096072,
          -4.414549826379441,
          -4.474141923581687,
          -4.482952553263842,
          -4.456750180869818,
          -4.390058806371146,
          -4.254513314374922,
          -4.3661532855175915,
          -4.56594947283481,
          -4.546901277864116,
          -4.607172188658764,
          1.8500283773520307,
          1.7674667766590104,
          1.7904252462149184,
          1.8931119634883424,
          1.8547342683894434,
          1.8304992975439855,
          0.6471032420585384,
          1.7967470107390942,
          1.7321863776931536,
          0.6575200029167941,
          3.5553480614894135,
          4.330733340286331,
          4.584967478670572,
          4.394449154672439,
          4.127134385045092,
          3.828641396489095,
          4.382026634673881,
          3.2188758248682006,
          4.454347296253507,
          4.5217885770490405,
          7.309212365692763,
          7.212294468500341,
          7.574815124778764,
          7.132497551660044,
          7.029972911706386,
          7.212294468500341,
          7.085064293952548,
          7.260522598089852,
          7.013915474810528,
          7.48605261786314
         ],
         "yaxis": "y"
        }
       ],
       "layout": {
        "coloraxis": {
         "colorbar": {
          "title": {
           "text": "Star type"
          }
         },
         "colorscale": [
          [
           0,
           "#0d0887"
          ],
          [
           0.1111111111111111,
           "#46039f"
          ],
          [
           0.2222222222222222,
           "#7201a8"
          ],
          [
           0.3333333333333333,
           "#9c179e"
          ],
          [
           0.4444444444444444,
           "#bd3786"
          ],
          [
           0.5555555555555556,
           "#d8576b"
          ],
          [
           0.6666666666666666,
           "#ed7953"
          ],
          [
           0.7777777777777778,
           "#fb9f3a"
          ],
          [
           0.8888888888888888,
           "#fdca26"
          ],
          [
           1,
           "#f0f921"
          ]
         ]
        },
        "legend": {
         "itemsizing": "constant",
         "tracegroupgap": 0
        },
        "margin": {
         "t": 60
        },
        "template": {
         "data": {
          "bar": [
           {
            "error_x": {
             "color": "#2a3f5f"
            },
            "error_y": {
             "color": "#2a3f5f"
            },
            "marker": {
             "line": {
              "color": "#E5ECF6",
              "width": 0.5
             },
             "pattern": {
              "fillmode": "overlay",
              "size": 10,
              "solidity": 0.2
             }
            },
            "type": "bar"
           }
          ],
          "barpolar": [
           {
            "marker": {
             "line": {
              "color": "#E5ECF6",
              "width": 0.5
             },
             "pattern": {
              "fillmode": "overlay",
              "size": 10,
              "solidity": 0.2
             }
            },
            "type": "barpolar"
           }
          ],
          "carpet": [
           {
            "aaxis": {
             "endlinecolor": "#2a3f5f",
             "gridcolor": "white",
             "linecolor": "white",
             "minorgridcolor": "white",
             "startlinecolor": "#2a3f5f"
            },
            "baxis": {
             "endlinecolor": "#2a3f5f",
             "gridcolor": "white",
             "linecolor": "white",
             "minorgridcolor": "white",
             "startlinecolor": "#2a3f5f"
            },
            "type": "carpet"
           }
          ],
          "choropleth": [
           {
            "colorbar": {
             "outlinewidth": 0,
             "ticks": ""
            },
            "type": "choropleth"
           }
          ],
          "contour": [
           {
            "colorbar": {
             "outlinewidth": 0,
             "ticks": ""
            },
            "colorscale": [
             [
              0,
              "#0d0887"
             ],
             [
              0.1111111111111111,
              "#46039f"
             ],
             [
              0.2222222222222222,
              "#7201a8"
             ],
             [
              0.3333333333333333,
              "#9c179e"
             ],
             [
              0.4444444444444444,
              "#bd3786"
             ],
             [
              0.5555555555555556,
              "#d8576b"
             ],
             [
              0.6666666666666666,
              "#ed7953"
             ],
             [
              0.7777777777777778,
              "#fb9f3a"
             ],
             [
              0.8888888888888888,
              "#fdca26"
             ],
             [
              1,
              "#f0f921"
             ]
            ],
            "type": "contour"
           }
          ],
          "contourcarpet": [
           {
            "colorbar": {
             "outlinewidth": 0,
             "ticks": ""
            },
            "type": "contourcarpet"
           }
          ],
          "heatmap": [
           {
            "colorbar": {
             "outlinewidth": 0,
             "ticks": ""
            },
            "colorscale": [
             [
              0,
              "#0d0887"
             ],
             [
              0.1111111111111111,
              "#46039f"
             ],
             [
              0.2222222222222222,
              "#7201a8"
             ],
             [
              0.3333333333333333,
              "#9c179e"
             ],
             [
              0.4444444444444444,
              "#bd3786"
             ],
             [
              0.5555555555555556,
              "#d8576b"
             ],
             [
              0.6666666666666666,
              "#ed7953"
             ],
             [
              0.7777777777777778,
              "#fb9f3a"
             ],
             [
              0.8888888888888888,
              "#fdca26"
             ],
             [
              1,
              "#f0f921"
             ]
            ],
            "type": "heatmap"
           }
          ],
          "heatmapgl": [
           {
            "colorbar": {
             "outlinewidth": 0,
             "ticks": ""
            },
            "colorscale": [
             [
              0,
              "#0d0887"
             ],
             [
              0.1111111111111111,
              "#46039f"
             ],
             [
              0.2222222222222222,
              "#7201a8"
             ],
             [
              0.3333333333333333,
              "#9c179e"
             ],
             [
              0.4444444444444444,
              "#bd3786"
             ],
             [
              0.5555555555555556,
              "#d8576b"
             ],
             [
              0.6666666666666666,
              "#ed7953"
             ],
             [
              0.7777777777777778,
              "#fb9f3a"
             ],
             [
              0.8888888888888888,
              "#fdca26"
             ],
             [
              1,
              "#f0f921"
             ]
            ],
            "type": "heatmapgl"
           }
          ],
          "histogram": [
           {
            "marker": {
             "pattern": {
              "fillmode": "overlay",
              "size": 10,
              "solidity": 0.2
             }
            },
            "type": "histogram"
           }
          ],
          "histogram2d": [
           {
            "colorbar": {
             "outlinewidth": 0,
             "ticks": ""
            },
            "colorscale": [
             [
              0,
              "#0d0887"
             ],
             [
              0.1111111111111111,
              "#46039f"
             ],
             [
              0.2222222222222222,
              "#7201a8"
             ],
             [
              0.3333333333333333,
              "#9c179e"
             ],
             [
              0.4444444444444444,
              "#bd3786"
             ],
             [
              0.5555555555555556,
              "#d8576b"
             ],
             [
              0.6666666666666666,
              "#ed7953"
             ],
             [
              0.7777777777777778,
              "#fb9f3a"
             ],
             [
              0.8888888888888888,
              "#fdca26"
             ],
             [
              1,
              "#f0f921"
             ]
            ],
            "type": "histogram2d"
           }
          ],
          "histogram2dcontour": [
           {
            "colorbar": {
             "outlinewidth": 0,
             "ticks": ""
            },
            "colorscale": [
             [
              0,
              "#0d0887"
             ],
             [
              0.1111111111111111,
              "#46039f"
             ],
             [
              0.2222222222222222,
              "#7201a8"
             ],
             [
              0.3333333333333333,
              "#9c179e"
             ],
             [
              0.4444444444444444,
              "#bd3786"
             ],
             [
              0.5555555555555556,
              "#d8576b"
             ],
             [
              0.6666666666666666,
              "#ed7953"
             ],
             [
              0.7777777777777778,
              "#fb9f3a"
             ],
             [
              0.8888888888888888,
              "#fdca26"
             ],
             [
              1,
              "#f0f921"
             ]
            ],
            "type": "histogram2dcontour"
           }
          ],
          "mesh3d": [
           {
            "colorbar": {
             "outlinewidth": 0,
             "ticks": ""
            },
            "type": "mesh3d"
           }
          ],
          "parcoords": [
           {
            "line": {
             "colorbar": {
              "outlinewidth": 0,
              "ticks": ""
             }
            },
            "type": "parcoords"
           }
          ],
          "pie": [
           {
            "automargin": true,
            "type": "pie"
           }
          ],
          "scatter": [
           {
            "fillpattern": {
             "fillmode": "overlay",
             "size": 10,
             "solidity": 0.2
            },
            "type": "scatter"
           }
          ],
          "scatter3d": [
           {
            "line": {
             "colorbar": {
              "outlinewidth": 0,
              "ticks": ""
             }
            },
            "marker": {
             "colorbar": {
              "outlinewidth": 0,
              "ticks": ""
             }
            },
            "type": "scatter3d"
           }
          ],
          "scattercarpet": [
           {
            "marker": {
             "colorbar": {
              "outlinewidth": 0,
              "ticks": ""
             }
            },
            "type": "scattercarpet"
           }
          ],
          "scattergeo": [
           {
            "marker": {
             "colorbar": {
              "outlinewidth": 0,
              "ticks": ""
             }
            },
            "type": "scattergeo"
           }
          ],
          "scattergl": [
           {
            "marker": {
             "colorbar": {
              "outlinewidth": 0,
              "ticks": ""
             }
            },
            "type": "scattergl"
           }
          ],
          "scattermapbox": [
           {
            "marker": {
             "colorbar": {
              "outlinewidth": 0,
              "ticks": ""
             }
            },
            "type": "scattermapbox"
           }
          ],
          "scatterpolar": [
           {
            "marker": {
             "colorbar": {
              "outlinewidth": 0,
              "ticks": ""
             }
            },
            "type": "scatterpolar"
           }
          ],
          "scatterpolargl": [
           {
            "marker": {
             "colorbar": {
              "outlinewidth": 0,
              "ticks": ""
             }
            },
            "type": "scatterpolargl"
           }
          ],
          "scatterternary": [
           {
            "marker": {
             "colorbar": {
              "outlinewidth": 0,
              "ticks": ""
             }
            },
            "type": "scatterternary"
           }
          ],
          "surface": [
           {
            "colorbar": {
             "outlinewidth": 0,
             "ticks": ""
            },
            "colorscale": [
             [
              0,
              "#0d0887"
             ],
             [
              0.1111111111111111,
              "#46039f"
             ],
             [
              0.2222222222222222,
              "#7201a8"
             ],
             [
              0.3333333333333333,
              "#9c179e"
             ],
             [
              0.4444444444444444,
              "#bd3786"
             ],
             [
              0.5555555555555556,
              "#d8576b"
             ],
             [
              0.6666666666666666,
              "#ed7953"
             ],
             [
              0.7777777777777778,
              "#fb9f3a"
             ],
             [
              0.8888888888888888,
              "#fdca26"
             ],
             [
              1,
              "#f0f921"
             ]
            ],
            "type": "surface"
           }
          ],
          "table": [
           {
            "cells": {
             "fill": {
              "color": "#EBF0F8"
             },
             "line": {
              "color": "white"
             }
            },
            "header": {
             "fill": {
              "color": "#C8D4E3"
             },
             "line": {
              "color": "white"
             }
            },
            "type": "table"
           }
          ]
         },
         "layout": {
          "annotationdefaults": {
           "arrowcolor": "#2a3f5f",
           "arrowhead": 0,
           "arrowwidth": 1
          },
          "autotypenumbers": "strict",
          "coloraxis": {
           "colorbar": {
            "outlinewidth": 0,
            "ticks": ""
           }
          },
          "colorscale": {
           "diverging": [
            [
             0,
             "#8e0152"
            ],
            [
             0.1,
             "#c51b7d"
            ],
            [
             0.2,
             "#de77ae"
            ],
            [
             0.3,
             "#f1b6da"
            ],
            [
             0.4,
             "#fde0ef"
            ],
            [
             0.5,
             "#f7f7f7"
            ],
            [
             0.6,
             "#e6f5d0"
            ],
            [
             0.7,
             "#b8e186"
            ],
            [
             0.8,
             "#7fbc41"
            ],
            [
             0.9,
             "#4d9221"
            ],
            [
             1,
             "#276419"
            ]
           ],
           "sequential": [
            [
             0,
             "#0d0887"
            ],
            [
             0.1111111111111111,
             "#46039f"
            ],
            [
             0.2222222222222222,
             "#7201a8"
            ],
            [
             0.3333333333333333,
             "#9c179e"
            ],
            [
             0.4444444444444444,
             "#bd3786"
            ],
            [
             0.5555555555555556,
             "#d8576b"
            ],
            [
             0.6666666666666666,
             "#ed7953"
            ],
            [
             0.7777777777777778,
             "#fb9f3a"
            ],
            [
             0.8888888888888888,
             "#fdca26"
            ],
            [
             1,
             "#f0f921"
            ]
           ],
           "sequentialminus": [
            [
             0,
             "#0d0887"
            ],
            [
             0.1111111111111111,
             "#46039f"
            ],
            [
             0.2222222222222222,
             "#7201a8"
            ],
            [
             0.3333333333333333,
             "#9c179e"
            ],
            [
             0.4444444444444444,
             "#bd3786"
            ],
            [
             0.5555555555555556,
             "#d8576b"
            ],
            [
             0.6666666666666666,
             "#ed7953"
            ],
            [
             0.7777777777777778,
             "#fb9f3a"
            ],
            [
             0.8888888888888888,
             "#fdca26"
            ],
            [
             1,
             "#f0f921"
            ]
           ]
          },
          "colorway": [
           "#636efa",
           "#EF553B",
           "#00cc96",
           "#ab63fa",
           "#FFA15A",
           "#19d3f3",
           "#FF6692",
           "#B6E880",
           "#FF97FF",
           "#FECB52"
          ],
          "font": {
           "color": "#2a3f5f"
          },
          "geo": {
           "bgcolor": "white",
           "lakecolor": "white",
           "landcolor": "#E5ECF6",
           "showlakes": true,
           "showland": true,
           "subunitcolor": "white"
          },
          "hoverlabel": {
           "align": "left"
          },
          "hovermode": "closest",
          "mapbox": {
           "style": "light"
          },
          "paper_bgcolor": "white",
          "plot_bgcolor": "#E5ECF6",
          "polar": {
           "angularaxis": {
            "gridcolor": "white",
            "linecolor": "white",
            "ticks": ""
           },
           "bgcolor": "#E5ECF6",
           "radialaxis": {
            "gridcolor": "white",
            "linecolor": "white",
            "ticks": ""
           }
          },
          "scene": {
           "xaxis": {
            "backgroundcolor": "#E5ECF6",
            "gridcolor": "white",
            "gridwidth": 2,
            "linecolor": "white",
            "showbackground": true,
            "ticks": "",
            "zerolinecolor": "white"
           },
           "yaxis": {
            "backgroundcolor": "#E5ECF6",
            "gridcolor": "white",
            "gridwidth": 2,
            "linecolor": "white",
            "showbackground": true,
            "ticks": "",
            "zerolinecolor": "white"
           },
           "zaxis": {
            "backgroundcolor": "#E5ECF6",
            "gridcolor": "white",
            "gridwidth": 2,
            "linecolor": "white",
            "showbackground": true,
            "ticks": "",
            "zerolinecolor": "white"
           }
          },
          "shapedefaults": {
           "line": {
            "color": "#2a3f5f"
           }
          },
          "ternary": {
           "aaxis": {
            "gridcolor": "white",
            "linecolor": "white",
            "ticks": ""
           },
           "baxis": {
            "gridcolor": "white",
            "linecolor": "white",
            "ticks": ""
           },
           "bgcolor": "#E5ECF6",
           "caxis": {
            "gridcolor": "white",
            "linecolor": "white",
            "ticks": ""
           }
          },
          "title": {
           "x": 0.05
          },
          "xaxis": {
           "automargin": true,
           "gridcolor": "white",
           "linecolor": "white",
           "ticks": "",
           "title": {
            "standoff": 15
           },
           "zerolinecolor": "white",
           "zerolinewidth": 2
          },
          "yaxis": {
           "automargin": true,
           "gridcolor": "white",
           "linecolor": "white",
           "ticks": "",
           "title": {
            "standoff": 15
           },
           "zerolinecolor": "white",
           "zerolinewidth": 2
          }
         }
        },
        "xaxis": {
         "anchor": "y",
         "domain": [
          0,
          1
         ],
         "title": {
          "text": "Temperature (K)"
         }
        },
        "yaxis": {
         "anchor": "x",
         "domain": [
          0,
          1
         ],
         "title": {
          "text": "Radius(R/Ro)"
         }
        }
       }
      }
     },
     "metadata": {},
     "output_type": "display_data"
    }
   ],
   "source": [
    "#plot: temperature(X) vs radius(Y) \n",
    "\n",
    "fig = px.scatter(dataset, x=np.log(dataset['Temperature (K)']), y=np.log(dataset['Radius(R/Ro)']), color=dataset['Star type'],\n",
    "                 size=np.abs(np.log(dataset['Radius(R/Ro)'])), hover_data=['Radius(R/Ro)'],\n",
    "                 labels={'x':'Temperature (K)', 'y':'Radius(R/Ro)'})\n",
    "fig.show()"
   ]
  },
  {
   "cell_type": "code",
   "execution_count": null,
   "metadata": {},
   "outputs": [
    {
     "data": {
      "application/vnd.plotly.v1+json": {
       "config": {
        "plotlyServerURL": "https://plot.ly"
       },
       "data": [
        {
         "customdata": [
          [
           0.17
          ],
          [
           0.1542
          ],
          [
           0.102
          ],
          [
           0.16
          ],
          [
           0.103
          ],
          [
           0.11
          ],
          [
           0.127
          ],
          [
           0.096
          ],
          [
           0.11
          ],
          [
           0.13
          ],
          [
           0.51
          ],
          [
           0.3761
          ],
          [
           0.196
          ],
          [
           0.393
          ],
          [
           0.14
          ],
          [
           0.24
          ],
          [
           0.16
          ],
          [
           0.47
          ],
          [
           0.1967
          ],
          [
           0.351
          ],
          [
           0.0084
          ],
          [
           0.01234
          ],
          [
           0.011
          ],
          [
           0.01
          ],
          [
           0.014
          ],
          [
           0.00984
          ],
          [
           0.0097
          ],
          [
           0.0128
          ],
          [
           0.011
          ],
          [
           0.013
          ],
          [
           10.6
          ],
          [
           6.3
          ],
          [
           7.2
          ],
          [
           2.89
          ],
          [
           0.9
          ],
          [
           1.8
          ],
          [
           1.12
          ],
          [
           0.98
          ],
          [
           1.106
          ],
          [
           0.99
          ],
          [
           19
          ],
          [
           23
          ],
          [
           88
          ],
          [
           17
          ],
          [
           25
          ],
          [
           29
          ],
          [
           45
          ],
          [
           89
          ],
          [
           84
          ],
          [
           26
          ],
          [
           1520
          ],
          [
           1260
          ],
          [
           1183
          ],
          [
           1648
          ],
          [
           1324
          ],
          [
           1349
          ],
          [
           1673
          ],
          [
           1284
          ],
          [
           955
          ],
          [
           1546
          ],
          [
           0.057
          ],
          [
           0.19
          ],
          [
           0.094
          ],
          [
           0.0918
          ],
          [
           0.116
          ],
          [
           0.132
          ],
          [
           0.093
          ],
          [
           0.0911
          ],
          [
           0.118
          ],
          [
           0.12
          ],
          [
           0.273
          ],
          [
           0.38
          ],
          [
           0.18
          ],
          [
           0.35
          ],
          [
           0.291
          ],
          [
           0.35
          ],
          [
           0.24
          ],
          [
           0.307
          ],
          [
           0.098
          ],
          [
           0.161
          ],
          [
           0.012
          ],
          [
           0.0092
          ],
          [
           0.0095
          ],
          [
           0.015
          ],
          [
           0.0089
          ],
          [
           0.0109
          ],
          [
           0.0092
          ],
          [
           0.0087
          ],
          [
           0.00892
          ],
          [
           0.0131
          ],
          [
           0.91
          ],
          [
           0.865
          ],
          [
           0.795
          ],
          [
           1.13
          ],
          [
           2.63
          ],
          [
           6.98
          ],
          [
           0.876
          ],
          [
           1.34
          ],
          [
           7.01
          ],
          [
           10.2
          ],
          [
           12
          ],
          [
           14
          ],
          [
           36
          ],
          [
           83
          ],
          [
           12
          ],
          [
           42
          ],
          [
           63
          ],
          [
           36
          ],
          [
           57
          ],
          [
           67
          ],
          [
           1289
          ],
          [
           1124
          ],
          [
           1635
          ],
          [
           1486
          ],
          [
           1522
          ],
          [
           1324
          ],
          [
           1534
          ],
          [
           876
          ],
          [
           1467
          ],
          [
           1324
          ],
          [
           0.0912
          ],
          [
           0.0976
          ],
          [
           0.11
          ],
          [
           0.0932
          ],
          [
           0.109
          ],
          [
           0.121
          ],
          [
           0.0932
          ],
          [
           0.0899
          ],
          [
           0.0782
          ],
          [
           0.0856
          ],
          [
           0.492
          ],
          [
           0.38
          ],
          [
           0.31
          ],
          [
           0.34
          ],
          [
           0.62
          ],
          [
           0.73
          ],
          [
           0.24
          ],
          [
           0.56
          ],
          [
           0.34
          ],
          [
           0.256
          ],
          [
           0.00981
          ],
          [
           0.0112
          ],
          [
           0.00934
          ],
          [
           0.00972
          ],
          [
           0.00898
          ],
          [
           0.00879
          ],
          [
           0.00945
          ],
          [
           0.00892
          ],
          [
           0.00878
          ],
          [
           0.00996
          ],
          [
           6.02
          ],
          [
           2.487
          ],
          [
           5.745
          ],
          [
           5.68
          ],
          [
           5.92
          ],
          [
           6.4
          ],
          [
           5.49
          ],
          [
           6.78
          ],
          [
           6.21
          ],
          [
           6.86
          ],
          [
           57
          ],
          [
           36
          ],
          [
           83
          ],
          [
           97
          ],
          [
           35
          ],
          [
           24
          ],
          [
           73
          ],
          [
           39
          ],
          [
           30
          ],
          [
           24
          ],
          [
           1480
          ],
          [
           1420
          ],
          [
           1315
          ],
          [
           1679
          ],
          [
           1190
          ],
          [
           1553
          ],
          [
           1045
          ],
          [
           1779
          ],
          [
           708.9
          ],
          [
           1134.5
          ],
          [
           0.0915
          ],
          [
           0.116
          ],
          [
           0.126
          ],
          [
           0.0987
          ],
          [
           0.0773
          ],
          [
           0.0973
          ],
          [
           0.119
          ],
          [
           0.0998
          ],
          [
           0.112
          ],
          [
           0.129
          ],
          [
           0.148
          ],
          [
           0.46
          ],
          [
           0.28
          ],
          [
           0.378
          ],
          [
           0.319
          ],
          [
           0.67
          ],
          [
           0.258
          ],
          [
           0.336
          ],
          [
           0.471
          ],
          [
           0.675
          ],
          [
           0.0121
          ],
          [
           0.0114
          ],
          [
           0.0113
          ],
          [
           0.0116
          ],
          [
           0.0124
          ],
          [
           0.0142
          ],
          [
           0.0127
          ],
          [
           0.0104
          ],
          [
           0.0106
          ],
          [
           0.00998
          ],
          [
           6.36
          ],
          [
           5.856
          ],
          [
           5.992
          ],
          [
           6.64
          ],
          [
           6.39
          ],
          [
           6.237
          ],
          [
           1.91
          ],
          [
           6.03
          ],
          [
           5.653
          ],
          [
           1.93
          ],
          [
           35
          ],
          [
           76
          ],
          [
           98
          ],
          [
           81
          ],
          [
           62
          ],
          [
           46
          ],
          [
           80
          ],
          [
           25
          ],
          [
           86
          ],
          [
           92
          ],
          [
           1494
          ],
          [
           1356
          ],
          [
           1948.5
          ],
          [
           1252
          ],
          [
           1130
          ],
          [
           1356
          ],
          [
           1194
          ],
          [
           1423
          ],
          [
           1112
          ],
          [
           1783
          ]
         ],
         "hovertemplate": "Luminosity(L/Lo)=%{x}<br>Radius(R/Ro)=%{customdata[0]}<br>size=%{marker.size}<br>Star type=%{marker.color}<extra></extra>",
         "legendgroup": "",
         "marker": {
          "color": [
           0,
           0,
           0,
           0,
           0,
           0,
           0,
           0,
           0,
           0,
           1,
           1,
           1,
           1,
           1,
           1,
           1,
           1,
           1,
           1,
           2,
           2,
           2,
           2,
           2,
           2,
           2,
           2,
           2,
           2,
           3,
           3,
           3,
           3,
           3,
           3,
           3,
           3,
           3,
           3,
           4,
           4,
           4,
           4,
           4,
           4,
           4,
           4,
           4,
           4,
           5,
           5,
           5,
           5,
           5,
           5,
           5,
           5,
           5,
           5,
           0,
           0,
           0,
           0,
           0,
           0,
           0,
           0,
           0,
           0,
           1,
           1,
           1,
           1,
           1,
           1,
           1,
           1,
           1,
           1,
           2,
           2,
           2,
           2,
           2,
           2,
           2,
           2,
           2,
           2,
           3,
           3,
           3,
           3,
           3,
           3,
           3,
           3,
           3,
           3,
           4,
           4,
           4,
           4,
           4,
           4,
           4,
           4,
           4,
           4,
           5,
           5,
           5,
           5,
           5,
           5,
           5,
           5,
           5,
           5,
           0,
           0,
           0,
           0,
           0,
           0,
           0,
           0,
           0,
           0,
           1,
           1,
           1,
           1,
           1,
           1,
           1,
           1,
           1,
           1,
           2,
           2,
           2,
           2,
           2,
           2,
           2,
           2,
           2,
           2,
           3,
           3,
           3,
           3,
           3,
           3,
           3,
           3,
           3,
           3,
           4,
           4,
           4,
           4,
           4,
           4,
           4,
           4,
           4,
           4,
           5,
           5,
           5,
           5,
           5,
           5,
           5,
           5,
           5,
           5,
           0,
           0,
           0,
           0,
           0,
           0,
           0,
           0,
           0,
           0,
           1,
           1,
           1,
           1,
           1,
           1,
           1,
           1,
           1,
           1,
           2,
           2,
           2,
           2,
           2,
           2,
           2,
           2,
           2,
           2,
           3,
           3,
           3,
           3,
           3,
           3,
           3,
           3,
           3,
           3,
           4,
           4,
           4,
           4,
           4,
           4,
           4,
           4,
           4,
           4,
           5,
           5,
           5,
           5,
           5,
           5,
           5,
           5,
           5,
           5
          ],
          "coloraxis": "coloraxis",
          "size": [
           1.7719568419318752,
           1.869504817852908,
           2.282782465697866,
           1.8325814637483102,
           2.2730262907525014,
           2.2072749131897207,
           2.0635681925235456,
           2.3434070875143007,
           2.2072749131897207,
           2.0402208285265546,
           0.6733445532637656,
           0.9779002135058463,
           1.6296406197516198,
           0.9339456671128757,
           1.9661128563728327,
           1.4271163556401458,
           1.8325814637483102,
           0.7550225842780328,
           1.6260755535871236,
           1.0469690555162714,
           4.779523573132869,
           4.394909260504895,
           4.509860006183766,
           4.605170185988091,
           4.268697949366879,
           4.621299567917975,
           4.6356293934728,
           4.358310108056566,
           4.509860006183766,
           4.3428059215206005,
           2.3608540011180215,
           1.840549633397487,
           1.9740810260220096,
           1.0612565021243408,
           0.10536051565782628,
           0.5877866649021191,
           0.11332868530700327,
           0.020202707317519466,
           0.10074990310014315,
           0.01005033585350145,
           2.9444389791664403,
           3.1354942159291497,
           4.477336814478207,
           2.833213344056216,
           3.2188758248682006,
           3.367295829986474,
           3.8066624897703196,
           4.48863636973214,
           4.430816798843313,
           3.258096538021482,
           7.326465613840322,
           7.138866999945524,
           7.075808863978387,
           7.4073177104694174,
           7.188412736496954,
           7.207118856207756,
           7.422373700986824,
           7.157735484249907,
           6.86171134048073,
           7.343426229147367,
           2.864704011147587,
           1.6607312068216509,
           2.364460496712133,
           2.388142981355692,
           2.1541650878757723,
           2.0249533563957662,
           2.375155785828881,
           2.3957974747162245,
           2.137070654516472,
           2.120263536200091,
           1.2982834837971773,
           0.9675840262617056,
           1.7147984280919266,
           1.0498221244986778,
           1.2344320118106447,
           1.0498221244986778,
           1.4271163556401458,
           1.18090753139494,
           2.322787800311565,
           1.8263509139976741,
           4.422848629194137,
           4.688551794927142,
           4.656463480375642,
           4.199705077879927,
           4.721704002244043,
           4.518992489747039,
           4.688551794927142,
           4.744432253321599,
           4.719459332390219,
           4.3351430487750315,
           0.09431067947124129,
           0.14502577205025774,
           0.2294131643278051,
           0.12221763272424911,
           0.9669838461896731,
           1.9430489167742813,
           0.13238918804574562,
           0.29266961396282004,
           1.9473377010464987,
           2.322387720290225,
           2.4849066497880004,
           2.6390573296152584,
           3.58351893845611,
           4.418840607796598,
           2.4849066497880004,
           3.7376696182833684,
           4.143134726391533,
           3.58351893845611,
           4.04305126783455,
           4.204692619390966,
           7.161622002939187,
           7.024649030453636,
           7.399398083331354,
           7.303843225277705,
           7.3277805384216315,
           7.188412736496954,
           7.335633981927201,
           6.775366090936392,
           7.2909747781429814,
           7.188412736496954,
           2.3947003819018513,
           2.32687778556309,
           2.2072749131897207,
           2.3730075572905913,
           2.2164073967529934,
           2.111964733385396,
           2.3730075572905913,
           2.4090573375045627,
           2.5484856314308715,
           2.4580699958344407,
           0.709276562489829,
           0.9675840262617056,
           1.171182981502945,
           1.0788096613719298,
           0.4780358009429998,
           0.31471074483970024,
           1.4271163556401458,
           0.579818495252942,
           1.0788096613719298,
           1.3625778345025745,
           4.624353005404865,
           4.491841500681089,
           4.673449026741386,
           4.63356966050979,
           4.712755396668029,
           4.734140567285052,
           4.6617405374764855,
           4.719459332390219,
           4.735278871335112,
           4.60917820738563,
           1.7950872593207297,
           0.9110771648212677,
           1.7483299113007191,
           1.7369512327330598,
           1.7783364488959144,
           1.8562979903656263,
           1.7029282555214393,
           1.9139771019523042,
           1.8261608959453874,
           1.925707441737794,
           4.04305126783455,
           3.58351893845611,
           4.418840607796598,
           4.574710978503383,
           3.5553480614894135,
           3.1780538303479458,
           4.290459441148391,
           3.6635616461296463,
           3.4011973816621555,
           3.1780538303479458,
           7.299797366758161,
           7.258412150595307,
           7.181591944611865,
           7.425953657077541,
           7.081708586105575,
           7.347943823148687,
           6.951772164398911,
           7.483806687665835,
           6.563714472860972,
           7.033947304219897,
           2.3914163067006613,
           2.1541650878757723,
           2.071473372030659,
           2.3156703325427013,
           2.560061323388761,
           2.3299562897901778,
           2.1286317858706076,
           2.304587095664719,
           2.1892564076870427,
           2.047942874620465,
           1.9105430052180221,
           0.7765287894989963,
           1.2729656758128873,
           0.9728610833625494,
           1.1425641761972924,
           0.40047756659712525,
           1.3547956940605197,
           1.0906441190189327,
           0.7528971849657193,
           0.3930425881096072,
           4.414549826379441,
           4.474141923581687,
           4.482952553263842,
           4.456750180869818,
           4.390058806371146,
           4.254513314374922,
           4.3661532855175915,
           4.56594947283481,
           4.546901277864116,
           4.607172188658764,
           1.8500283773520307,
           1.7674667766590104,
           1.7904252462149184,
           1.8931119634883424,
           1.8547342683894434,
           1.8304992975439855,
           0.6471032420585384,
           1.7967470107390942,
           1.7321863776931536,
           0.6575200029167941,
           3.5553480614894135,
           4.330733340286331,
           4.584967478670572,
           4.394449154672439,
           4.127134385045092,
           3.828641396489095,
           4.382026634673881,
           3.2188758248682006,
           4.454347296253507,
           4.5217885770490405,
           7.309212365692763,
           7.212294468500341,
           7.574815124778764,
           7.132497551660044,
           7.029972911706386,
           7.212294468500341,
           7.085064293952548,
           7.260522598089852,
           7.013915474810528,
           7.48605261786314
          ],
          "sizemode": "area",
          "sizeref": 0.01893703781194691,
          "symbol": "circle"
         },
         "mode": "markers",
         "name": "",
         "orientation": "v",
         "showlegend": false,
         "type": "scatter",
         "x": [
          -6.032286541628237,
          -7.600902459542082,
          -8.111728083308073,
          -8.517193191416238,
          -8.88825687280707,
          -7.338538195074591,
          -7.222466023821838,
          -7.824046010856292,
          -7.278818960372969,
          -8.622553707074063,
          -5.843044541989709,
          -4.406319327242926,
          -7.824046010856292,
          -5.2030071867437115,
          -7.418580902748128,
          -5.572754212249797,
          -6.319968614080018,
          -5.607563616915658,
          -5.621281253144457,
          -3.2441936328524905,
          -2.8824035882469876,
          -7.621105166859602,
          -8.679712120914012,
          -7.600902459542082,
          -4.3428059215206005,
          -9.372859301473957,
          -7.1184763102977895,
          -9.115030192171858,
          -8.804875263868018,
          -9.433483923290392,
          12.225875272826354,
          10.269518591398885,
          7.035268599281097,
          4.30406509320417,
          -0.21072103131565253,
          2.163323025660538,
          0.3576744442718159,
          0.30010459245033816,
          0.30527638085273207,
          -0.1996711951290677,
          12.206072645530174,
          12.736700896592344,
          11.918390573078392,
          12.180754837545884,
          12.542544882151386,
          12.676076274775909,
          11.719939634354555,
          12.206072645530174,
          12.122691036591123,
          12.301382825334498,
          12.506177237980511,
          12.553202176625375,
          12.513557345278134,
          13.217673557208654,
          12.644327576461329,
          12.479909311159902,
          12.802158113246987,
          12.066810578196666,
          12.250089530946948,
          12.180754837545884,
          -5.184988681241033,
          -7.308232845579262,
          -8.334871634622283,
          -7.986564940354067,
          -8.87386813535497,
          -6.927957986299656,
          -8.047189562170502,
          -6.927957986299656,
          -7.929406526514119,
          -7.236259345954173,
          -3.863232841258714,
          -3.816712825623821,
          -4.767689115485866,
          -4.733003557497976,
          -5.521460917862246,
          -6.907755278982137,
          -5.683979847360021,
          -6.502290170873972,
          -7.418580902748128,
          -6.607650686531799,
          -8.145629634983754,
          -8.87386813535497,
          -7.487573774235079,
          -6.927957986299656,
          -7.308232845579262,
          -7.706262975199909,
          -7.156216638280637,
          -7.208860371766058,
          -8.622553707074063,
          -6.812445099177812,
          -0.527632742082372,
          -1.8773173575897015,
          -2.4651040224918206,
          -1.030019497202498,
          3.8066624897703196,
          6.51025834052315,
          -0.4620354595965587,
          2.0693912058263346,
          6.535241271013659,
          12.196022309676673,
          12.388394202324129,
          13.608486388529947,
          11.751942365440728,
          12.367340793126296,
          11.626254150277232,
          12.35017298950393,
          12.802158113246987,
          12.122691036591123,
          11.863582336583399,
          12.771386454580234,
          11.512925464970229,
          11.744037185933616,
          12.206072645530174,
          11.669929213779893,
          11.790557201568507,
          11.884489021402711,
          12.54966234992025,
          11.211820372186306,
          12.341477282536376,
          12.206072645530174,
          -7.751725349276666,
          -6.980325971816972,
          -7.523941418405954,
          -8.804875263868018,
          -7.354042381610556,
          -7.182192124683898,
          -7.047017346315645,
          -8.568486485803788,
          -7.017570144989343,
          -7.735577362868684,
          -8.568486485803788,
          -8.377431249041079,
          -4.8283137373023015,
          -4.744432253321599,
          -7.013115794639964,
          -6.074846156047033,
          -4.815891217303744,
          -6.812445099177812,
          -5.683979847360021,
          -6.645391014514646,
          -7.435388021064509,
          -6.502290170873972,
          -6.645391014514646,
          -7.106206217705975,
          -7.308232845579262,
          -8.180720954795024,
          -7.250245587928913,
          -9.115030192171858,
          -8.87386813535497,
          -7.035588650492022,
          12.144197241812087,
          3.6375861597263857,
          6.9957661563048505,
          7.15305163493748,
          9.581903928408666,
          9.728538750071586,
          9.583282288378786,
          8.459564078579602,
          6.905753276311464,
          12.220468525813907,
          12.314927050442256,
          12.43320821811392,
          13.021437458814368,
          12.409013489526863,
          12.384218830913648,
          11.782952602183288,
          11.931635799828413,
          12.196022309676673,
          12.745194138451012,
          12.95871439787576,
          12.676076274775909,
          11.835008964139341,
          13.353475098367715,
          12.66349749256905,
          12.388394202324129,
          11.884489021402711,
          12.206072645530174,
          12.043553716032399,
          11.695247021764184,
          12.42315788226042,
          -8.37309284744248,
          -7.368204695423061,
          -8.314252347419547,
          -7.701828378132043,
          -7.384179476030796,
          -7.951879382366177,
          -7.682112514967626,
          -7.50377574881136,
          -7.071451371652927,
          -6.95170716651132,
          -5.240048458424061,
          -6.032286541628237,
          -4.933674252960127,
          -6.437751649736401,
          -5.221356325411908,
          -5.914503505971854,
          -6.630123542383857,
          -6.684611727667927,
          -5.035953102080546,
          -5.914503505971854,
          -6.571283042360924,
          -6.708904420236972,
          -6.7422408405045635,
          -6.821577582741084,
          -6.615085665019317,
          -6.4630694577206915,
          -6.444021262749997,
          -6.630123542383857,
          -6.803395263657894,
          -6.684611727667927,
          9.429475901892854,
          6.313548046277095,
          6.669498089857879,
          8.817001443665859,
          12.197031900878025,
          12.065660491813428,
          3.367295829986474,
          9.298351249298896,
          6.78332520060396,
          2.224623551524334,
          12.406111323129286,
          12.714455287645025,
          12.745310783732842,
          13.194553797944819,
          12.416049900312624,
          12.322877425072258,
          13.294466234003952,
          13.572075009632053,
          12.759440383561834,
          13.526347389230695,
          12.85577199123336,
          12.5166041695796,
          13.382309335509305,
          13.652309042616597,
          13.525813122699134,
          12.834227868832594,
          13.634039039785106,
          13.194671015643337,
          12.911494186965507,
          12.594401767691604
         ],
         "xaxis": "x",
         "y": [
          -1.7719568419318752,
          -1.869504817852908,
          -2.282782465697866,
          -1.8325814637483102,
          -2.2730262907525014,
          -2.2072749131897207,
          -2.0635681925235456,
          -2.3434070875143007,
          -2.2072749131897207,
          -2.0402208285265546,
          -0.6733445532637656,
          -0.9779002135058463,
          -1.6296406197516198,
          -0.9339456671128757,
          -1.9661128563728327,
          -1.4271163556401458,
          -1.8325814637483102,
          -0.7550225842780328,
          -1.6260755535871236,
          -1.0469690555162714,
          -4.779523573132869,
          -4.394909260504895,
          -4.509860006183766,
          -4.605170185988091,
          -4.268697949366879,
          -4.621299567917975,
          -4.6356293934728,
          -4.358310108056566,
          -4.509860006183766,
          -4.3428059215206005,
          2.3608540011180215,
          1.840549633397487,
          1.9740810260220096,
          1.0612565021243408,
          -0.10536051565782628,
          0.5877866649021191,
          0.11332868530700327,
          -0.020202707317519466,
          0.10074990310014315,
          -0.01005033585350145,
          2.9444389791664403,
          3.1354942159291497,
          4.477336814478207,
          2.833213344056216,
          3.2188758248682006,
          3.367295829986474,
          3.8066624897703196,
          4.48863636973214,
          4.430816798843313,
          3.258096538021482,
          7.326465613840322,
          7.138866999945524,
          7.075808863978387,
          7.4073177104694174,
          7.188412736496954,
          7.207118856207756,
          7.422373700986824,
          7.157735484249907,
          6.86171134048073,
          7.343426229147367,
          -2.864704011147587,
          -1.6607312068216509,
          -2.364460496712133,
          -2.388142981355692,
          -2.1541650878757723,
          -2.0249533563957662,
          -2.375155785828881,
          -2.3957974747162245,
          -2.137070654516472,
          -2.120263536200091,
          -1.2982834837971773,
          -0.9675840262617056,
          -1.7147984280919266,
          -1.0498221244986778,
          -1.2344320118106447,
          -1.0498221244986778,
          -1.4271163556401458,
          -1.18090753139494,
          -2.322787800311565,
          -1.8263509139976741,
          -4.422848629194137,
          -4.688551794927142,
          -4.656463480375642,
          -4.199705077879927,
          -4.721704002244043,
          -4.518992489747039,
          -4.688551794927142,
          -4.744432253321599,
          -4.719459332390219,
          -4.3351430487750315,
          -0.09431067947124129,
          -0.14502577205025774,
          -0.2294131643278051,
          0.12221763272424911,
          0.9669838461896731,
          1.9430489167742813,
          -0.13238918804574562,
          0.29266961396282004,
          1.9473377010464987,
          2.322387720290225,
          2.4849066497880004,
          2.6390573296152584,
          3.58351893845611,
          4.418840607796598,
          2.4849066497880004,
          3.7376696182833684,
          4.143134726391533,
          3.58351893845611,
          4.04305126783455,
          4.204692619390966,
          7.161622002939187,
          7.024649030453636,
          7.399398083331354,
          7.303843225277705,
          7.3277805384216315,
          7.188412736496954,
          7.335633981927201,
          6.775366090936392,
          7.2909747781429814,
          7.188412736496954,
          -2.3947003819018513,
          -2.32687778556309,
          -2.2072749131897207,
          -2.3730075572905913,
          -2.2164073967529934,
          -2.111964733385396,
          -2.3730075572905913,
          -2.4090573375045627,
          -2.5484856314308715,
          -2.4580699958344407,
          -0.709276562489829,
          -0.9675840262617056,
          -1.171182981502945,
          -1.0788096613719298,
          -0.4780358009429998,
          -0.31471074483970024,
          -1.4271163556401458,
          -0.579818495252942,
          -1.0788096613719298,
          -1.3625778345025745,
          -4.624353005404865,
          -4.491841500681089,
          -4.673449026741386,
          -4.63356966050979,
          -4.712755396668029,
          -4.734140567285052,
          -4.6617405374764855,
          -4.719459332390219,
          -4.735278871335112,
          -4.60917820738563,
          1.7950872593207297,
          0.9110771648212677,
          1.7483299113007191,
          1.7369512327330598,
          1.7783364488959144,
          1.8562979903656263,
          1.7029282555214393,
          1.9139771019523042,
          1.8261608959453874,
          1.925707441737794,
          4.04305126783455,
          3.58351893845611,
          4.418840607796598,
          4.574710978503383,
          3.5553480614894135,
          3.1780538303479458,
          4.290459441148391,
          3.6635616461296463,
          3.4011973816621555,
          3.1780538303479458,
          7.299797366758161,
          7.258412150595307,
          7.181591944611865,
          7.425953657077541,
          7.081708586105575,
          7.347943823148687,
          6.951772164398911,
          7.483806687665835,
          6.563714472860972,
          7.033947304219897,
          -2.3914163067006613,
          -2.1541650878757723,
          -2.071473372030659,
          -2.3156703325427013,
          -2.560061323388761,
          -2.3299562897901778,
          -2.1286317858706076,
          -2.304587095664719,
          -2.1892564076870427,
          -2.047942874620465,
          -1.9105430052180221,
          -0.7765287894989963,
          -1.2729656758128873,
          -0.9728610833625494,
          -1.1425641761972924,
          -0.40047756659712525,
          -1.3547956940605197,
          -1.0906441190189327,
          -0.7528971849657193,
          -0.3930425881096072,
          -4.414549826379441,
          -4.474141923581687,
          -4.482952553263842,
          -4.456750180869818,
          -4.390058806371146,
          -4.254513314374922,
          -4.3661532855175915,
          -4.56594947283481,
          -4.546901277864116,
          -4.607172188658764,
          1.8500283773520307,
          1.7674667766590104,
          1.7904252462149184,
          1.8931119634883424,
          1.8547342683894434,
          1.8304992975439855,
          0.6471032420585384,
          1.7967470107390942,
          1.7321863776931536,
          0.6575200029167941,
          3.5553480614894135,
          4.330733340286331,
          4.584967478670572,
          4.394449154672439,
          4.127134385045092,
          3.828641396489095,
          4.382026634673881,
          3.2188758248682006,
          4.454347296253507,
          4.5217885770490405,
          7.309212365692763,
          7.212294468500341,
          7.574815124778764,
          7.132497551660044,
          7.029972911706386,
          7.212294468500341,
          7.085064293952548,
          7.260522598089852,
          7.013915474810528,
          7.48605261786314
         ],
         "yaxis": "y"
        }
       ],
       "layout": {
        "coloraxis": {
         "colorbar": {
          "title": {
           "text": "Star type"
          }
         },
         "colorscale": [
          [
           0,
           "#0d0887"
          ],
          [
           0.1111111111111111,
           "#46039f"
          ],
          [
           0.2222222222222222,
           "#7201a8"
          ],
          [
           0.3333333333333333,
           "#9c179e"
          ],
          [
           0.4444444444444444,
           "#bd3786"
          ],
          [
           0.5555555555555556,
           "#d8576b"
          ],
          [
           0.6666666666666666,
           "#ed7953"
          ],
          [
           0.7777777777777778,
           "#fb9f3a"
          ],
          [
           0.8888888888888888,
           "#fdca26"
          ],
          [
           1,
           "#f0f921"
          ]
         ]
        },
        "legend": {
         "itemsizing": "constant",
         "tracegroupgap": 0
        },
        "margin": {
         "t": 60
        },
        "template": {
         "data": {
          "bar": [
           {
            "error_x": {
             "color": "#2a3f5f"
            },
            "error_y": {
             "color": "#2a3f5f"
            },
            "marker": {
             "line": {
              "color": "#E5ECF6",
              "width": 0.5
             },
             "pattern": {
              "fillmode": "overlay",
              "size": 10,
              "solidity": 0.2
             }
            },
            "type": "bar"
           }
          ],
          "barpolar": [
           {
            "marker": {
             "line": {
              "color": "#E5ECF6",
              "width": 0.5
             },
             "pattern": {
              "fillmode": "overlay",
              "size": 10,
              "solidity": 0.2
             }
            },
            "type": "barpolar"
           }
          ],
          "carpet": [
           {
            "aaxis": {
             "endlinecolor": "#2a3f5f",
             "gridcolor": "white",
             "linecolor": "white",
             "minorgridcolor": "white",
             "startlinecolor": "#2a3f5f"
            },
            "baxis": {
             "endlinecolor": "#2a3f5f",
             "gridcolor": "white",
             "linecolor": "white",
             "minorgridcolor": "white",
             "startlinecolor": "#2a3f5f"
            },
            "type": "carpet"
           }
          ],
          "choropleth": [
           {
            "colorbar": {
             "outlinewidth": 0,
             "ticks": ""
            },
            "type": "choropleth"
           }
          ],
          "contour": [
           {
            "colorbar": {
             "outlinewidth": 0,
             "ticks": ""
            },
            "colorscale": [
             [
              0,
              "#0d0887"
             ],
             [
              0.1111111111111111,
              "#46039f"
             ],
             [
              0.2222222222222222,
              "#7201a8"
             ],
             [
              0.3333333333333333,
              "#9c179e"
             ],
             [
              0.4444444444444444,
              "#bd3786"
             ],
             [
              0.5555555555555556,
              "#d8576b"
             ],
             [
              0.6666666666666666,
              "#ed7953"
             ],
             [
              0.7777777777777778,
              "#fb9f3a"
             ],
             [
              0.8888888888888888,
              "#fdca26"
             ],
             [
              1,
              "#f0f921"
             ]
            ],
            "type": "contour"
           }
          ],
          "contourcarpet": [
           {
            "colorbar": {
             "outlinewidth": 0,
             "ticks": ""
            },
            "type": "contourcarpet"
           }
          ],
          "heatmap": [
           {
            "colorbar": {
             "outlinewidth": 0,
             "ticks": ""
            },
            "colorscale": [
             [
              0,
              "#0d0887"
             ],
             [
              0.1111111111111111,
              "#46039f"
             ],
             [
              0.2222222222222222,
              "#7201a8"
             ],
             [
              0.3333333333333333,
              "#9c179e"
             ],
             [
              0.4444444444444444,
              "#bd3786"
             ],
             [
              0.5555555555555556,
              "#d8576b"
             ],
             [
              0.6666666666666666,
              "#ed7953"
             ],
             [
              0.7777777777777778,
              "#fb9f3a"
             ],
             [
              0.8888888888888888,
              "#fdca26"
             ],
             [
              1,
              "#f0f921"
             ]
            ],
            "type": "heatmap"
           }
          ],
          "heatmapgl": [
           {
            "colorbar": {
             "outlinewidth": 0,
             "ticks": ""
            },
            "colorscale": [
             [
              0,
              "#0d0887"
             ],
             [
              0.1111111111111111,
              "#46039f"
             ],
             [
              0.2222222222222222,
              "#7201a8"
             ],
             [
              0.3333333333333333,
              "#9c179e"
             ],
             [
              0.4444444444444444,
              "#bd3786"
             ],
             [
              0.5555555555555556,
              "#d8576b"
             ],
             [
              0.6666666666666666,
              "#ed7953"
             ],
             [
              0.7777777777777778,
              "#fb9f3a"
             ],
             [
              0.8888888888888888,
              "#fdca26"
             ],
             [
              1,
              "#f0f921"
             ]
            ],
            "type": "heatmapgl"
           }
          ],
          "histogram": [
           {
            "marker": {
             "pattern": {
              "fillmode": "overlay",
              "size": 10,
              "solidity": 0.2
             }
            },
            "type": "histogram"
           }
          ],
          "histogram2d": [
           {
            "colorbar": {
             "outlinewidth": 0,
             "ticks": ""
            },
            "colorscale": [
             [
              0,
              "#0d0887"
             ],
             [
              0.1111111111111111,
              "#46039f"
             ],
             [
              0.2222222222222222,
              "#7201a8"
             ],
             [
              0.3333333333333333,
              "#9c179e"
             ],
             [
              0.4444444444444444,
              "#bd3786"
             ],
             [
              0.5555555555555556,
              "#d8576b"
             ],
             [
              0.6666666666666666,
              "#ed7953"
             ],
             [
              0.7777777777777778,
              "#fb9f3a"
             ],
             [
              0.8888888888888888,
              "#fdca26"
             ],
             [
              1,
              "#f0f921"
             ]
            ],
            "type": "histogram2d"
           }
          ],
          "histogram2dcontour": [
           {
            "colorbar": {
             "outlinewidth": 0,
             "ticks": ""
            },
            "colorscale": [
             [
              0,
              "#0d0887"
             ],
             [
              0.1111111111111111,
              "#46039f"
             ],
             [
              0.2222222222222222,
              "#7201a8"
             ],
             [
              0.3333333333333333,
              "#9c179e"
             ],
             [
              0.4444444444444444,
              "#bd3786"
             ],
             [
              0.5555555555555556,
              "#d8576b"
             ],
             [
              0.6666666666666666,
              "#ed7953"
             ],
             [
              0.7777777777777778,
              "#fb9f3a"
             ],
             [
              0.8888888888888888,
              "#fdca26"
             ],
             [
              1,
              "#f0f921"
             ]
            ],
            "type": "histogram2dcontour"
           }
          ],
          "mesh3d": [
           {
            "colorbar": {
             "outlinewidth": 0,
             "ticks": ""
            },
            "type": "mesh3d"
           }
          ],
          "parcoords": [
           {
            "line": {
             "colorbar": {
              "outlinewidth": 0,
              "ticks": ""
             }
            },
            "type": "parcoords"
           }
          ],
          "pie": [
           {
            "automargin": true,
            "type": "pie"
           }
          ],
          "scatter": [
           {
            "fillpattern": {
             "fillmode": "overlay",
             "size": 10,
             "solidity": 0.2
            },
            "type": "scatter"
           }
          ],
          "scatter3d": [
           {
            "line": {
             "colorbar": {
              "outlinewidth": 0,
              "ticks": ""
             }
            },
            "marker": {
             "colorbar": {
              "outlinewidth": 0,
              "ticks": ""
             }
            },
            "type": "scatter3d"
           }
          ],
          "scattercarpet": [
           {
            "marker": {
             "colorbar": {
              "outlinewidth": 0,
              "ticks": ""
             }
            },
            "type": "scattercarpet"
           }
          ],
          "scattergeo": [
           {
            "marker": {
             "colorbar": {
              "outlinewidth": 0,
              "ticks": ""
             }
            },
            "type": "scattergeo"
           }
          ],
          "scattergl": [
           {
            "marker": {
             "colorbar": {
              "outlinewidth": 0,
              "ticks": ""
             }
            },
            "type": "scattergl"
           }
          ],
          "scattermapbox": [
           {
            "marker": {
             "colorbar": {
              "outlinewidth": 0,
              "ticks": ""
             }
            },
            "type": "scattermapbox"
           }
          ],
          "scatterpolar": [
           {
            "marker": {
             "colorbar": {
              "outlinewidth": 0,
              "ticks": ""
             }
            },
            "type": "scatterpolar"
           }
          ],
          "scatterpolargl": [
           {
            "marker": {
             "colorbar": {
              "outlinewidth": 0,
              "ticks": ""
             }
            },
            "type": "scatterpolargl"
           }
          ],
          "scatterternary": [
           {
            "marker": {
             "colorbar": {
              "outlinewidth": 0,
              "ticks": ""
             }
            },
            "type": "scatterternary"
           }
          ],
          "surface": [
           {
            "colorbar": {
             "outlinewidth": 0,
             "ticks": ""
            },
            "colorscale": [
             [
              0,
              "#0d0887"
             ],
             [
              0.1111111111111111,
              "#46039f"
             ],
             [
              0.2222222222222222,
              "#7201a8"
             ],
             [
              0.3333333333333333,
              "#9c179e"
             ],
             [
              0.4444444444444444,
              "#bd3786"
             ],
             [
              0.5555555555555556,
              "#d8576b"
             ],
             [
              0.6666666666666666,
              "#ed7953"
             ],
             [
              0.7777777777777778,
              "#fb9f3a"
             ],
             [
              0.8888888888888888,
              "#fdca26"
             ],
             [
              1,
              "#f0f921"
             ]
            ],
            "type": "surface"
           }
          ],
          "table": [
           {
            "cells": {
             "fill": {
              "color": "#EBF0F8"
             },
             "line": {
              "color": "white"
             }
            },
            "header": {
             "fill": {
              "color": "#C8D4E3"
             },
             "line": {
              "color": "white"
             }
            },
            "type": "table"
           }
          ]
         },
         "layout": {
          "annotationdefaults": {
           "arrowcolor": "#2a3f5f",
           "arrowhead": 0,
           "arrowwidth": 1
          },
          "autotypenumbers": "strict",
          "coloraxis": {
           "colorbar": {
            "outlinewidth": 0,
            "ticks": ""
           }
          },
          "colorscale": {
           "diverging": [
            [
             0,
             "#8e0152"
            ],
            [
             0.1,
             "#c51b7d"
            ],
            [
             0.2,
             "#de77ae"
            ],
            [
             0.3,
             "#f1b6da"
            ],
            [
             0.4,
             "#fde0ef"
            ],
            [
             0.5,
             "#f7f7f7"
            ],
            [
             0.6,
             "#e6f5d0"
            ],
            [
             0.7,
             "#b8e186"
            ],
            [
             0.8,
             "#7fbc41"
            ],
            [
             0.9,
             "#4d9221"
            ],
            [
             1,
             "#276419"
            ]
           ],
           "sequential": [
            [
             0,
             "#0d0887"
            ],
            [
             0.1111111111111111,
             "#46039f"
            ],
            [
             0.2222222222222222,
             "#7201a8"
            ],
            [
             0.3333333333333333,
             "#9c179e"
            ],
            [
             0.4444444444444444,
             "#bd3786"
            ],
            [
             0.5555555555555556,
             "#d8576b"
            ],
            [
             0.6666666666666666,
             "#ed7953"
            ],
            [
             0.7777777777777778,
             "#fb9f3a"
            ],
            [
             0.8888888888888888,
             "#fdca26"
            ],
            [
             1,
             "#f0f921"
            ]
           ],
           "sequentialminus": [
            [
             0,
             "#0d0887"
            ],
            [
             0.1111111111111111,
             "#46039f"
            ],
            [
             0.2222222222222222,
             "#7201a8"
            ],
            [
             0.3333333333333333,
             "#9c179e"
            ],
            [
             0.4444444444444444,
             "#bd3786"
            ],
            [
             0.5555555555555556,
             "#d8576b"
            ],
            [
             0.6666666666666666,
             "#ed7953"
            ],
            [
             0.7777777777777778,
             "#fb9f3a"
            ],
            [
             0.8888888888888888,
             "#fdca26"
            ],
            [
             1,
             "#f0f921"
            ]
           ]
          },
          "colorway": [
           "#636efa",
           "#EF553B",
           "#00cc96",
           "#ab63fa",
           "#FFA15A",
           "#19d3f3",
           "#FF6692",
           "#B6E880",
           "#FF97FF",
           "#FECB52"
          ],
          "font": {
           "color": "#2a3f5f"
          },
          "geo": {
           "bgcolor": "white",
           "lakecolor": "white",
           "landcolor": "#E5ECF6",
           "showlakes": true,
           "showland": true,
           "subunitcolor": "white"
          },
          "hoverlabel": {
           "align": "left"
          },
          "hovermode": "closest",
          "mapbox": {
           "style": "light"
          },
          "paper_bgcolor": "white",
          "plot_bgcolor": "#E5ECF6",
          "polar": {
           "angularaxis": {
            "gridcolor": "white",
            "linecolor": "white",
            "ticks": ""
           },
           "bgcolor": "#E5ECF6",
           "radialaxis": {
            "gridcolor": "white",
            "linecolor": "white",
            "ticks": ""
           }
          },
          "scene": {
           "xaxis": {
            "backgroundcolor": "#E5ECF6",
            "gridcolor": "white",
            "gridwidth": 2,
            "linecolor": "white",
            "showbackground": true,
            "ticks": "",
            "zerolinecolor": "white"
           },
           "yaxis": {
            "backgroundcolor": "#E5ECF6",
            "gridcolor": "white",
            "gridwidth": 2,
            "linecolor": "white",
            "showbackground": true,
            "ticks": "",
            "zerolinecolor": "white"
           },
           "zaxis": {
            "backgroundcolor": "#E5ECF6",
            "gridcolor": "white",
            "gridwidth": 2,
            "linecolor": "white",
            "showbackground": true,
            "ticks": "",
            "zerolinecolor": "white"
           }
          },
          "shapedefaults": {
           "line": {
            "color": "#2a3f5f"
           }
          },
          "ternary": {
           "aaxis": {
            "gridcolor": "white",
            "linecolor": "white",
            "ticks": ""
           },
           "baxis": {
            "gridcolor": "white",
            "linecolor": "white",
            "ticks": ""
           },
           "bgcolor": "#E5ECF6",
           "caxis": {
            "gridcolor": "white",
            "linecolor": "white",
            "ticks": ""
           }
          },
          "title": {
           "x": 0.05
          },
          "xaxis": {
           "automargin": true,
           "gridcolor": "white",
           "linecolor": "white",
           "ticks": "",
           "title": {
            "standoff": 15
           },
           "zerolinecolor": "white",
           "zerolinewidth": 2
          },
          "yaxis": {
           "automargin": true,
           "gridcolor": "white",
           "linecolor": "white",
           "ticks": "",
           "title": {
            "standoff": 15
           },
           "zerolinecolor": "white",
           "zerolinewidth": 2
          }
         }
        },
        "xaxis": {
         "anchor": "y",
         "domain": [
          0,
          1
         ],
         "title": {
          "text": "Luminosity(L/Lo)"
         }
        },
        "yaxis": {
         "anchor": "x",
         "domain": [
          0,
          1
         ],
         "title": {
          "text": "Radius(R/Ro)"
         }
        }
       }
      }
     },
     "metadata": {},
     "output_type": "display_data"
    }
   ],
   "source": [
    "#plot: luminosity(X) vs radius(Y) \n",
    "\n",
    "fig = px.scatter(dataset, x=np.log(dataset['Luminosity(L/Lo)']), y=np.log(dataset['Radius(R/Ro)']), color=dataset['Star type'],\n",
    "                 size=np.abs(np.log(dataset['Radius(R/Ro)'])), hover_data=['Radius(R/Ro)'],\n",
    "                 labels={'x':'Luminosity(L/Lo)', 'y':'Radius(R/Ro)'})\n",
    "fig.show()"
   ]
  },
  {
   "cell_type": "code",
   "execution_count": null,
   "metadata": {},
   "outputs": [
    {
     "data": {
      "application/vnd.plotly.v1+json": {
       "config": {
        "plotlyServerURL": "https://plot.ly"
       },
       "data": [
        {
         "customdata": [
          [
           0.17
          ],
          [
           0.1542
          ],
          [
           0.102
          ],
          [
           0.16
          ],
          [
           0.103
          ],
          [
           0.11
          ],
          [
           0.127
          ],
          [
           0.096
          ],
          [
           0.11
          ],
          [
           0.13
          ],
          [
           0.51
          ],
          [
           0.3761
          ],
          [
           0.196
          ],
          [
           0.393
          ],
          [
           0.14
          ],
          [
           0.24
          ],
          [
           0.16
          ],
          [
           0.47
          ],
          [
           0.1967
          ],
          [
           0.351
          ],
          [
           0.0084
          ],
          [
           0.01234
          ],
          [
           0.011
          ],
          [
           0.01
          ],
          [
           0.014
          ],
          [
           0.00984
          ],
          [
           0.0097
          ],
          [
           0.0128
          ],
          [
           0.011
          ],
          [
           0.013
          ],
          [
           10.6
          ],
          [
           6.3
          ],
          [
           7.2
          ],
          [
           2.89
          ],
          [
           0.9
          ],
          [
           1.8
          ],
          [
           1.12
          ],
          [
           0.98
          ],
          [
           1.106
          ],
          [
           0.99
          ],
          [
           19
          ],
          [
           23
          ],
          [
           88
          ],
          [
           17
          ],
          [
           25
          ],
          [
           29
          ],
          [
           45
          ],
          [
           89
          ],
          [
           84
          ],
          [
           26
          ],
          [
           1520
          ],
          [
           1260
          ],
          [
           1183
          ],
          [
           1648
          ],
          [
           1324
          ],
          [
           1349
          ],
          [
           1673
          ],
          [
           1284
          ],
          [
           955
          ],
          [
           1546
          ],
          [
           0.057
          ],
          [
           0.19
          ],
          [
           0.094
          ],
          [
           0.0918
          ],
          [
           0.116
          ],
          [
           0.132
          ],
          [
           0.093
          ],
          [
           0.0911
          ],
          [
           0.118
          ],
          [
           0.12
          ],
          [
           0.273
          ],
          [
           0.38
          ],
          [
           0.18
          ],
          [
           0.35
          ],
          [
           0.291
          ],
          [
           0.35
          ],
          [
           0.24
          ],
          [
           0.307
          ],
          [
           0.098
          ],
          [
           0.161
          ],
          [
           0.012
          ],
          [
           0.0092
          ],
          [
           0.0095
          ],
          [
           0.015
          ],
          [
           0.0089
          ],
          [
           0.0109
          ],
          [
           0.0092
          ],
          [
           0.0087
          ],
          [
           0.00892
          ],
          [
           0.0131
          ],
          [
           0.91
          ],
          [
           0.865
          ],
          [
           0.795
          ],
          [
           1.13
          ],
          [
           2.63
          ],
          [
           6.98
          ],
          [
           0.876
          ],
          [
           1.34
          ],
          [
           7.01
          ],
          [
           10.2
          ],
          [
           12
          ],
          [
           14
          ],
          [
           36
          ],
          [
           83
          ],
          [
           12
          ],
          [
           42
          ],
          [
           63
          ],
          [
           36
          ],
          [
           57
          ],
          [
           67
          ],
          [
           1289
          ],
          [
           1124
          ],
          [
           1635
          ],
          [
           1486
          ],
          [
           1522
          ],
          [
           1324
          ],
          [
           1534
          ],
          [
           876
          ],
          [
           1467
          ],
          [
           1324
          ],
          [
           0.0912
          ],
          [
           0.0976
          ],
          [
           0.11
          ],
          [
           0.0932
          ],
          [
           0.109
          ],
          [
           0.121
          ],
          [
           0.0932
          ],
          [
           0.0899
          ],
          [
           0.0782
          ],
          [
           0.0856
          ],
          [
           0.492
          ],
          [
           0.38
          ],
          [
           0.31
          ],
          [
           0.34
          ],
          [
           0.62
          ],
          [
           0.73
          ],
          [
           0.24
          ],
          [
           0.56
          ],
          [
           0.34
          ],
          [
           0.256
          ],
          [
           0.00981
          ],
          [
           0.0112
          ],
          [
           0.00934
          ],
          [
           0.00972
          ],
          [
           0.00898
          ],
          [
           0.00879
          ],
          [
           0.00945
          ],
          [
           0.00892
          ],
          [
           0.00878
          ],
          [
           0.00996
          ],
          [
           6.02
          ],
          [
           2.487
          ],
          [
           5.745
          ],
          [
           5.68
          ],
          [
           5.92
          ],
          [
           6.4
          ],
          [
           5.49
          ],
          [
           6.78
          ],
          [
           6.21
          ],
          [
           6.86
          ],
          [
           57
          ],
          [
           36
          ],
          [
           83
          ],
          [
           97
          ],
          [
           35
          ],
          [
           24
          ],
          [
           73
          ],
          [
           39
          ],
          [
           30
          ],
          [
           24
          ],
          [
           1480
          ],
          [
           1420
          ],
          [
           1315
          ],
          [
           1679
          ],
          [
           1190
          ],
          [
           1553
          ],
          [
           1045
          ],
          [
           1779
          ],
          [
           708.9
          ],
          [
           1134.5
          ],
          [
           0.0915
          ],
          [
           0.116
          ],
          [
           0.126
          ],
          [
           0.0987
          ],
          [
           0.0773
          ],
          [
           0.0973
          ],
          [
           0.119
          ],
          [
           0.0998
          ],
          [
           0.112
          ],
          [
           0.129
          ],
          [
           0.148
          ],
          [
           0.46
          ],
          [
           0.28
          ],
          [
           0.378
          ],
          [
           0.319
          ],
          [
           0.67
          ],
          [
           0.258
          ],
          [
           0.336
          ],
          [
           0.471
          ],
          [
           0.675
          ],
          [
           0.0121
          ],
          [
           0.0114
          ],
          [
           0.0113
          ],
          [
           0.0116
          ],
          [
           0.0124
          ],
          [
           0.0142
          ],
          [
           0.0127
          ],
          [
           0.0104
          ],
          [
           0.0106
          ],
          [
           0.00998
          ],
          [
           6.36
          ],
          [
           5.856
          ],
          [
           5.992
          ],
          [
           6.64
          ],
          [
           6.39
          ],
          [
           6.237
          ],
          [
           1.91
          ],
          [
           6.03
          ],
          [
           5.653
          ],
          [
           1.93
          ],
          [
           35
          ],
          [
           76
          ],
          [
           98
          ],
          [
           81
          ],
          [
           62
          ],
          [
           46
          ],
          [
           80
          ],
          [
           25
          ],
          [
           86
          ],
          [
           92
          ],
          [
           1494
          ],
          [
           1356
          ],
          [
           1948.5
          ],
          [
           1252
          ],
          [
           1130
          ],
          [
           1356
          ],
          [
           1194
          ],
          [
           1423
          ],
          [
           1112
          ],
          [
           1783
          ]
         ],
         "hovertemplate": "Radius(R/Ro)=%{customdata[0]}<br>Temperature (K)=%{y}<br>size=%{marker.size}<br>Star type=%{marker.color}<extra></extra>",
         "legendgroup": "",
         "marker": {
          "color": [
           0,
           0,
           0,
           0,
           0,
           0,
           0,
           0,
           0,
           0,
           1,
           1,
           1,
           1,
           1,
           1,
           1,
           1,
           1,
           1,
           2,
           2,
           2,
           2,
           2,
           2,
           2,
           2,
           2,
           2,
           3,
           3,
           3,
           3,
           3,
           3,
           3,
           3,
           3,
           3,
           4,
           4,
           4,
           4,
           4,
           4,
           4,
           4,
           4,
           4,
           5,
           5,
           5,
           5,
           5,
           5,
           5,
           5,
           5,
           5,
           0,
           0,
           0,
           0,
           0,
           0,
           0,
           0,
           0,
           0,
           1,
           1,
           1,
           1,
           1,
           1,
           1,
           1,
           1,
           1,
           2,
           2,
           2,
           2,
           2,
           2,
           2,
           2,
           2,
           2,
           3,
           3,
           3,
           3,
           3,
           3,
           3,
           3,
           3,
           3,
           4,
           4,
           4,
           4,
           4,
           4,
           4,
           4,
           4,
           4,
           5,
           5,
           5,
           5,
           5,
           5,
           5,
           5,
           5,
           5,
           0,
           0,
           0,
           0,
           0,
           0,
           0,
           0,
           0,
           0,
           1,
           1,
           1,
           1,
           1,
           1,
           1,
           1,
           1,
           1,
           2,
           2,
           2,
           2,
           2,
           2,
           2,
           2,
           2,
           2,
           3,
           3,
           3,
           3,
           3,
           3,
           3,
           3,
           3,
           3,
           4,
           4,
           4,
           4,
           4,
           4,
           4,
           4,
           4,
           4,
           5,
           5,
           5,
           5,
           5,
           5,
           5,
           5,
           5,
           5,
           0,
           0,
           0,
           0,
           0,
           0,
           0,
           0,
           0,
           0,
           1,
           1,
           1,
           1,
           1,
           1,
           1,
           1,
           1,
           1,
           2,
           2,
           2,
           2,
           2,
           2,
           2,
           2,
           2,
           2,
           3,
           3,
           3,
           3,
           3,
           3,
           3,
           3,
           3,
           3,
           4,
           4,
           4,
           4,
           4,
           4,
           4,
           4,
           4,
           4,
           5,
           5,
           5,
           5,
           5,
           5,
           5,
           5,
           5,
           5
          ],
          "coloraxis": "coloraxis",
          "size": [
           1.7719568419318752,
           1.869504817852908,
           2.282782465697866,
           1.8325814637483102,
           2.2730262907525014,
           2.2072749131897207,
           2.0635681925235456,
           2.3434070875143007,
           2.2072749131897207,
           2.0402208285265546,
           0.6733445532637656,
           0.9779002135058463,
           1.6296406197516198,
           0.9339456671128757,
           1.9661128563728327,
           1.4271163556401458,
           1.8325814637483102,
           0.7550225842780328,
           1.6260755535871236,
           1.0469690555162714,
           4.779523573132869,
           4.394909260504895,
           4.509860006183766,
           4.605170185988091,
           4.268697949366879,
           4.621299567917975,
           4.6356293934728,
           4.358310108056566,
           4.509860006183766,
           4.3428059215206005,
           2.3608540011180215,
           1.840549633397487,
           1.9740810260220096,
           1.0612565021243408,
           0.10536051565782628,
           0.5877866649021191,
           0.11332868530700327,
           0.020202707317519466,
           0.10074990310014315,
           0.01005033585350145,
           2.9444389791664403,
           3.1354942159291497,
           4.477336814478207,
           2.833213344056216,
           3.2188758248682006,
           3.367295829986474,
           3.8066624897703196,
           4.48863636973214,
           4.430816798843313,
           3.258096538021482,
           7.326465613840322,
           7.138866999945524,
           7.075808863978387,
           7.4073177104694174,
           7.188412736496954,
           7.207118856207756,
           7.422373700986824,
           7.157735484249907,
           6.86171134048073,
           7.343426229147367,
           2.864704011147587,
           1.6607312068216509,
           2.364460496712133,
           2.388142981355692,
           2.1541650878757723,
           2.0249533563957662,
           2.375155785828881,
           2.3957974747162245,
           2.137070654516472,
           2.120263536200091,
           1.2982834837971773,
           0.9675840262617056,
           1.7147984280919266,
           1.0498221244986778,
           1.2344320118106447,
           1.0498221244986778,
           1.4271163556401458,
           1.18090753139494,
           2.322787800311565,
           1.8263509139976741,
           4.422848629194137,
           4.688551794927142,
           4.656463480375642,
           4.199705077879927,
           4.721704002244043,
           4.518992489747039,
           4.688551794927142,
           4.744432253321599,
           4.719459332390219,
           4.3351430487750315,
           0.09431067947124129,
           0.14502577205025774,
           0.2294131643278051,
           0.12221763272424911,
           0.9669838461896731,
           1.9430489167742813,
           0.13238918804574562,
           0.29266961396282004,
           1.9473377010464987,
           2.322387720290225,
           2.4849066497880004,
           2.6390573296152584,
           3.58351893845611,
           4.418840607796598,
           2.4849066497880004,
           3.7376696182833684,
           4.143134726391533,
           3.58351893845611,
           4.04305126783455,
           4.204692619390966,
           7.161622002939187,
           7.024649030453636,
           7.399398083331354,
           7.303843225277705,
           7.3277805384216315,
           7.188412736496954,
           7.335633981927201,
           6.775366090936392,
           7.2909747781429814,
           7.188412736496954,
           2.3947003819018513,
           2.32687778556309,
           2.2072749131897207,
           2.3730075572905913,
           2.2164073967529934,
           2.111964733385396,
           2.3730075572905913,
           2.4090573375045627,
           2.5484856314308715,
           2.4580699958344407,
           0.709276562489829,
           0.9675840262617056,
           1.171182981502945,
           1.0788096613719298,
           0.4780358009429998,
           0.31471074483970024,
           1.4271163556401458,
           0.579818495252942,
           1.0788096613719298,
           1.3625778345025745,
           4.624353005404865,
           4.491841500681089,
           4.673449026741386,
           4.63356966050979,
           4.712755396668029,
           4.734140567285052,
           4.6617405374764855,
           4.719459332390219,
           4.735278871335112,
           4.60917820738563,
           1.7950872593207297,
           0.9110771648212677,
           1.7483299113007191,
           1.7369512327330598,
           1.7783364488959144,
           1.8562979903656263,
           1.7029282555214393,
           1.9139771019523042,
           1.8261608959453874,
           1.925707441737794,
           4.04305126783455,
           3.58351893845611,
           4.418840607796598,
           4.574710978503383,
           3.5553480614894135,
           3.1780538303479458,
           4.290459441148391,
           3.6635616461296463,
           3.4011973816621555,
           3.1780538303479458,
           7.299797366758161,
           7.258412150595307,
           7.181591944611865,
           7.425953657077541,
           7.081708586105575,
           7.347943823148687,
           6.951772164398911,
           7.483806687665835,
           6.563714472860972,
           7.033947304219897,
           2.3914163067006613,
           2.1541650878757723,
           2.071473372030659,
           2.3156703325427013,
           2.560061323388761,
           2.3299562897901778,
           2.1286317858706076,
           2.304587095664719,
           2.1892564076870427,
           2.047942874620465,
           1.9105430052180221,
           0.7765287894989963,
           1.2729656758128873,
           0.9728610833625494,
           1.1425641761972924,
           0.40047756659712525,
           1.3547956940605197,
           1.0906441190189327,
           0.7528971849657193,
           0.3930425881096072,
           4.414549826379441,
           4.474141923581687,
           4.482952553263842,
           4.456750180869818,
           4.390058806371146,
           4.254513314374922,
           4.3661532855175915,
           4.56594947283481,
           4.546901277864116,
           4.607172188658764,
           1.8500283773520307,
           1.7674667766590104,
           1.7904252462149184,
           1.8931119634883424,
           1.8547342683894434,
           1.8304992975439855,
           0.6471032420585384,
           1.7967470107390942,
           1.7321863776931536,
           0.6575200029167941,
           3.5553480614894135,
           4.330733340286331,
           4.584967478670572,
           4.394449154672439,
           4.127134385045092,
           3.828641396489095,
           4.382026634673881,
           3.2188758248682006,
           4.454347296253507,
           4.5217885770490405,
           7.309212365692763,
           7.212294468500341,
           7.574815124778764,
           7.132497551660044,
           7.029972911706386,
           7.212294468500341,
           7.085064293952548,
           7.260522598089852,
           7.013915474810528,
           7.48605261786314
          ],
          "sizemode": "area",
          "sizeref": 0.01893703781194691,
          "symbol": "circle"
         },
         "mode": "markers",
         "name": "",
         "orientation": "v",
         "showlegend": false,
         "type": "scatter",
         "x": [
          -1.7719568419318752,
          -1.869504817852908,
          -2.282782465697866,
          -1.8325814637483102,
          -2.2730262907525014,
          -2.2072749131897207,
          -2.0635681925235456,
          -2.3434070875143007,
          -2.2072749131897207,
          -2.0402208285265546,
          -0.6733445532637656,
          -0.9779002135058463,
          -1.6296406197516198,
          -0.9339456671128757,
          -1.9661128563728327,
          -1.4271163556401458,
          -1.8325814637483102,
          -0.7550225842780328,
          -1.6260755535871236,
          -1.0469690555162714,
          -4.779523573132869,
          -4.394909260504895,
          -4.509860006183766,
          -4.605170185988091,
          -4.268697949366879,
          -4.621299567917975,
          -4.6356293934728,
          -4.358310108056566,
          -4.509860006183766,
          -4.3428059215206005,
          2.3608540011180215,
          1.840549633397487,
          1.9740810260220096,
          1.0612565021243408,
          -0.10536051565782628,
          0.5877866649021191,
          0.11332868530700327,
          -0.020202707317519466,
          0.10074990310014315,
          -0.01005033585350145,
          2.9444389791664403,
          3.1354942159291497,
          4.477336814478207,
          2.833213344056216,
          3.2188758248682006,
          3.367295829986474,
          3.8066624897703196,
          4.48863636973214,
          4.430816798843313,
          3.258096538021482,
          7.326465613840322,
          7.138866999945524,
          7.075808863978387,
          7.4073177104694174,
          7.188412736496954,
          7.207118856207756,
          7.422373700986824,
          7.157735484249907,
          6.86171134048073,
          7.343426229147367,
          -2.864704011147587,
          -1.6607312068216509,
          -2.364460496712133,
          -2.388142981355692,
          -2.1541650878757723,
          -2.0249533563957662,
          -2.375155785828881,
          -2.3957974747162245,
          -2.137070654516472,
          -2.120263536200091,
          -1.2982834837971773,
          -0.9675840262617056,
          -1.7147984280919266,
          -1.0498221244986778,
          -1.2344320118106447,
          -1.0498221244986778,
          -1.4271163556401458,
          -1.18090753139494,
          -2.322787800311565,
          -1.8263509139976741,
          -4.422848629194137,
          -4.688551794927142,
          -4.656463480375642,
          -4.199705077879927,
          -4.721704002244043,
          -4.518992489747039,
          -4.688551794927142,
          -4.744432253321599,
          -4.719459332390219,
          -4.3351430487750315,
          -0.09431067947124129,
          -0.14502577205025774,
          -0.2294131643278051,
          0.12221763272424911,
          0.9669838461896731,
          1.9430489167742813,
          -0.13238918804574562,
          0.29266961396282004,
          1.9473377010464987,
          2.322387720290225,
          2.4849066497880004,
          2.6390573296152584,
          3.58351893845611,
          4.418840607796598,
          2.4849066497880004,
          3.7376696182833684,
          4.143134726391533,
          3.58351893845611,
          4.04305126783455,
          4.204692619390966,
          7.161622002939187,
          7.024649030453636,
          7.399398083331354,
          7.303843225277705,
          7.3277805384216315,
          7.188412736496954,
          7.335633981927201,
          6.775366090936392,
          7.2909747781429814,
          7.188412736496954,
          -2.3947003819018513,
          -2.32687778556309,
          -2.2072749131897207,
          -2.3730075572905913,
          -2.2164073967529934,
          -2.111964733385396,
          -2.3730075572905913,
          -2.4090573375045627,
          -2.5484856314308715,
          -2.4580699958344407,
          -0.709276562489829,
          -0.9675840262617056,
          -1.171182981502945,
          -1.0788096613719298,
          -0.4780358009429998,
          -0.31471074483970024,
          -1.4271163556401458,
          -0.579818495252942,
          -1.0788096613719298,
          -1.3625778345025745,
          -4.624353005404865,
          -4.491841500681089,
          -4.673449026741386,
          -4.63356966050979,
          -4.712755396668029,
          -4.734140567285052,
          -4.6617405374764855,
          -4.719459332390219,
          -4.735278871335112,
          -4.60917820738563,
          1.7950872593207297,
          0.9110771648212677,
          1.7483299113007191,
          1.7369512327330598,
          1.7783364488959144,
          1.8562979903656263,
          1.7029282555214393,
          1.9139771019523042,
          1.8261608959453874,
          1.925707441737794,
          4.04305126783455,
          3.58351893845611,
          4.418840607796598,
          4.574710978503383,
          3.5553480614894135,
          3.1780538303479458,
          4.290459441148391,
          3.6635616461296463,
          3.4011973816621555,
          3.1780538303479458,
          7.299797366758161,
          7.258412150595307,
          7.181591944611865,
          7.425953657077541,
          7.081708586105575,
          7.347943823148687,
          6.951772164398911,
          7.483806687665835,
          6.563714472860972,
          7.033947304219897,
          -2.3914163067006613,
          -2.1541650878757723,
          -2.071473372030659,
          -2.3156703325427013,
          -2.560061323388761,
          -2.3299562897901778,
          -2.1286317858706076,
          -2.304587095664719,
          -2.1892564076870427,
          -2.047942874620465,
          -1.9105430052180221,
          -0.7765287894989963,
          -1.2729656758128873,
          -0.9728610833625494,
          -1.1425641761972924,
          -0.40047756659712525,
          -1.3547956940605197,
          -1.0906441190189327,
          -0.7528971849657193,
          -0.3930425881096072,
          -4.414549826379441,
          -4.474141923581687,
          -4.482952553263842,
          -4.456750180869818,
          -4.390058806371146,
          -4.254513314374922,
          -4.3661532855175915,
          -4.56594947283481,
          -4.546901277864116,
          -4.607172188658764,
          1.8500283773520307,
          1.7674667766590104,
          1.7904252462149184,
          1.8931119634883424,
          1.8547342683894434,
          1.8304992975439855,
          0.6471032420585384,
          1.7967470107390942,
          1.7321863776931536,
          0.6575200029167941,
          3.5553480614894135,
          4.330733340286331,
          4.584967478670572,
          4.394449154672439,
          4.127134385045092,
          3.828641396489095,
          4.382026634673881,
          3.2188758248682006,
          4.454347296253507,
          4.5217885770490405,
          7.309212365692763,
          7.212294468500341,
          7.574815124778764,
          7.132497551660044,
          7.029972911706386,
          7.212294468500341,
          7.085064293952548,
          7.260522598089852,
          7.013915474810528,
          7.48605261786314
         ],
         "xaxis": "x",
         "y": [
          8.028781162487148,
          8.020270472819238,
          7.8632667240095735,
          7.937374696163295,
          7.569927655242652,
          7.951559331155252,
          7.877397186353287,
          7.8632667240095735,
          7.882314918980268,
          7.90100705199242,
          8.1886891244442,
          8.048468743668883,
          8.050065422915965,
          8.196436811235028,
          7.882314918980268,
          8.113726085970747,
          7.937017489515454,
          8.213923595622743,
          8.068402958569699,
          8.14351740579748,
          10.126631103850338,
          8.954156966583772,
          8.884610231886873,
          9.047821442478408,
          9.711115659888671,
          9.471935109664646,
          9.056023011591826,
          8.948975607841776,
          9.375006993531416,
          8.88599431515281,
          10.571316925111784,
          10.308952660644293,
          9.634038248345407,
          9.179881164491475,
          8.66561319653451,
          8.993675786759683,
          8.818334283552174,
          8.760923376338836,
          8.688790784847216,
          8.628197749459149,
          8.249575150000199,
          8.121183242078828,
          8.0925452638913,
          8.070906088787819,
          8.00903068506973,
          8.1886891244442,
          8.181720455128108,
          8.181440695719374,
          8.195609567288775,
          10.426735696300677,
          8.157657015196472,
          8.229511118964457,
          8.251663923605589,
          8.229244416735913,
          8.202482446576537,
          8.146129510025405,
          8.205218426395412,
          8.146129510025405,
          8.230044310126114,
          8.170468578330674,
          8.114025442356757,
          8.140898460607852,
          8.000684784514748,
          7.949797216161852,
          7.984462732262196,
          8.100161446936607,
          7.987864096085687,
          7.943427767876373,
          7.928045600874777,
          7.962415680121064,
          8.11522197256233,
          8.19063168090354,
          8.102889134640868,
          8.055157731819678,
          8.174702882469461,
          8.064636475774222,
          7.969011781106478,
          8.114324709155339,
          7.8713112033234065,
          8.057694194815587,
          8.867850063029406,
          9.266153436795395,
          9.097171673870545,
          9.752664662801545,
          9.55393007636626,
          9.177300517897983,
          9.39349491507403,
          9.30383071506352,
          9.526609901279876,
          9.896462937599164,
          8.575462099540212,
          8.417593826193484,
          8.313116702819253,
          8.513185170018698,
          9.108307646411031,
          9.328123407632566,
          8.53934599605737,
          8.951569643018821,
          9.400795428666859,
          10.494269726418045,
          10.413312675968536,
          10.596634733096073,
          10.043249494911286,
          9.748002649695733,
          9.314339961994667,
          9.56416124693201,
          10.111720491114584,
          9.464439807410837,
          10.100081768616802,
          10.416939723904,
          8.148734808937169,
          8.190077049719049,
          8.192847134592865,
          8.131236549696116,
          8.191463051326927,
          8.175547596021026,
          8.297792626380861,
          8.195609567288775,
          8.83200393125627,
          8.237479288613633,
          8.108623268354595,
          8.169336395928386,
          8.076515327552329,
          8.053887083618223,
          8.163656176168432,
          8.078688229229872,
          7.984462732262196,
          7.95892649305011,
          7.957177323459475,
          7.912423121473705,
          8.037543185118697,
          8.19063168090354,
          8.039157390473237,
          8.002694162283937,
          8.17244681834278,
          8.084254106307318,
          8.036249942132116,
          8.188133414510478,
          8.10892415597534,
          8.172164452111904,
          9.504501410525673,
          9.953229644430943,
          9.814109741384911,
          9.583282288378786,
          9.38429367909962,
          9.096499555552423,
          9.46591239050973,
          9.597777277564957,
          8.951958168569265,
          9.471473109194427,
          10.294177375062137,
          9.09884999594282,
          9.551089165364656,
          9.704426671737876,
          10.12942719115234,
          10.264652401747712,
          10.171221987178212,
          9.909469624213676,
          9.474472303967703,
          10.54006438160768,
          10.142110674698724,
          9.355911495295402,
          9.447386828459384,
          8.657302899400882,
          9.096835671179361,
          8.893160828735379,
          9.899630122208823,
          10.180096038519288,
          9.76324799612154,
          9.145588494746486,
          8.180320874773685,
          8.160518247477505,
          8.363342466597977,
          10.165851817003619,
          8.1886891244442,
          8.192570471152173,
          9.798127036878302,
          9.305650551780507,
          9.400960731584833,
          10.106020149946213,
          7.9483852851118995,
          7.97728198675515,
          8.137103389639302,
          8.076515327552329,
          8.146998697389993,
          7.968665700466235,
          7.995643604287271,
          8.155936337972394,
          7.9294865233142895,
          8.167068178341237,
          8.149601735736155,
          8.088561805276234,
          8.004365564979574,
          8.074649075066652,
          8.167068178341237,
          8.188133414510478,
          8.052614818815567,
          8.159374736775426,
          8.10892415597534,
          8.149890544402423,
          9.728538750071586,
          9.660141293904399,
          9.614604759507829,
          9.498522319469615,
          9.816839745810455,
          9.899479531138589,
          10.086642095633975,
          10.047241516180824,
          9.793672686528922,
          9.870964360830568,
          10.014581600041716,
          9.211539652551664,
          9.479527461791719,
          9.99934303817965,
          10.439688482633347,
          10.387763841068582,
          9.139917907679637,
          9.87302834505142,
          9.749170192151771,
          9.017968479328726,
          10.072301625971582,
          9.453208116138121,
          9.146654820290049,
          10.06219924369095,
          9.728360056322414,
          9.838095333769076,
          9.199481628641307,
          9.299266581170585,
          10.047371422864705,
          9.986817160123133,
          10.091832598307642,
          10.551480451088963,
          10.388656849488333,
          10.230594644192365,
          9.99442454752823,
          10.56977727892619,
          10.33653540173002,
          9.085797036901582,
          9.13075589263334,
          10.542231344216686
         ],
         "yaxis": "y"
        }
       ],
       "layout": {
        "coloraxis": {
         "colorbar": {
          "title": {
           "text": "Star type"
          }
         },
         "colorscale": [
          [
           0,
           "#0d0887"
          ],
          [
           0.1111111111111111,
           "#46039f"
          ],
          [
           0.2222222222222222,
           "#7201a8"
          ],
          [
           0.3333333333333333,
           "#9c179e"
          ],
          [
           0.4444444444444444,
           "#bd3786"
          ],
          [
           0.5555555555555556,
           "#d8576b"
          ],
          [
           0.6666666666666666,
           "#ed7953"
          ],
          [
           0.7777777777777778,
           "#fb9f3a"
          ],
          [
           0.8888888888888888,
           "#fdca26"
          ],
          [
           1,
           "#f0f921"
          ]
         ]
        },
        "legend": {
         "itemsizing": "constant",
         "tracegroupgap": 0
        },
        "margin": {
         "t": 60
        },
        "template": {
         "data": {
          "bar": [
           {
            "error_x": {
             "color": "#2a3f5f"
            },
            "error_y": {
             "color": "#2a3f5f"
            },
            "marker": {
             "line": {
              "color": "#E5ECF6",
              "width": 0.5
             },
             "pattern": {
              "fillmode": "overlay",
              "size": 10,
              "solidity": 0.2
             }
            },
            "type": "bar"
           }
          ],
          "barpolar": [
           {
            "marker": {
             "line": {
              "color": "#E5ECF6",
              "width": 0.5
             },
             "pattern": {
              "fillmode": "overlay",
              "size": 10,
              "solidity": 0.2
             }
            },
            "type": "barpolar"
           }
          ],
          "carpet": [
           {
            "aaxis": {
             "endlinecolor": "#2a3f5f",
             "gridcolor": "white",
             "linecolor": "white",
             "minorgridcolor": "white",
             "startlinecolor": "#2a3f5f"
            },
            "baxis": {
             "endlinecolor": "#2a3f5f",
             "gridcolor": "white",
             "linecolor": "white",
             "minorgridcolor": "white",
             "startlinecolor": "#2a3f5f"
            },
            "type": "carpet"
           }
          ],
          "choropleth": [
           {
            "colorbar": {
             "outlinewidth": 0,
             "ticks": ""
            },
            "type": "choropleth"
           }
          ],
          "contour": [
           {
            "colorbar": {
             "outlinewidth": 0,
             "ticks": ""
            },
            "colorscale": [
             [
              0,
              "#0d0887"
             ],
             [
              0.1111111111111111,
              "#46039f"
             ],
             [
              0.2222222222222222,
              "#7201a8"
             ],
             [
              0.3333333333333333,
              "#9c179e"
             ],
             [
              0.4444444444444444,
              "#bd3786"
             ],
             [
              0.5555555555555556,
              "#d8576b"
             ],
             [
              0.6666666666666666,
              "#ed7953"
             ],
             [
              0.7777777777777778,
              "#fb9f3a"
             ],
             [
              0.8888888888888888,
              "#fdca26"
             ],
             [
              1,
              "#f0f921"
             ]
            ],
            "type": "contour"
           }
          ],
          "contourcarpet": [
           {
            "colorbar": {
             "outlinewidth": 0,
             "ticks": ""
            },
            "type": "contourcarpet"
           }
          ],
          "heatmap": [
           {
            "colorbar": {
             "outlinewidth": 0,
             "ticks": ""
            },
            "colorscale": [
             [
              0,
              "#0d0887"
             ],
             [
              0.1111111111111111,
              "#46039f"
             ],
             [
              0.2222222222222222,
              "#7201a8"
             ],
             [
              0.3333333333333333,
              "#9c179e"
             ],
             [
              0.4444444444444444,
              "#bd3786"
             ],
             [
              0.5555555555555556,
              "#d8576b"
             ],
             [
              0.6666666666666666,
              "#ed7953"
             ],
             [
              0.7777777777777778,
              "#fb9f3a"
             ],
             [
              0.8888888888888888,
              "#fdca26"
             ],
             [
              1,
              "#f0f921"
             ]
            ],
            "type": "heatmap"
           }
          ],
          "heatmapgl": [
           {
            "colorbar": {
             "outlinewidth": 0,
             "ticks": ""
            },
            "colorscale": [
             [
              0,
              "#0d0887"
             ],
             [
              0.1111111111111111,
              "#46039f"
             ],
             [
              0.2222222222222222,
              "#7201a8"
             ],
             [
              0.3333333333333333,
              "#9c179e"
             ],
             [
              0.4444444444444444,
              "#bd3786"
             ],
             [
              0.5555555555555556,
              "#d8576b"
             ],
             [
              0.6666666666666666,
              "#ed7953"
             ],
             [
              0.7777777777777778,
              "#fb9f3a"
             ],
             [
              0.8888888888888888,
              "#fdca26"
             ],
             [
              1,
              "#f0f921"
             ]
            ],
            "type": "heatmapgl"
           }
          ],
          "histogram": [
           {
            "marker": {
             "pattern": {
              "fillmode": "overlay",
              "size": 10,
              "solidity": 0.2
             }
            },
            "type": "histogram"
           }
          ],
          "histogram2d": [
           {
            "colorbar": {
             "outlinewidth": 0,
             "ticks": ""
            },
            "colorscale": [
             [
              0,
              "#0d0887"
             ],
             [
              0.1111111111111111,
              "#46039f"
             ],
             [
              0.2222222222222222,
              "#7201a8"
             ],
             [
              0.3333333333333333,
              "#9c179e"
             ],
             [
              0.4444444444444444,
              "#bd3786"
             ],
             [
              0.5555555555555556,
              "#d8576b"
             ],
             [
              0.6666666666666666,
              "#ed7953"
             ],
             [
              0.7777777777777778,
              "#fb9f3a"
             ],
             [
              0.8888888888888888,
              "#fdca26"
             ],
             [
              1,
              "#f0f921"
             ]
            ],
            "type": "histogram2d"
           }
          ],
          "histogram2dcontour": [
           {
            "colorbar": {
             "outlinewidth": 0,
             "ticks": ""
            },
            "colorscale": [
             [
              0,
              "#0d0887"
             ],
             [
              0.1111111111111111,
              "#46039f"
             ],
             [
              0.2222222222222222,
              "#7201a8"
             ],
             [
              0.3333333333333333,
              "#9c179e"
             ],
             [
              0.4444444444444444,
              "#bd3786"
             ],
             [
              0.5555555555555556,
              "#d8576b"
             ],
             [
              0.6666666666666666,
              "#ed7953"
             ],
             [
              0.7777777777777778,
              "#fb9f3a"
             ],
             [
              0.8888888888888888,
              "#fdca26"
             ],
             [
              1,
              "#f0f921"
             ]
            ],
            "type": "histogram2dcontour"
           }
          ],
          "mesh3d": [
           {
            "colorbar": {
             "outlinewidth": 0,
             "ticks": ""
            },
            "type": "mesh3d"
           }
          ],
          "parcoords": [
           {
            "line": {
             "colorbar": {
              "outlinewidth": 0,
              "ticks": ""
             }
            },
            "type": "parcoords"
           }
          ],
          "pie": [
           {
            "automargin": true,
            "type": "pie"
           }
          ],
          "scatter": [
           {
            "fillpattern": {
             "fillmode": "overlay",
             "size": 10,
             "solidity": 0.2
            },
            "type": "scatter"
           }
          ],
          "scatter3d": [
           {
            "line": {
             "colorbar": {
              "outlinewidth": 0,
              "ticks": ""
             }
            },
            "marker": {
             "colorbar": {
              "outlinewidth": 0,
              "ticks": ""
             }
            },
            "type": "scatter3d"
           }
          ],
          "scattercarpet": [
           {
            "marker": {
             "colorbar": {
              "outlinewidth": 0,
              "ticks": ""
             }
            },
            "type": "scattercarpet"
           }
          ],
          "scattergeo": [
           {
            "marker": {
             "colorbar": {
              "outlinewidth": 0,
              "ticks": ""
             }
            },
            "type": "scattergeo"
           }
          ],
          "scattergl": [
           {
            "marker": {
             "colorbar": {
              "outlinewidth": 0,
              "ticks": ""
             }
            },
            "type": "scattergl"
           }
          ],
          "scattermapbox": [
           {
            "marker": {
             "colorbar": {
              "outlinewidth": 0,
              "ticks": ""
             }
            },
            "type": "scattermapbox"
           }
          ],
          "scatterpolar": [
           {
            "marker": {
             "colorbar": {
              "outlinewidth": 0,
              "ticks": ""
             }
            },
            "type": "scatterpolar"
           }
          ],
          "scatterpolargl": [
           {
            "marker": {
             "colorbar": {
              "outlinewidth": 0,
              "ticks": ""
             }
            },
            "type": "scatterpolargl"
           }
          ],
          "scatterternary": [
           {
            "marker": {
             "colorbar": {
              "outlinewidth": 0,
              "ticks": ""
             }
            },
            "type": "scatterternary"
           }
          ],
          "surface": [
           {
            "colorbar": {
             "outlinewidth": 0,
             "ticks": ""
            },
            "colorscale": [
             [
              0,
              "#0d0887"
             ],
             [
              0.1111111111111111,
              "#46039f"
             ],
             [
              0.2222222222222222,
              "#7201a8"
             ],
             [
              0.3333333333333333,
              "#9c179e"
             ],
             [
              0.4444444444444444,
              "#bd3786"
             ],
             [
              0.5555555555555556,
              "#d8576b"
             ],
             [
              0.6666666666666666,
              "#ed7953"
             ],
             [
              0.7777777777777778,
              "#fb9f3a"
             ],
             [
              0.8888888888888888,
              "#fdca26"
             ],
             [
              1,
              "#f0f921"
             ]
            ],
            "type": "surface"
           }
          ],
          "table": [
           {
            "cells": {
             "fill": {
              "color": "#EBF0F8"
             },
             "line": {
              "color": "white"
             }
            },
            "header": {
             "fill": {
              "color": "#C8D4E3"
             },
             "line": {
              "color": "white"
             }
            },
            "type": "table"
           }
          ]
         },
         "layout": {
          "annotationdefaults": {
           "arrowcolor": "#2a3f5f",
           "arrowhead": 0,
           "arrowwidth": 1
          },
          "autotypenumbers": "strict",
          "coloraxis": {
           "colorbar": {
            "outlinewidth": 0,
            "ticks": ""
           }
          },
          "colorscale": {
           "diverging": [
            [
             0,
             "#8e0152"
            ],
            [
             0.1,
             "#c51b7d"
            ],
            [
             0.2,
             "#de77ae"
            ],
            [
             0.3,
             "#f1b6da"
            ],
            [
             0.4,
             "#fde0ef"
            ],
            [
             0.5,
             "#f7f7f7"
            ],
            [
             0.6,
             "#e6f5d0"
            ],
            [
             0.7,
             "#b8e186"
            ],
            [
             0.8,
             "#7fbc41"
            ],
            [
             0.9,
             "#4d9221"
            ],
            [
             1,
             "#276419"
            ]
           ],
           "sequential": [
            [
             0,
             "#0d0887"
            ],
            [
             0.1111111111111111,
             "#46039f"
            ],
            [
             0.2222222222222222,
             "#7201a8"
            ],
            [
             0.3333333333333333,
             "#9c179e"
            ],
            [
             0.4444444444444444,
             "#bd3786"
            ],
            [
             0.5555555555555556,
             "#d8576b"
            ],
            [
             0.6666666666666666,
             "#ed7953"
            ],
            [
             0.7777777777777778,
             "#fb9f3a"
            ],
            [
             0.8888888888888888,
             "#fdca26"
            ],
            [
             1,
             "#f0f921"
            ]
           ],
           "sequentialminus": [
            [
             0,
             "#0d0887"
            ],
            [
             0.1111111111111111,
             "#46039f"
            ],
            [
             0.2222222222222222,
             "#7201a8"
            ],
            [
             0.3333333333333333,
             "#9c179e"
            ],
            [
             0.4444444444444444,
             "#bd3786"
            ],
            [
             0.5555555555555556,
             "#d8576b"
            ],
            [
             0.6666666666666666,
             "#ed7953"
            ],
            [
             0.7777777777777778,
             "#fb9f3a"
            ],
            [
             0.8888888888888888,
             "#fdca26"
            ],
            [
             1,
             "#f0f921"
            ]
           ]
          },
          "colorway": [
           "#636efa",
           "#EF553B",
           "#00cc96",
           "#ab63fa",
           "#FFA15A",
           "#19d3f3",
           "#FF6692",
           "#B6E880",
           "#FF97FF",
           "#FECB52"
          ],
          "font": {
           "color": "#2a3f5f"
          },
          "geo": {
           "bgcolor": "white",
           "lakecolor": "white",
           "landcolor": "#E5ECF6",
           "showlakes": true,
           "showland": true,
           "subunitcolor": "white"
          },
          "hoverlabel": {
           "align": "left"
          },
          "hovermode": "closest",
          "mapbox": {
           "style": "light"
          },
          "paper_bgcolor": "white",
          "plot_bgcolor": "#E5ECF6",
          "polar": {
           "angularaxis": {
            "gridcolor": "white",
            "linecolor": "white",
            "ticks": ""
           },
           "bgcolor": "#E5ECF6",
           "radialaxis": {
            "gridcolor": "white",
            "linecolor": "white",
            "ticks": ""
           }
          },
          "scene": {
           "xaxis": {
            "backgroundcolor": "#E5ECF6",
            "gridcolor": "white",
            "gridwidth": 2,
            "linecolor": "white",
            "showbackground": true,
            "ticks": "",
            "zerolinecolor": "white"
           },
           "yaxis": {
            "backgroundcolor": "#E5ECF6",
            "gridcolor": "white",
            "gridwidth": 2,
            "linecolor": "white",
            "showbackground": true,
            "ticks": "",
            "zerolinecolor": "white"
           },
           "zaxis": {
            "backgroundcolor": "#E5ECF6",
            "gridcolor": "white",
            "gridwidth": 2,
            "linecolor": "white",
            "showbackground": true,
            "ticks": "",
            "zerolinecolor": "white"
           }
          },
          "shapedefaults": {
           "line": {
            "color": "#2a3f5f"
           }
          },
          "ternary": {
           "aaxis": {
            "gridcolor": "white",
            "linecolor": "white",
            "ticks": ""
           },
           "baxis": {
            "gridcolor": "white",
            "linecolor": "white",
            "ticks": ""
           },
           "bgcolor": "#E5ECF6",
           "caxis": {
            "gridcolor": "white",
            "linecolor": "white",
            "ticks": ""
           }
          },
          "title": {
           "x": 0.05
          },
          "xaxis": {
           "automargin": true,
           "gridcolor": "white",
           "linecolor": "white",
           "ticks": "",
           "title": {
            "standoff": 15
           },
           "zerolinecolor": "white",
           "zerolinewidth": 2
          },
          "yaxis": {
           "automargin": true,
           "gridcolor": "white",
           "linecolor": "white",
           "ticks": "",
           "title": {
            "standoff": 15
           },
           "zerolinecolor": "white",
           "zerolinewidth": 2
          }
         }
        },
        "xaxis": {
         "anchor": "y",
         "domain": [
          0,
          1
         ],
         "title": {
          "text": "Radius(R/Ro)"
         }
        },
        "yaxis": {
         "anchor": "x",
         "domain": [
          0,
          1
         ],
         "title": {
          "text": "Temperature (K)"
         }
        }
       }
      }
     },
     "metadata": {},
     "output_type": "display_data"
    }
   ],
   "source": [
    "#plot: temperature(X) vs radius(Y) \n",
    "\n",
    "fig = px.scatter(dataset, y=np.log(dataset['Temperature (K)']), x=np.log(dataset['Radius(R/Ro)']), color=dataset['Star type'],\n",
    "                 size=np.abs(np.log(dataset['Radius(R/Ro)'])), hover_data=['Radius(R/Ro)'],\n",
    "                 labels={'y':'Temperature (K)', 'x':'Radius(R/Ro)'})\n",
    "fig.show()"
   ]
  },
  {
   "cell_type": "code",
   "execution_count": null,
   "metadata": {},
   "outputs": [
    {
     "data": {
      "text/html": [
       "<div>\n",
       "<style scoped>\n",
       "    .dataframe tbody tr th:only-of-type {\n",
       "        vertical-align: middle;\n",
       "    }\n",
       "\n",
       "    .dataframe tbody tr th {\n",
       "        vertical-align: top;\n",
       "    }\n",
       "\n",
       "    .dataframe thead th {\n",
       "        text-align: right;\n",
       "    }\n",
       "</style>\n",
       "<table border=\"1\" class=\"dataframe\">\n",
       "  <thead>\n",
       "    <tr style=\"text-align: right;\">\n",
       "      <th></th>\n",
       "      <th>Temperature (K)</th>\n",
       "      <th>Luminosity(L/Lo)</th>\n",
       "      <th>Radius(R/Ro)</th>\n",
       "      <th>Absolute magnitude(Mv)</th>\n",
       "      <th>Star type</th>\n",
       "      <th>Star color</th>\n",
       "      <th>Spectral Class</th>\n",
       "    </tr>\n",
       "  </thead>\n",
       "  <tbody>\n",
       "    <tr>\n",
       "      <th>0</th>\n",
       "      <td>3068</td>\n",
       "      <td>0.002400</td>\n",
       "      <td>0.1700</td>\n",
       "      <td>16.12</td>\n",
       "      <td>0</td>\n",
       "      <td>Red</td>\n",
       "      <td>M</td>\n",
       "    </tr>\n",
       "    <tr>\n",
       "      <th>1</th>\n",
       "      <td>3042</td>\n",
       "      <td>0.000500</td>\n",
       "      <td>0.1542</td>\n",
       "      <td>16.60</td>\n",
       "      <td>0</td>\n",
       "      <td>Red</td>\n",
       "      <td>M</td>\n",
       "    </tr>\n",
       "    <tr>\n",
       "      <th>2</th>\n",
       "      <td>2600</td>\n",
       "      <td>0.000300</td>\n",
       "      <td>0.1020</td>\n",
       "      <td>18.70</td>\n",
       "      <td>0</td>\n",
       "      <td>Red</td>\n",
       "      <td>M</td>\n",
       "    </tr>\n",
       "    <tr>\n",
       "      <th>3</th>\n",
       "      <td>2800</td>\n",
       "      <td>0.000200</td>\n",
       "      <td>0.1600</td>\n",
       "      <td>16.65</td>\n",
       "      <td>0</td>\n",
       "      <td>Red</td>\n",
       "      <td>M</td>\n",
       "    </tr>\n",
       "    <tr>\n",
       "      <th>4</th>\n",
       "      <td>1939</td>\n",
       "      <td>0.000138</td>\n",
       "      <td>0.1030</td>\n",
       "      <td>20.06</td>\n",
       "      <td>0</td>\n",
       "      <td>Red</td>\n",
       "      <td>M</td>\n",
       "    </tr>\n",
       "    <tr>\n",
       "      <th>...</th>\n",
       "      <td>...</td>\n",
       "      <td>...</td>\n",
       "      <td>...</td>\n",
       "      <td>...</td>\n",
       "      <td>...</td>\n",
       "      <td>...</td>\n",
       "      <td>...</td>\n",
       "    </tr>\n",
       "    <tr>\n",
       "      <th>235</th>\n",
       "      <td>38940</td>\n",
       "      <td>374830.000000</td>\n",
       "      <td>1356.0000</td>\n",
       "      <td>-9.93</td>\n",
       "      <td>5</td>\n",
       "      <td>Blue</td>\n",
       "      <td>O</td>\n",
       "    </tr>\n",
       "    <tr>\n",
       "      <th>236</th>\n",
       "      <td>30839</td>\n",
       "      <td>834042.000000</td>\n",
       "      <td>1194.0000</td>\n",
       "      <td>-10.63</td>\n",
       "      <td>5</td>\n",
       "      <td>Blue</td>\n",
       "      <td>O</td>\n",
       "    </tr>\n",
       "    <tr>\n",
       "      <th>237</th>\n",
       "      <td>8829</td>\n",
       "      <td>537493.000000</td>\n",
       "      <td>1423.0000</td>\n",
       "      <td>-10.73</td>\n",
       "      <td>5</td>\n",
       "      <td>White</td>\n",
       "      <td>A</td>\n",
       "    </tr>\n",
       "    <tr>\n",
       "      <th>238</th>\n",
       "      <td>9235</td>\n",
       "      <td>404940.000000</td>\n",
       "      <td>1112.0000</td>\n",
       "      <td>-11.23</td>\n",
       "      <td>5</td>\n",
       "      <td>White</td>\n",
       "      <td>A</td>\n",
       "    </tr>\n",
       "    <tr>\n",
       "      <th>239</th>\n",
       "      <td>37882</td>\n",
       "      <td>294903.000000</td>\n",
       "      <td>1783.0000</td>\n",
       "      <td>-7.80</td>\n",
       "      <td>5</td>\n",
       "      <td>Blue</td>\n",
       "      <td>O</td>\n",
       "    </tr>\n",
       "  </tbody>\n",
       "</table>\n",
       "<p>240 rows × 7 columns</p>\n",
       "</div>"
      ],
      "text/plain": [
       "     Temperature (K)  Luminosity(L/Lo)  Radius(R/Ro)  Absolute magnitude(Mv)  \\\n",
       "0               3068          0.002400        0.1700                   16.12   \n",
       "1               3042          0.000500        0.1542                   16.60   \n",
       "2               2600          0.000300        0.1020                   18.70   \n",
       "3               2800          0.000200        0.1600                   16.65   \n",
       "4               1939          0.000138        0.1030                   20.06   \n",
       "..               ...               ...           ...                     ...   \n",
       "235            38940     374830.000000     1356.0000                   -9.93   \n",
       "236            30839     834042.000000     1194.0000                  -10.63   \n",
       "237             8829     537493.000000     1423.0000                  -10.73   \n",
       "238             9235     404940.000000     1112.0000                  -11.23   \n",
       "239            37882     294903.000000     1783.0000                   -7.80   \n",
       "\n",
       "     Star type Star color Spectral Class  \n",
       "0            0        Red              M  \n",
       "1            0        Red              M  \n",
       "2            0        Red              M  \n",
       "3            0        Red              M  \n",
       "4            0        Red              M  \n",
       "..         ...        ...            ...  \n",
       "235          5       Blue              O  \n",
       "236          5       Blue              O  \n",
       "237          5      White              A  \n",
       "238          5      White              A  \n",
       "239          5       Blue              O  \n",
       "\n",
       "[240 rows x 7 columns]"
      ]
     },
     "execution_count": 32,
     "metadata": {},
     "output_type": "execute_result"
    }
   ],
   "source": [
    "dataset\n",
    "\n"
   ]
  },
  {
   "cell_type": "code",
   "execution_count": null,
   "metadata": {},
   "outputs": [
    {
     "ename": "ValueError",
     "evalue": "Expected 2D array, got 1D array instead:\narray=['M' 'M' 'M' 'M' 'M' 'M' 'M' 'M' 'M' 'M' 'M' 'M' 'M' 'M' 'M' 'M' 'M' 'M'\n 'M' 'M' 'B' 'A' 'F' 'A' 'B' 'F' 'A' 'F' 'F' 'F' 'O' 'B' 'B' 'B' 'F' 'A'\n 'F' 'F' 'F' 'F' 'M' 'M' 'M' 'M' 'M' 'M' 'M' 'M' 'M' 'B' 'M' 'M' 'M' 'M'\n 'M' 'M' 'M' 'M' 'M' 'M' 'M' 'M' 'M' 'M' 'M' 'M' 'M' 'M' 'M' 'M' 'M' 'M'\n 'M' 'M' 'M' 'M' 'M' 'M' 'M' 'M' 'F' 'F' 'A' 'B' 'B' 'A' 'B' 'B' 'F' 'B'\n 'F' 'K' 'K' 'K' 'A' 'A' 'K' 'F' 'A' 'O' 'B' 'O' 'O' 'O' 'O' 'O' 'O' 'O'\n 'O' 'O' 'M' 'M' 'M' 'M' 'M' 'M' 'K' 'M' 'G' 'M' 'M' 'M' 'M' 'M' 'M' 'M'\n 'M' 'M' 'M' 'M' 'M' 'M' 'M' 'M' 'M' 'M' 'M' 'M' 'M' 'M' 'B' 'B' 'B' 'B'\n 'B' 'A' 'B' 'F' 'A' 'B' 'B' 'A' 'A' 'B' 'B' 'B' 'B' 'B' 'A' 'O' 'O' 'O'\n 'O' 'O' 'O' 'O' 'O' 'O' 'O' 'O' 'M' 'M' 'K' 'B' 'M' 'M' 'O' 'B' 'B' 'B'\n 'M' 'M' 'M' 'M' 'M' 'M' 'M' 'M' 'M' 'M' 'M' 'M' 'M' 'M' 'M' 'M' 'M' 'M'\n 'M' 'M' 'B' 'B' 'B' 'B' 'B' 'B' 'B' 'B' 'B' 'B' 'B' 'A' 'A' 'B' 'O' 'O'\n 'A' 'B' 'B' 'F' 'O' 'O' 'O' 'O' 'O' 'O' 'O' 'O' 'O' 'O' 'B' 'O' 'O' 'B'\n 'B' 'O' 'O' 'A' 'A' 'O'].\nReshape your data either using array.reshape(-1, 1) if your data has a single feature or array.reshape(1, -1) if it contains a single sample.",
     "output_type": "error",
     "traceback": [
      "\u001b[1;31m---------------------------------------------------------------------------\u001b[0m",
      "\u001b[1;31mValueError\u001b[0m                                Traceback (most recent call last)",
      "\u001b[1;32mc:\\Users\\39347\\Desktop\\devD\\data\\data_plot.ipynb Cell 12\u001b[0m in \u001b[0;36m<cell line: 5>\u001b[1;34m()\u001b[0m\n\u001b[0;32m      <a href='vscode-notebook-cell:/c%3A/Users/39347/Desktop/devD/data/data_plot.ipynb#X24sZmlsZQ%3D%3D?line=1'>2</a>\u001b[0m \u001b[39mfrom\u001b[39;00m \u001b[39msklearn\u001b[39;00m\u001b[39m.\u001b[39;00m\u001b[39mpreprocessing\u001b[39;00m \u001b[39mimport\u001b[39;00m OneHotEncoder\n\u001b[0;32m      <a href='vscode-notebook-cell:/c%3A/Users/39347/Desktop/devD/data/data_plot.ipynb#X24sZmlsZQ%3D%3D?line=3'>4</a>\u001b[0m encoder \u001b[39m=\u001b[39m OneHotEncoder()\n\u001b[1;32m----> <a href='vscode-notebook-cell:/c%3A/Users/39347/Desktop/devD/data/data_plot.ipynb#X24sZmlsZQ%3D%3D?line=4'>5</a>\u001b[0m onehotarray \u001b[39m=\u001b[39m encoder\u001b[39m.\u001b[39;49mfit_transform(dataset[\u001b[39m\"\u001b[39;49m\u001b[39mSpectral Class\u001b[39;49m\u001b[39m\"\u001b[39;49m])\u001b[39m.\u001b[39mtoarray()\n\u001b[0;32m      <a href='vscode-notebook-cell:/c%3A/Users/39347/Desktop/devD/data/data_plot.ipynb#X24sZmlsZQ%3D%3D?line=5'>6</a>\u001b[0m items \u001b[39m=\u001b[39m [\u001b[39mf\u001b[39m\u001b[39m'\u001b[39m\u001b[39m{\u001b[39;00m\u001b[39m\"\u001b[39m\u001b[39mSpectral Class\u001b[39m\u001b[39m\"\u001b[39m\u001b[39m}\u001b[39;00m\u001b[39m_\u001b[39m\u001b[39m{\u001b[39;00mitem\u001b[39m}\u001b[39;00m\u001b[39m'\u001b[39m \u001b[39mfor\u001b[39;00m item \u001b[39min\u001b[39;00m encoder\u001b[39m.\u001b[39mcategories_[\u001b[39m0\u001b[39m]]\n\u001b[0;32m      <a href='vscode-notebook-cell:/c%3A/Users/39347/Desktop/devD/data/data_plot.ipynb#X24sZmlsZQ%3D%3D?line=6'>7</a>\u001b[0m dataset[items] \u001b[39m=\u001b[39m onehotarray\n",
      "File \u001b[1;32mc:\\Users\\39347\\AppData\\Local\\Programs\\Python\\Python310\\lib\\site-packages\\sklearn\\preprocessing\\_encoders.py:488\u001b[0m, in \u001b[0;36mOneHotEncoder.fit_transform\u001b[1;34m(self, X, y)\u001b[0m\n\u001b[0;32m    466\u001b[0m \u001b[39m\"\"\"\u001b[39;00m\n\u001b[0;32m    467\u001b[0m \u001b[39mFit OneHotEncoder to X, then transform X.\u001b[39;00m\n\u001b[0;32m    468\u001b[0m \n\u001b[1;32m   (...)\u001b[0m\n\u001b[0;32m    485\u001b[0m \u001b[39m    returned.\u001b[39;00m\n\u001b[0;32m    486\u001b[0m \u001b[39m\"\"\"\u001b[39;00m\n\u001b[0;32m    487\u001b[0m \u001b[39mself\u001b[39m\u001b[39m.\u001b[39m_validate_keywords()\n\u001b[1;32m--> 488\u001b[0m \u001b[39mreturn\u001b[39;00m \u001b[39msuper\u001b[39;49m()\u001b[39m.\u001b[39;49mfit_transform(X, y)\n",
      "File \u001b[1;32mc:\\Users\\39347\\AppData\\Local\\Programs\\Python\\Python310\\lib\\site-packages\\sklearn\\base.py:852\u001b[0m, in \u001b[0;36mTransformerMixin.fit_transform\u001b[1;34m(self, X, y, **fit_params)\u001b[0m\n\u001b[0;32m    848\u001b[0m \u001b[39m# non-optimized default implementation; override when a better\u001b[39;00m\n\u001b[0;32m    849\u001b[0m \u001b[39m# method is possible for a given clustering algorithm\u001b[39;00m\n\u001b[0;32m    850\u001b[0m \u001b[39mif\u001b[39;00m y \u001b[39mis\u001b[39;00m \u001b[39mNone\u001b[39;00m:\n\u001b[0;32m    851\u001b[0m     \u001b[39m# fit method of arity 1 (unsupervised transformation)\u001b[39;00m\n\u001b[1;32m--> 852\u001b[0m     \u001b[39mreturn\u001b[39;00m \u001b[39mself\u001b[39m\u001b[39m.\u001b[39mfit(X, \u001b[39m*\u001b[39m\u001b[39m*\u001b[39mfit_params)\u001b[39m.\u001b[39mtransform(X)\n\u001b[0;32m    853\u001b[0m \u001b[39melse\u001b[39;00m:\n\u001b[0;32m    854\u001b[0m     \u001b[39m# fit method of arity 2 (supervised transformation)\u001b[39;00m\n\u001b[0;32m    855\u001b[0m     \u001b[39mreturn\u001b[39;00m \u001b[39mself\u001b[39m\u001b[39m.\u001b[39mfit(X, y, \u001b[39m*\u001b[39m\u001b[39m*\u001b[39mfit_params)\u001b[39m.\u001b[39mtransform(X)\n",
      "File \u001b[1;32mc:\\Users\\39347\\AppData\\Local\\Programs\\Python\\Python310\\lib\\site-packages\\sklearn\\preprocessing\\_encoders.py:461\u001b[0m, in \u001b[0;36mOneHotEncoder.fit\u001b[1;34m(self, X, y)\u001b[0m\n\u001b[0;32m    443\u001b[0m \u001b[39m\"\"\"\u001b[39;00m\n\u001b[0;32m    444\u001b[0m \u001b[39mFit OneHotEncoder to X.\u001b[39;00m\n\u001b[0;32m    445\u001b[0m \n\u001b[1;32m   (...)\u001b[0m\n\u001b[0;32m    458\u001b[0m \u001b[39m    Fitted encoder.\u001b[39;00m\n\u001b[0;32m    459\u001b[0m \u001b[39m\"\"\"\u001b[39;00m\n\u001b[0;32m    460\u001b[0m \u001b[39mself\u001b[39m\u001b[39m.\u001b[39m_validate_keywords()\n\u001b[1;32m--> 461\u001b[0m \u001b[39mself\u001b[39;49m\u001b[39m.\u001b[39;49m_fit(X, handle_unknown\u001b[39m=\u001b[39;49m\u001b[39mself\u001b[39;49m\u001b[39m.\u001b[39;49mhandle_unknown, force_all_finite\u001b[39m=\u001b[39;49m\u001b[39m\"\u001b[39;49m\u001b[39mallow-nan\u001b[39;49m\u001b[39m\"\u001b[39;49m)\n\u001b[0;32m    462\u001b[0m \u001b[39mself\u001b[39m\u001b[39m.\u001b[39mdrop_idx_ \u001b[39m=\u001b[39m \u001b[39mself\u001b[39m\u001b[39m.\u001b[39m_compute_drop_idx()\n\u001b[0;32m    463\u001b[0m \u001b[39mreturn\u001b[39;00m \u001b[39mself\u001b[39m\n",
      "File \u001b[1;32mc:\\Users\\39347\\AppData\\Local\\Programs\\Python\\Python310\\lib\\site-packages\\sklearn\\preprocessing\\_encoders.py:77\u001b[0m, in \u001b[0;36m_BaseEncoder._fit\u001b[1;34m(self, X, handle_unknown, force_all_finite)\u001b[0m\n\u001b[0;32m     75\u001b[0m \u001b[39mself\u001b[39m\u001b[39m.\u001b[39m_check_n_features(X, reset\u001b[39m=\u001b[39m\u001b[39mTrue\u001b[39;00m)\n\u001b[0;32m     76\u001b[0m \u001b[39mself\u001b[39m\u001b[39m.\u001b[39m_check_feature_names(X, reset\u001b[39m=\u001b[39m\u001b[39mTrue\u001b[39;00m)\n\u001b[1;32m---> 77\u001b[0m X_list, n_samples, n_features \u001b[39m=\u001b[39m \u001b[39mself\u001b[39;49m\u001b[39m.\u001b[39;49m_check_X(\n\u001b[0;32m     78\u001b[0m     X, force_all_finite\u001b[39m=\u001b[39;49mforce_all_finite\n\u001b[0;32m     79\u001b[0m )\n\u001b[0;32m     80\u001b[0m \u001b[39mself\u001b[39m\u001b[39m.\u001b[39mn_features_in_ \u001b[39m=\u001b[39m n_features\n\u001b[0;32m     82\u001b[0m \u001b[39mif\u001b[39;00m \u001b[39mself\u001b[39m\u001b[39m.\u001b[39mcategories \u001b[39m!=\u001b[39m \u001b[39m\"\u001b[39m\u001b[39mauto\u001b[39m\u001b[39m\"\u001b[39m:\n",
      "File \u001b[1;32mc:\\Users\\39347\\AppData\\Local\\Programs\\Python\\Python310\\lib\\site-packages\\sklearn\\preprocessing\\_encoders.py:44\u001b[0m, in \u001b[0;36m_BaseEncoder._check_X\u001b[1;34m(self, X, force_all_finite)\u001b[0m\n\u001b[0;32m     31\u001b[0m \u001b[39m\"\"\"\u001b[39;00m\n\u001b[0;32m     32\u001b[0m \u001b[39mPerform custom check_array:\u001b[39;00m\n\u001b[0;32m     33\u001b[0m \u001b[39m- convert list of strings to object dtype\u001b[39;00m\n\u001b[1;32m   (...)\u001b[0m\n\u001b[0;32m     40\u001b[0m \n\u001b[0;32m     41\u001b[0m \u001b[39m\"\"\"\u001b[39;00m\n\u001b[0;32m     42\u001b[0m \u001b[39mif\u001b[39;00m \u001b[39mnot\u001b[39;00m (\u001b[39mhasattr\u001b[39m(X, \u001b[39m\"\u001b[39m\u001b[39miloc\u001b[39m\u001b[39m\"\u001b[39m) \u001b[39mand\u001b[39;00m \u001b[39mgetattr\u001b[39m(X, \u001b[39m\"\u001b[39m\u001b[39mndim\u001b[39m\u001b[39m\"\u001b[39m, \u001b[39m0\u001b[39m) \u001b[39m==\u001b[39m \u001b[39m2\u001b[39m):\n\u001b[0;32m     43\u001b[0m     \u001b[39m# if not a dataframe, do normal check_array validation\u001b[39;00m\n\u001b[1;32m---> 44\u001b[0m     X_temp \u001b[39m=\u001b[39m check_array(X, dtype\u001b[39m=\u001b[39;49m\u001b[39mNone\u001b[39;49;00m, force_all_finite\u001b[39m=\u001b[39;49mforce_all_finite)\n\u001b[0;32m     45\u001b[0m     \u001b[39mif\u001b[39;00m \u001b[39mnot\u001b[39;00m \u001b[39mhasattr\u001b[39m(X, \u001b[39m\"\u001b[39m\u001b[39mdtype\u001b[39m\u001b[39m\"\u001b[39m) \u001b[39mand\u001b[39;00m np\u001b[39m.\u001b[39missubdtype(X_temp\u001b[39m.\u001b[39mdtype, np\u001b[39m.\u001b[39mstr_):\n\u001b[0;32m     46\u001b[0m         X \u001b[39m=\u001b[39m check_array(X, dtype\u001b[39m=\u001b[39m\u001b[39mobject\u001b[39m, force_all_finite\u001b[39m=\u001b[39mforce_all_finite)\n",
      "File \u001b[1;32mc:\\Users\\39347\\AppData\\Local\\Programs\\Python\\Python310\\lib\\site-packages\\sklearn\\utils\\validation.py:769\u001b[0m, in \u001b[0;36mcheck_array\u001b[1;34m(array, accept_sparse, accept_large_sparse, dtype, order, copy, force_all_finite, ensure_2d, allow_nd, ensure_min_samples, ensure_min_features, estimator)\u001b[0m\n\u001b[0;32m    767\u001b[0m     \u001b[39m# If input is 1D raise error\u001b[39;00m\n\u001b[0;32m    768\u001b[0m     \u001b[39mif\u001b[39;00m array\u001b[39m.\u001b[39mndim \u001b[39m==\u001b[39m \u001b[39m1\u001b[39m:\n\u001b[1;32m--> 769\u001b[0m         \u001b[39mraise\u001b[39;00m \u001b[39mValueError\u001b[39;00m(\n\u001b[0;32m    770\u001b[0m             \u001b[39m\"\u001b[39m\u001b[39mExpected 2D array, got 1D array instead:\u001b[39m\u001b[39m\\n\u001b[39;00m\u001b[39marray=\u001b[39m\u001b[39m{}\u001b[39;00m\u001b[39m.\u001b[39m\u001b[39m\\n\u001b[39;00m\u001b[39m\"\u001b[39m\n\u001b[0;32m    771\u001b[0m             \u001b[39m\"\u001b[39m\u001b[39mReshape your data either using array.reshape(-1, 1) if \u001b[39m\u001b[39m\"\u001b[39m\n\u001b[0;32m    772\u001b[0m             \u001b[39m\"\u001b[39m\u001b[39myour data has a single feature or array.reshape(1, -1) \u001b[39m\u001b[39m\"\u001b[39m\n\u001b[0;32m    773\u001b[0m             \u001b[39m\"\u001b[39m\u001b[39mif it contains a single sample.\u001b[39m\u001b[39m\"\u001b[39m\u001b[39m.\u001b[39mformat(array)\n\u001b[0;32m    774\u001b[0m         )\n\u001b[0;32m    776\u001b[0m \u001b[39m# make sure we actually converted to numeric:\u001b[39;00m\n\u001b[0;32m    777\u001b[0m \u001b[39mif\u001b[39;00m dtype_numeric \u001b[39mand\u001b[39;00m array\u001b[39m.\u001b[39mdtype\u001b[39m.\u001b[39mkind \u001b[39min\u001b[39;00m \u001b[39m\"\u001b[39m\u001b[39mOUSV\u001b[39m\u001b[39m\"\u001b[39m:\n",
      "\u001b[1;31mValueError\u001b[0m: Expected 2D array, got 1D array instead:\narray=['M' 'M' 'M' 'M' 'M' 'M' 'M' 'M' 'M' 'M' 'M' 'M' 'M' 'M' 'M' 'M' 'M' 'M'\n 'M' 'M' 'B' 'A' 'F' 'A' 'B' 'F' 'A' 'F' 'F' 'F' 'O' 'B' 'B' 'B' 'F' 'A'\n 'F' 'F' 'F' 'F' 'M' 'M' 'M' 'M' 'M' 'M' 'M' 'M' 'M' 'B' 'M' 'M' 'M' 'M'\n 'M' 'M' 'M' 'M' 'M' 'M' 'M' 'M' 'M' 'M' 'M' 'M' 'M' 'M' 'M' 'M' 'M' 'M'\n 'M' 'M' 'M' 'M' 'M' 'M' 'M' 'M' 'F' 'F' 'A' 'B' 'B' 'A' 'B' 'B' 'F' 'B'\n 'F' 'K' 'K' 'K' 'A' 'A' 'K' 'F' 'A' 'O' 'B' 'O' 'O' 'O' 'O' 'O' 'O' 'O'\n 'O' 'O' 'M' 'M' 'M' 'M' 'M' 'M' 'K' 'M' 'G' 'M' 'M' 'M' 'M' 'M' 'M' 'M'\n 'M' 'M' 'M' 'M' 'M' 'M' 'M' 'M' 'M' 'M' 'M' 'M' 'M' 'M' 'B' 'B' 'B' 'B'\n 'B' 'A' 'B' 'F' 'A' 'B' 'B' 'A' 'A' 'B' 'B' 'B' 'B' 'B' 'A' 'O' 'O' 'O'\n 'O' 'O' 'O' 'O' 'O' 'O' 'O' 'O' 'M' 'M' 'K' 'B' 'M' 'M' 'O' 'B' 'B' 'B'\n 'M' 'M' 'M' 'M' 'M' 'M' 'M' 'M' 'M' 'M' 'M' 'M' 'M' 'M' 'M' 'M' 'M' 'M'\n 'M' 'M' 'B' 'B' 'B' 'B' 'B' 'B' 'B' 'B' 'B' 'B' 'B' 'A' 'A' 'B' 'O' 'O'\n 'A' 'B' 'B' 'F' 'O' 'O' 'O' 'O' 'O' 'O' 'O' 'O' 'O' 'O' 'B' 'O' 'O' 'B'\n 'B' 'O' 'O' 'A' 'A' 'O'].\nReshape your data either using array.reshape(-1, 1) if your data has a single feature or array.reshape(1, -1) if it contains a single sample."
     ]
    }
   ],
   "source": [
    "#preprocessing attch indicator \n",
    "from sklearn.preprocessing import OneHotEncoder\n",
    "\n",
    "encoder = OneHotEncoder()\n",
    "onehotarray = encoder.fit_transform(dataset[\"Spectral Class\"]).toarray()\n",
    "items = [f'{\"Spectral Class\"}_{item}' for item in encoder.categories_[0]]\n",
    "dataset[items] = onehotarray"
   ]
  },
  {
   "cell_type": "code",
   "execution_count": null,
   "metadata": {},
   "outputs": [
    {
     "name": "stdout",
     "output_type": "stream",
     "text": [
      "['Red', 'Blue White', 'White', 'Yellowish White', 'Blue white', 'Pale yellow orange', 'Blue', 'Blue-white', 'Whitish', 'yellow-white', 'Orange', 'White-Yellow', 'white', 'Blue ', 'yellowish', 'Yellowish', 'Orange-Red', 'Blue white ', 'Blue-White']\n"
     ]
    }
   ],
   "source": [
    "L1=list(dataset[\"Star color\"].unique())\n",
    "print(L1)"
   ]
  },
  {
   "cell_type": "code",
   "execution_count": null,
   "metadata": {},
   "outputs": [],
   "source": [
    "df1=dataset[\"Star color\"]==L1[0]\n",
    "df1 = df1.astype(int)\n",
    "# print(df1)\n",
    "dataset[L1[0]]=df1\n",
    "print(dataset)"
   ]
  },
  {
   "cell_type": "code",
   "execution_count": null,
   "metadata": {},
   "outputs": [],
   "source": [
    "#use LDA to enanche separability\n",
    "from sklearn import discriminant_analysis as LDA\n",
    "\n",
    "lda = LDA(n_components=2)\n",
    "x_lda = lda.fit_transform(X, y)\n",
    "\n",
    "plt.figure(figsize=(10,10))\n",
    "scatter = plt.scatter(x_lda[:,0], x_lda[:,1], c=y, cmap = 'viridis')\n",
    "\n",
    "plt.legend(handles=scatter.legend_elements()[0], labels=['Slow','Fast','Slow Dist','Fast Dist'])\n",
    "plt.title(\"Embedded space with LDA\")\n",
    "plt.show()"
   ]
  },
  {
   "cell_type": "code",
   "execution_count": null,
   "metadata": {},
   "outputs": [],
   "source": [
    "\n",
    "#try make appear a 3D graph with two different color sphere and the relative names \n",
    "#ML k-nn for star classification (need to consider not feaseable points)--> add a series of random points in regions where \n",
    "#you cannot have a star---> do this only for the class that are NOT on the main line "
   ]
  },
  {
   "cell_type": "code",
   "execution_count": null,
   "metadata": {},
   "outputs": [],
   "source": [
    "#division based on the \"visual\"\n",
    "brawn_dwarf = dataset[dataset[\"Star type\"] == 0]\n",
    "red_dwarf = dataset[dataset[\"Star type\"] == 1]\n",
    "white_dwarf = dataset[dataset[\"Star type\"] == 2]\n",
    "main_seq = dataset[dataset[\"Star type\"] == 3]\n",
    "supergigant = dataset[dataset[\"Star type\"] == 4]\n",
    "hypergigant = dataset[dataset[\"Star type\"] == 5]\n",
    "# M = dataset[dataset[\"Spectral Class\"] == 'M']"
   ]
  },
  {
   "cell_type": "code",
   "execution_count": 31,
   "metadata": {},
   "outputs": [
    {
     "data": {
      "application/vnd.plotly.v1+json": {
       "config": {
        "plotlyServerURL": "https://plot.ly"
       },
       "data": [
        {
         "hovertemplate": "Temperature (K)=%{x}<br>Absolute magnitude(Mv)=%{y}<br>Star type=%{marker.color}<extra></extra>",
         "legendgroup": "",
         "marker": {
          "color": [
           0,
           0,
           0,
           0,
           0,
           0,
           0,
           0,
           0,
           0,
           1,
           1,
           1,
           1,
           1,
           1,
           1,
           1,
           1,
           1,
           2,
           2,
           2,
           2,
           2,
           2,
           2,
           2,
           2,
           2,
           3,
           3,
           3,
           3,
           3,
           3,
           3,
           3,
           3,
           3,
           4,
           4,
           4,
           4,
           4,
           4,
           4,
           4,
           4,
           4,
           5,
           5,
           5,
           5,
           5,
           5,
           5,
           5,
           5,
           5,
           0,
           0,
           0,
           0,
           0,
           0,
           0,
           0,
           0,
           0,
           1,
           1,
           1,
           1,
           1,
           1,
           1,
           1,
           1,
           1,
           2,
           2,
           2,
           2,
           2,
           2,
           2,
           2,
           2,
           2,
           3,
           3,
           3,
           3,
           3,
           3,
           3,
           3,
           3,
           3,
           4,
           4,
           4,
           4,
           4,
           4,
           4,
           4,
           4,
           4,
           5,
           5,
           5,
           5,
           5,
           5,
           5,
           5,
           5,
           5,
           0,
           0,
           0,
           0,
           0,
           0,
           0,
           0,
           0,
           0,
           1,
           1,
           1,
           1,
           1,
           1,
           1,
           1,
           1,
           1,
           2,
           2,
           2,
           2,
           2,
           2,
           2,
           2,
           2,
           2,
           3,
           3,
           3,
           3,
           3,
           3,
           3,
           3,
           3,
           3,
           4,
           4,
           4,
           4,
           4,
           4,
           4,
           4,
           4,
           4,
           5,
           5,
           5,
           5,
           5,
           5,
           5,
           5,
           5,
           5,
           0,
           0,
           0,
           0,
           0,
           0,
           0,
           0,
           0,
           0,
           1,
           1,
           1,
           1,
           1,
           1,
           1,
           1,
           1,
           1,
           2,
           2,
           2,
           2,
           2,
           2,
           2,
           2,
           2,
           2,
           3,
           3,
           3,
           3,
           3,
           3,
           3,
           3,
           3,
           3,
           4,
           4,
           4,
           4,
           4,
           4,
           4,
           4,
           4,
           4,
           5,
           5,
           5,
           5,
           5,
           5,
           5,
           5,
           5,
           5
          ],
          "coloraxis": "coloraxis",
          "symbol": "circle"
         },
         "mode": "markers",
         "name": "",
         "orientation": "v",
         "showlegend": false,
         "type": "scatter",
         "x": [
          3068,
          3042,
          2600,
          2800,
          1939,
          2840,
          2637,
          2600,
          2650,
          2700,
          3600,
          3129,
          3134,
          3628,
          2650,
          3340,
          2799,
          3692,
          3192,
          3441,
          25000,
          7740,
          7220,
          8500,
          16500,
          12990,
          8570,
          7700,
          11790,
          7230,
          39000,
          30000,
          15276,
          9700,
          5800,
          8052,
          6757,
          6380,
          5936,
          5587,
          3826,
          3365,
          3270,
          3200,
          3008,
          3600,
          3575,
          3574,
          3625,
          33750,
          3490,
          3750,
          3834,
          3749,
          3650,
          3450,
          3660,
          3450,
          3752,
          3535,
          3341,
          3432,
          2983,
          2835,
          2935,
          3295,
          2945,
          2817,
          2774,
          2871,
          3345,
          3607,
          3304,
          3150,
          3550,
          3180,
          2890,
          3342,
          2621,
          3158,
          7100,
          10574,
          8930,
          17200,
          14100,
          9675,
          12010,
          10980,
          13720,
          19860,
          5300,
          4526,
          4077,
          4980,
          9030,
          11250,
          5112,
          7720,
          12098,
          36108,
          33300,
          40000,
          23000,
          17120,
          11096,
          14245,
          24630,
          12893,
          24345,
          33421,
          3459,
          3605,
          3615,
          3399,
          3610,
          3553,
          4015,
          3625,
          6850,
          3780,
          3323,
          3531,
          3218,
          3146,
          3511,
          3225,
          2935,
          2861,
          2856,
          2731,
          3095,
          3607,
          3100,
          2989,
          3542,
          3243,
          3091,
          3598,
          3324,
          3541,
          13420,
          21020,
          18290,
          14520,
          11900,
          8924,
          12912,
          14732,
          7723,
          12984,
          29560,
          8945,
          14060,
          16390,
          25070,
          28700,
          26140,
          20120,
          13023,
          37800,
          25390,
          11567,
          12675,
          5752,
          8927,
          7282,
          19923,
          26373,
          17383,
          9373,
          3570,
          3500,
          4287,
          26000,
          3600,
          3614,
          18000,
          11000,
          12100,
          24490,
          2831,
          2914,
          3419,
          3218,
          3453,
          2889,
          2968,
          3484,
          2778,
          3523,
          3462,
          3257,
          2994,
          3212,
          3523,
          3598,
          3142,
          3496,
          3324,
          3463,
          16790,
          15680,
          14982,
          13340,
          18340,
          19920,
          24020,
          23092,
          17920,
          19360,
          22350,
          10012,
          13089,
          22012,
          34190,
          32460,
          9320,
          19400,
          17140,
          8250,
          23678,
          12749,
          9383,
          23440,
          16787,
          18734,
          9892,
          10930,
          23095,
          21738,
          24145,
          38234,
          32489,
          27739,
          21904,
          38940,
          30839,
          8829,
          9235,
          37882
         ],
         "xaxis": "x",
         "y": [
          16.12,
          16.6,
          18.7,
          16.65,
          20.06,
          16.98,
          17.22,
          17.4,
          17.45,
          16.05,
          10.69,
          11.79,
          13.21,
          10.48,
          11.782,
          13.07,
          14.79,
          10.8,
          13.53,
          11.18,
          10.58,
          14.02,
          14.23,
          14.5,
          11.89,
          12.23,
          14.2,
          14.47,
          12.59,
          14.08,
          -4.7,
          -4.2,
          -1.97,
          0.16,
          5.05,
          2.42,
          2.41,
          2.93,
          4.46,
          5.03,
          -6.93,
          -6.2,
          -6.02,
          -7.22,
          -6,
          -6.6,
          -6.78,
          -5.24,
          -6.74,
          -6.1,
          -9.4,
          -7.63,
          -9.2,
          -8.05,
          -7.79,
          -11.75,
          -11.92,
          -11.28,
          -11.24,
          -11.36,
          16.23,
          16.94,
          16.09,
          16.96,
          18.89,
          17.13,
          18.34,
          16.45,
          17.39,
          19.43,
          12.3,
          10.12,
          13.2,
          11.94,
          10.89,
          11.76,
          13.46,
          11.87,
          12.81,
          13.98,
          14.09,
          12.02,
          13.78,
          12.45,
          12.17,
          13.98,
          12.13,
          11.19,
          12.97,
          11.34,
          5.49,
          6.506,
          6.228,
          4.78,
          1.45,
          -2.3,
          4.68,
          2.44,
          0.02,
          -4.4,
          -6.5,
          -6.23,
          -5.76,
          -6.89,
          -5.91,
          -6.12,
          -5.83,
          -6.34,
          -6.24,
          -5.79,
          -10.7,
          -10.81,
          -11.33,
          -10.92,
          -10.86,
          -11.03,
          -11.39,
          -10.25,
          -10.07,
          -10.7,
          17.16,
          19.94,
          20.02,
          16.92,
          17.12,
          19.63,
          16.88,
          16.71,
          19.56,
          18.09,
          10.87,
          10.34,
          11.17,
          13.12,
          14.23,
          14.75,
          11.43,
          14.26,
          12.23,
          14.33,
          13.67,
          11.52,
          12.78,
          11.92,
          11.38,
          14.87,
          12.83,
          12.89,
          14.81,
          11.23,
          -4.01,
          0.12,
          -2.04,
          -3.32,
          -3.98,
          -4.09,
          -3.8,
          -3.4,
          -1.38,
          -4.56,
          -5.92,
          -6.245,
          -5.62,
          -6.63,
          -7.34,
          -7.22,
          -5.69,
          -5.83,
          -6.09,
          -5.99,
          -7.58,
          -8.18,
          -9.2,
          -9.1,
          -7.89,
          -7.71,
          -8.3,
          -9.9,
          -7.84,
          -8.24,
          16.21,
          18.39,
          17.56,
          17.34,
          17.08,
          16.93,
          17.45,
          16.67,
          19.45,
          16.35,
          11.47,
          10.73,
          13.45,
          12.854,
          12.43,
          13.667,
          14.12,
          14.94,
          12.78,
          14.776,
          12.87,
          11.92,
          12.23,
          12.9,
          11.22,
          11.34,
          10.55,
          10.18,
          11.66,
          11.62,
          -3.67,
          0.013,
          -0.12,
          -2.55,
          -4.57,
          -4.36,
          1.236,
          -3.08,
          -2.64,
          -0.98,
          -6.27,
          -7.02,
          -6.98,
          -5.975,
          -6.35,
          -7.45,
          -7.262,
          -6.224,
          -5.905,
          -7.346,
          -8.84,
          -9.29,
          -10.84,
          -7.59,
          -7.67,
          -9.93,
          -10.63,
          -10.73,
          -11.23,
          -7.8
         ],
         "yaxis": "y"
        }
       ],
       "layout": {
        "coloraxis": {
         "colorbar": {
          "title": {
           "text": "Star type"
          }
         },
         "colorscale": [
          [
           0,
           "#0d0887"
          ],
          [
           0.1111111111111111,
           "#46039f"
          ],
          [
           0.2222222222222222,
           "#7201a8"
          ],
          [
           0.3333333333333333,
           "#9c179e"
          ],
          [
           0.4444444444444444,
           "#bd3786"
          ],
          [
           0.5555555555555556,
           "#d8576b"
          ],
          [
           0.6666666666666666,
           "#ed7953"
          ],
          [
           0.7777777777777778,
           "#fb9f3a"
          ],
          [
           0.8888888888888888,
           "#fdca26"
          ],
          [
           1,
           "#f0f921"
          ]
         ]
        },
        "legend": {
         "orientation": "h",
         "tracegroupgap": 0,
         "x": 1,
         "xanchor": "right",
         "y": 1.02,
         "yanchor": "bottom"
        },
        "margin": {
         "t": 60
        },
        "template": {
         "data": {
          "bar": [
           {
            "error_x": {
             "color": "#2a3f5f"
            },
            "error_y": {
             "color": "#2a3f5f"
            },
            "marker": {
             "line": {
              "color": "#E5ECF6",
              "width": 0.5
             },
             "pattern": {
              "fillmode": "overlay",
              "size": 10,
              "solidity": 0.2
             }
            },
            "type": "bar"
           }
          ],
          "barpolar": [
           {
            "marker": {
             "line": {
              "color": "#E5ECF6",
              "width": 0.5
             },
             "pattern": {
              "fillmode": "overlay",
              "size": 10,
              "solidity": 0.2
             }
            },
            "type": "barpolar"
           }
          ],
          "carpet": [
           {
            "aaxis": {
             "endlinecolor": "#2a3f5f",
             "gridcolor": "white",
             "linecolor": "white",
             "minorgridcolor": "white",
             "startlinecolor": "#2a3f5f"
            },
            "baxis": {
             "endlinecolor": "#2a3f5f",
             "gridcolor": "white",
             "linecolor": "white",
             "minorgridcolor": "white",
             "startlinecolor": "#2a3f5f"
            },
            "type": "carpet"
           }
          ],
          "choropleth": [
           {
            "colorbar": {
             "outlinewidth": 0,
             "ticks": ""
            },
            "type": "choropleth"
           }
          ],
          "contour": [
           {
            "colorbar": {
             "outlinewidth": 0,
             "ticks": ""
            },
            "colorscale": [
             [
              0,
              "#0d0887"
             ],
             [
              0.1111111111111111,
              "#46039f"
             ],
             [
              0.2222222222222222,
              "#7201a8"
             ],
             [
              0.3333333333333333,
              "#9c179e"
             ],
             [
              0.4444444444444444,
              "#bd3786"
             ],
             [
              0.5555555555555556,
              "#d8576b"
             ],
             [
              0.6666666666666666,
              "#ed7953"
             ],
             [
              0.7777777777777778,
              "#fb9f3a"
             ],
             [
              0.8888888888888888,
              "#fdca26"
             ],
             [
              1,
              "#f0f921"
             ]
            ],
            "type": "contour"
           }
          ],
          "contourcarpet": [
           {
            "colorbar": {
             "outlinewidth": 0,
             "ticks": ""
            },
            "type": "contourcarpet"
           }
          ],
          "heatmap": [
           {
            "colorbar": {
             "outlinewidth": 0,
             "ticks": ""
            },
            "colorscale": [
             [
              0,
              "#0d0887"
             ],
             [
              0.1111111111111111,
              "#46039f"
             ],
             [
              0.2222222222222222,
              "#7201a8"
             ],
             [
              0.3333333333333333,
              "#9c179e"
             ],
             [
              0.4444444444444444,
              "#bd3786"
             ],
             [
              0.5555555555555556,
              "#d8576b"
             ],
             [
              0.6666666666666666,
              "#ed7953"
             ],
             [
              0.7777777777777778,
              "#fb9f3a"
             ],
             [
              0.8888888888888888,
              "#fdca26"
             ],
             [
              1,
              "#f0f921"
             ]
            ],
            "type": "heatmap"
           }
          ],
          "heatmapgl": [
           {
            "colorbar": {
             "outlinewidth": 0,
             "ticks": ""
            },
            "colorscale": [
             [
              0,
              "#0d0887"
             ],
             [
              0.1111111111111111,
              "#46039f"
             ],
             [
              0.2222222222222222,
              "#7201a8"
             ],
             [
              0.3333333333333333,
              "#9c179e"
             ],
             [
              0.4444444444444444,
              "#bd3786"
             ],
             [
              0.5555555555555556,
              "#d8576b"
             ],
             [
              0.6666666666666666,
              "#ed7953"
             ],
             [
              0.7777777777777778,
              "#fb9f3a"
             ],
             [
              0.8888888888888888,
              "#fdca26"
             ],
             [
              1,
              "#f0f921"
             ]
            ],
            "type": "heatmapgl"
           }
          ],
          "histogram": [
           {
            "marker": {
             "pattern": {
              "fillmode": "overlay",
              "size": 10,
              "solidity": 0.2
             }
            },
            "type": "histogram"
           }
          ],
          "histogram2d": [
           {
            "colorbar": {
             "outlinewidth": 0,
             "ticks": ""
            },
            "colorscale": [
             [
              0,
              "#0d0887"
             ],
             [
              0.1111111111111111,
              "#46039f"
             ],
             [
              0.2222222222222222,
              "#7201a8"
             ],
             [
              0.3333333333333333,
              "#9c179e"
             ],
             [
              0.4444444444444444,
              "#bd3786"
             ],
             [
              0.5555555555555556,
              "#d8576b"
             ],
             [
              0.6666666666666666,
              "#ed7953"
             ],
             [
              0.7777777777777778,
              "#fb9f3a"
             ],
             [
              0.8888888888888888,
              "#fdca26"
             ],
             [
              1,
              "#f0f921"
             ]
            ],
            "type": "histogram2d"
           }
          ],
          "histogram2dcontour": [
           {
            "colorbar": {
             "outlinewidth": 0,
             "ticks": ""
            },
            "colorscale": [
             [
              0,
              "#0d0887"
             ],
             [
              0.1111111111111111,
              "#46039f"
             ],
             [
              0.2222222222222222,
              "#7201a8"
             ],
             [
              0.3333333333333333,
              "#9c179e"
             ],
             [
              0.4444444444444444,
              "#bd3786"
             ],
             [
              0.5555555555555556,
              "#d8576b"
             ],
             [
              0.6666666666666666,
              "#ed7953"
             ],
             [
              0.7777777777777778,
              "#fb9f3a"
             ],
             [
              0.8888888888888888,
              "#fdca26"
             ],
             [
              1,
              "#f0f921"
             ]
            ],
            "type": "histogram2dcontour"
           }
          ],
          "mesh3d": [
           {
            "colorbar": {
             "outlinewidth": 0,
             "ticks": ""
            },
            "type": "mesh3d"
           }
          ],
          "parcoords": [
           {
            "line": {
             "colorbar": {
              "outlinewidth": 0,
              "ticks": ""
             }
            },
            "type": "parcoords"
           }
          ],
          "pie": [
           {
            "automargin": true,
            "type": "pie"
           }
          ],
          "scatter": [
           {
            "fillpattern": {
             "fillmode": "overlay",
             "size": 10,
             "solidity": 0.2
            },
            "type": "scatter"
           }
          ],
          "scatter3d": [
           {
            "line": {
             "colorbar": {
              "outlinewidth": 0,
              "ticks": ""
             }
            },
            "marker": {
             "colorbar": {
              "outlinewidth": 0,
              "ticks": ""
             }
            },
            "type": "scatter3d"
           }
          ],
          "scattercarpet": [
           {
            "marker": {
             "colorbar": {
              "outlinewidth": 0,
              "ticks": ""
             }
            },
            "type": "scattercarpet"
           }
          ],
          "scattergeo": [
           {
            "marker": {
             "colorbar": {
              "outlinewidth": 0,
              "ticks": ""
             }
            },
            "type": "scattergeo"
           }
          ],
          "scattergl": [
           {
            "marker": {
             "colorbar": {
              "outlinewidth": 0,
              "ticks": ""
             }
            },
            "type": "scattergl"
           }
          ],
          "scattermapbox": [
           {
            "marker": {
             "colorbar": {
              "outlinewidth": 0,
              "ticks": ""
             }
            },
            "type": "scattermapbox"
           }
          ],
          "scatterpolar": [
           {
            "marker": {
             "colorbar": {
              "outlinewidth": 0,
              "ticks": ""
             }
            },
            "type": "scatterpolar"
           }
          ],
          "scatterpolargl": [
           {
            "marker": {
             "colorbar": {
              "outlinewidth": 0,
              "ticks": ""
             }
            },
            "type": "scatterpolargl"
           }
          ],
          "scatterternary": [
           {
            "marker": {
             "colorbar": {
              "outlinewidth": 0,
              "ticks": ""
             }
            },
            "type": "scatterternary"
           }
          ],
          "surface": [
           {
            "colorbar": {
             "outlinewidth": 0,
             "ticks": ""
            },
            "colorscale": [
             [
              0,
              "#0d0887"
             ],
             [
              0.1111111111111111,
              "#46039f"
             ],
             [
              0.2222222222222222,
              "#7201a8"
             ],
             [
              0.3333333333333333,
              "#9c179e"
             ],
             [
              0.4444444444444444,
              "#bd3786"
             ],
             [
              0.5555555555555556,
              "#d8576b"
             ],
             [
              0.6666666666666666,
              "#ed7953"
             ],
             [
              0.7777777777777778,
              "#fb9f3a"
             ],
             [
              0.8888888888888888,
              "#fdca26"
             ],
             [
              1,
              "#f0f921"
             ]
            ],
            "type": "surface"
           }
          ],
          "table": [
           {
            "cells": {
             "fill": {
              "color": "#EBF0F8"
             },
             "line": {
              "color": "white"
             }
            },
            "header": {
             "fill": {
              "color": "#C8D4E3"
             },
             "line": {
              "color": "white"
             }
            },
            "type": "table"
           }
          ]
         },
         "layout": {
          "annotationdefaults": {
           "arrowcolor": "#2a3f5f",
           "arrowhead": 0,
           "arrowwidth": 1
          },
          "autotypenumbers": "strict",
          "coloraxis": {
           "colorbar": {
            "outlinewidth": 0,
            "ticks": ""
           }
          },
          "colorscale": {
           "diverging": [
            [
             0,
             "#8e0152"
            ],
            [
             0.1,
             "#c51b7d"
            ],
            [
             0.2,
             "#de77ae"
            ],
            [
             0.3,
             "#f1b6da"
            ],
            [
             0.4,
             "#fde0ef"
            ],
            [
             0.5,
             "#f7f7f7"
            ],
            [
             0.6,
             "#e6f5d0"
            ],
            [
             0.7,
             "#b8e186"
            ],
            [
             0.8,
             "#7fbc41"
            ],
            [
             0.9,
             "#4d9221"
            ],
            [
             1,
             "#276419"
            ]
           ],
           "sequential": [
            [
             0,
             "#0d0887"
            ],
            [
             0.1111111111111111,
             "#46039f"
            ],
            [
             0.2222222222222222,
             "#7201a8"
            ],
            [
             0.3333333333333333,
             "#9c179e"
            ],
            [
             0.4444444444444444,
             "#bd3786"
            ],
            [
             0.5555555555555556,
             "#d8576b"
            ],
            [
             0.6666666666666666,
             "#ed7953"
            ],
            [
             0.7777777777777778,
             "#fb9f3a"
            ],
            [
             0.8888888888888888,
             "#fdca26"
            ],
            [
             1,
             "#f0f921"
            ]
           ],
           "sequentialminus": [
            [
             0,
             "#0d0887"
            ],
            [
             0.1111111111111111,
             "#46039f"
            ],
            [
             0.2222222222222222,
             "#7201a8"
            ],
            [
             0.3333333333333333,
             "#9c179e"
            ],
            [
             0.4444444444444444,
             "#bd3786"
            ],
            [
             0.5555555555555556,
             "#d8576b"
            ],
            [
             0.6666666666666666,
             "#ed7953"
            ],
            [
             0.7777777777777778,
             "#fb9f3a"
            ],
            [
             0.8888888888888888,
             "#fdca26"
            ],
            [
             1,
             "#f0f921"
            ]
           ]
          },
          "colorway": [
           "#636efa",
           "#EF553B",
           "#00cc96",
           "#ab63fa",
           "#FFA15A",
           "#19d3f3",
           "#FF6692",
           "#B6E880",
           "#FF97FF",
           "#FECB52"
          ],
          "font": {
           "color": "#2a3f5f"
          },
          "geo": {
           "bgcolor": "white",
           "lakecolor": "white",
           "landcolor": "#E5ECF6",
           "showlakes": true,
           "showland": true,
           "subunitcolor": "white"
          },
          "hoverlabel": {
           "align": "left"
          },
          "hovermode": "closest",
          "mapbox": {
           "style": "light"
          },
          "paper_bgcolor": "white",
          "plot_bgcolor": "#E5ECF6",
          "polar": {
           "angularaxis": {
            "gridcolor": "white",
            "linecolor": "white",
            "ticks": ""
           },
           "bgcolor": "#E5ECF6",
           "radialaxis": {
            "gridcolor": "white",
            "linecolor": "white",
            "ticks": ""
           }
          },
          "scene": {
           "xaxis": {
            "backgroundcolor": "#E5ECF6",
            "gridcolor": "white",
            "gridwidth": 2,
            "linecolor": "white",
            "showbackground": true,
            "ticks": "",
            "zerolinecolor": "white"
           },
           "yaxis": {
            "backgroundcolor": "#E5ECF6",
            "gridcolor": "white",
            "gridwidth": 2,
            "linecolor": "white",
            "showbackground": true,
            "ticks": "",
            "zerolinecolor": "white"
           },
           "zaxis": {
            "backgroundcolor": "#E5ECF6",
            "gridcolor": "white",
            "gridwidth": 2,
            "linecolor": "white",
            "showbackground": true,
            "ticks": "",
            "zerolinecolor": "white"
           }
          },
          "shapedefaults": {
           "line": {
            "color": "#2a3f5f"
           }
          },
          "ternary": {
           "aaxis": {
            "gridcolor": "white",
            "linecolor": "white",
            "ticks": ""
           },
           "baxis": {
            "gridcolor": "white",
            "linecolor": "white",
            "ticks": ""
           },
           "bgcolor": "#E5ECF6",
           "caxis": {
            "gridcolor": "white",
            "linecolor": "white",
            "ticks": ""
           }
          },
          "title": {
           "x": 0.05
          },
          "xaxis": {
           "automargin": true,
           "gridcolor": "white",
           "linecolor": "white",
           "ticks": "",
           "title": {
            "standoff": 15
           },
           "zerolinecolor": "white",
           "zerolinewidth": 2
          },
          "yaxis": {
           "automargin": true,
           "gridcolor": "white",
           "linecolor": "white",
           "ticks": "",
           "title": {
            "standoff": 15
           },
           "zerolinecolor": "white",
           "zerolinewidth": 2
          }
         }
        },
        "xaxis": {
         "anchor": "y",
         "domain": [
          0,
          1
         ],
         "title": {
          "text": "Temperature (K)"
         },
         "type": "log"
        },
        "yaxis": {
         "anchor": "x",
         "domain": [
          0,
          1
         ],
         "title": {
          "text": "Absolute magnitude(Mv)"
         },
         "type": "log"
        }
       }
      }
     },
     "metadata": {},
     "output_type": "display_data"
    }
   ],
   "source": [
    "#Example plot from plotly\n",
    "from plotly.subplots import make_subplots\n",
    "import plotly.graph_objects as go\n",
    "import plotly.express as px\n",
    "\n",
    "fig = px.scatter(dataset, x=(dataset['Temperature (K)']), \n",
    "                y=(dataset['Absolute magnitude(Mv)']),\n",
    "                 color=dataset['Star type'],\n",
    "                 log_x=True, log_y=True, size_max=60)\n",
    "\n",
    "fig.update_layout(legend=dict(\n",
    "    orientation=\"h\",\n",
    "    yanchor=\"bottom\",\n",
    "    y=1.02,\n",
    "    xanchor=\"right\",\n",
    "    x=1\n",
    "))\n",
    "\n",
    "fig.show()\n"
   ]
  },
  {
   "cell_type": "code",
   "execution_count": 33,
   "metadata": {},
   "outputs": [
    {
     "data": {
      "application/vnd.plotly.v1+json": {
       "config": {
        "plotlyServerURL": "https://plot.ly"
       },
       "data": [
        {
         "hovertemplate": "color=0<br>x=%{x}<br>y=%{y}<extra></extra>",
         "legendgroup": "0",
         "marker": {
          "color": "#636efa",
          "symbol": "circle"
         },
         "mode": "markers",
         "name": "0",
         "orientation": "v",
         "showlegend": true,
         "type": "scatter",
         "x": [
          3068,
          3042,
          2600,
          2800,
          1939,
          2840,
          2637,
          2600,
          2650,
          2700,
          3341,
          3432,
          2983,
          2835,
          2935,
          3295,
          2945,
          2817,
          2774,
          2871,
          3323,
          3531,
          3218,
          3146,
          3511,
          3225,
          2935,
          2861,
          2856,
          2731,
          2831,
          2914,
          3419,
          3218,
          3453,
          2889,
          2968,
          3484,
          2778,
          3523
         ],
         "xaxis": "x",
         "y": [
          16.12,
          16.6,
          18.7,
          16.65,
          20.06,
          16.98,
          17.22,
          17.4,
          17.45,
          16.05,
          16.23,
          16.94,
          16.09,
          16.96,
          18.89,
          17.13,
          18.34,
          16.45,
          17.39,
          19.43,
          17.16,
          19.94,
          20.02,
          16.92,
          17.12,
          19.63,
          16.88,
          16.71,
          19.56,
          18.09,
          16.21,
          18.39,
          17.56,
          17.34,
          17.08,
          16.93,
          17.45,
          16.67,
          19.45,
          16.35
         ],
         "yaxis": "y"
        },
        {
         "hovertemplate": "color=1<br>x=%{x}<br>y=%{y}<extra></extra>",
         "legendgroup": "1",
         "marker": {
          "color": "#EF553B",
          "symbol": "circle"
         },
         "mode": "markers",
         "name": "1",
         "orientation": "v",
         "showlegend": true,
         "type": "scatter",
         "x": [
          3600,
          3129,
          3134,
          3628,
          2650,
          3340,
          2799,
          3692,
          3192,
          3441,
          3345,
          3607,
          3304,
          3150,
          3550,
          3180,
          2890,
          3342,
          2621,
          3158,
          3095,
          3607,
          3100,
          2989,
          3542,
          3243,
          3091,
          3598,
          3324,
          3541,
          3462,
          3257,
          2994,
          3212,
          3523,
          3598,
          3142,
          3496,
          3324,
          3463
         ],
         "xaxis": "x",
         "y": [
          10.69,
          11.79,
          13.21,
          10.48,
          11.782,
          13.07,
          14.79,
          10.8,
          13.53,
          11.18,
          12.3,
          10.12,
          13.2,
          11.94,
          10.89,
          11.76,
          13.46,
          11.87,
          12.81,
          13.98,
          10.87,
          10.34,
          11.17,
          13.12,
          14.23,
          14.75,
          11.43,
          14.26,
          12.23,
          14.33,
          11.47,
          10.73,
          13.45,
          12.854,
          12.43,
          13.667,
          14.12,
          14.94,
          12.78,
          14.776
         ],
         "yaxis": "y"
        },
        {
         "hovertemplate": "color=2<br>x=%{x}<br>y=%{y}<extra></extra>",
         "legendgroup": "2",
         "marker": {
          "color": "#00cc96",
          "symbol": "circle"
         },
         "mode": "markers",
         "name": "2",
         "orientation": "v",
         "showlegend": true,
         "type": "scatter",
         "x": [
          25000,
          7740,
          7220,
          8500,
          16500,
          12990,
          8570,
          7700,
          11790,
          7230,
          7100,
          10574,
          8930,
          17200,
          14100,
          9675,
          12010,
          10980,
          13720,
          19860,
          13420,
          21020,
          18290,
          14520,
          11900,
          8924,
          12912,
          14732,
          7723,
          12984,
          16790,
          15680,
          14982,
          13340,
          18340,
          19920,
          24020,
          23092,
          17920,
          19360
         ],
         "xaxis": "x",
         "y": [
          10.58,
          14.02,
          14.23,
          14.5,
          11.89,
          12.23,
          14.2,
          14.47,
          12.59,
          14.08,
          14.09,
          12.02,
          13.78,
          12.45,
          12.17,
          13.98,
          12.13,
          11.19,
          12.97,
          11.34,
          13.67,
          11.52,
          12.78,
          11.92,
          11.38,
          14.87,
          12.83,
          12.89,
          14.81,
          11.23,
          12.87,
          11.92,
          12.23,
          12.9,
          11.22,
          11.34,
          10.55,
          10.18,
          11.66,
          11.62
         ],
         "yaxis": "y"
        },
        {
         "hovertemplate": "color=3<br>x=%{x}<br>y=%{y}<extra></extra>",
         "legendgroup": "3",
         "marker": {
          "color": "#ab63fa",
          "symbol": "circle"
         },
         "mode": "markers",
         "name": "3",
         "orientation": "v",
         "showlegend": true,
         "type": "scatter",
         "x": [
          39000,
          30000,
          15276,
          9700,
          5800,
          8052,
          6757,
          6380,
          5936,
          5587,
          5300,
          4526,
          4077,
          4980,
          9030,
          11250,
          5112,
          7720,
          12098,
          36108,
          29560,
          8945,
          14060,
          16390,
          25070,
          28700,
          26140,
          20120,
          13023,
          37800,
          22350,
          10012,
          13089,
          22012,
          34190,
          32460,
          9320,
          19400,
          17140,
          8250
         ],
         "xaxis": "x",
         "y": [
          -4.7,
          -4.2,
          -1.97,
          0.16,
          5.05,
          2.42,
          2.41,
          2.93,
          4.46,
          5.03,
          5.49,
          6.506,
          6.228,
          4.78,
          1.45,
          -2.3,
          4.68,
          2.44,
          0.02,
          -4.4,
          -4.01,
          0.12,
          -2.04,
          -3.32,
          -3.98,
          -4.09,
          -3.8,
          -3.4,
          -1.38,
          -4.56,
          -3.67,
          0.013,
          -0.12,
          -2.55,
          -4.57,
          -4.36,
          1.236,
          -3.08,
          -2.64,
          -0.98
         ],
         "yaxis": "y"
        },
        {
         "hovertemplate": "color=4<br>x=%{x}<br>y=%{y}<extra></extra>",
         "legendgroup": "4",
         "marker": {
          "color": "#FFA15A",
          "symbol": "circle"
         },
         "mode": "markers",
         "name": "4",
         "orientation": "v",
         "showlegend": true,
         "type": "scatter",
         "x": [
          3826,
          3365,
          3270,
          3200,
          3008,
          3600,
          3575,
          3574,
          3625,
          33750,
          33300,
          40000,
          23000,
          17120,
          11096,
          14245,
          24630,
          12893,
          24345,
          33421,
          25390,
          11567,
          12675,
          5752,
          8927,
          7282,
          19923,
          26373,
          17383,
          9373,
          23678,
          12749,
          9383,
          23440,
          16787,
          18734,
          9892,
          10930,
          23095,
          21738
         ],
         "xaxis": "x",
         "y": [
          -6.93,
          -6.2,
          -6.02,
          -7.22,
          -6,
          -6.6,
          -6.78,
          -5.24,
          -6.74,
          -6.1,
          -6.5,
          -6.23,
          -5.76,
          -6.89,
          -5.91,
          -6.12,
          -5.83,
          -6.34,
          -6.24,
          -5.79,
          -5.92,
          -6.245,
          -5.62,
          -6.63,
          -7.34,
          -7.22,
          -5.69,
          -5.83,
          -6.09,
          -5.99,
          -6.27,
          -7.02,
          -6.98,
          -5.975,
          -6.35,
          -7.45,
          -7.262,
          -6.224,
          -5.905,
          -7.346
         ],
         "yaxis": "y"
        },
        {
         "hovertemplate": "color=5<br>x=%{x}<br>y=%{y}<extra></extra>",
         "legendgroup": "5",
         "marker": {
          "color": "#19d3f3",
          "symbol": "circle"
         },
         "mode": "markers",
         "name": "5",
         "orientation": "v",
         "showlegend": true,
         "type": "scatter",
         "x": [
          3490,
          3750,
          3834,
          3749,
          3650,
          3450,
          3660,
          3450,
          3752,
          3535,
          3459,
          3605,
          3615,
          3399,
          3610,
          3553,
          4015,
          3625,
          6850,
          3780,
          3570,
          3500,
          4287,
          26000,
          3600,
          3614,
          18000,
          11000,
          12100,
          24490,
          24145,
          38234,
          32489,
          27739,
          21904,
          38940,
          30839,
          8829,
          9235,
          37882
         ],
         "xaxis": "x",
         "y": [
          -9.4,
          -7.63,
          -9.2,
          -8.05,
          -7.79,
          -11.75,
          -11.92,
          -11.28,
          -11.24,
          -11.36,
          -10.7,
          -10.81,
          -11.33,
          -10.92,
          -10.86,
          -11.03,
          -11.39,
          -10.25,
          -10.07,
          -10.7,
          -7.58,
          -8.18,
          -9.2,
          -9.1,
          -7.89,
          -7.71,
          -8.3,
          -9.9,
          -7.84,
          -8.24,
          -8.84,
          -9.29,
          -10.84,
          -7.59,
          -7.67,
          -9.93,
          -10.63,
          -10.73,
          -11.23,
          -7.8
         ],
         "yaxis": "y"
        }
       ],
       "layout": {
        "legend": {
         "orientation": "h",
         "title": {
          "text": "color"
         },
         "tracegroupgap": 0,
         "x": 1,
         "xanchor": "right",
         "y": 1.02,
         "yanchor": "bottom"
        },
        "margin": {
         "t": 60
        },
        "template": {
         "data": {
          "bar": [
           {
            "error_x": {
             "color": "#2a3f5f"
            },
            "error_y": {
             "color": "#2a3f5f"
            },
            "marker": {
             "line": {
              "color": "#E5ECF6",
              "width": 0.5
             },
             "pattern": {
              "fillmode": "overlay",
              "size": 10,
              "solidity": 0.2
             }
            },
            "type": "bar"
           }
          ],
          "barpolar": [
           {
            "marker": {
             "line": {
              "color": "#E5ECF6",
              "width": 0.5
             },
             "pattern": {
              "fillmode": "overlay",
              "size": 10,
              "solidity": 0.2
             }
            },
            "type": "barpolar"
           }
          ],
          "carpet": [
           {
            "aaxis": {
             "endlinecolor": "#2a3f5f",
             "gridcolor": "white",
             "linecolor": "white",
             "minorgridcolor": "white",
             "startlinecolor": "#2a3f5f"
            },
            "baxis": {
             "endlinecolor": "#2a3f5f",
             "gridcolor": "white",
             "linecolor": "white",
             "minorgridcolor": "white",
             "startlinecolor": "#2a3f5f"
            },
            "type": "carpet"
           }
          ],
          "choropleth": [
           {
            "colorbar": {
             "outlinewidth": 0,
             "ticks": ""
            },
            "type": "choropleth"
           }
          ],
          "contour": [
           {
            "colorbar": {
             "outlinewidth": 0,
             "ticks": ""
            },
            "colorscale": [
             [
              0,
              "#0d0887"
             ],
             [
              0.1111111111111111,
              "#46039f"
             ],
             [
              0.2222222222222222,
              "#7201a8"
             ],
             [
              0.3333333333333333,
              "#9c179e"
             ],
             [
              0.4444444444444444,
              "#bd3786"
             ],
             [
              0.5555555555555556,
              "#d8576b"
             ],
             [
              0.6666666666666666,
              "#ed7953"
             ],
             [
              0.7777777777777778,
              "#fb9f3a"
             ],
             [
              0.8888888888888888,
              "#fdca26"
             ],
             [
              1,
              "#f0f921"
             ]
            ],
            "type": "contour"
           }
          ],
          "contourcarpet": [
           {
            "colorbar": {
             "outlinewidth": 0,
             "ticks": ""
            },
            "type": "contourcarpet"
           }
          ],
          "heatmap": [
           {
            "colorbar": {
             "outlinewidth": 0,
             "ticks": ""
            },
            "colorscale": [
             [
              0,
              "#0d0887"
             ],
             [
              0.1111111111111111,
              "#46039f"
             ],
             [
              0.2222222222222222,
              "#7201a8"
             ],
             [
              0.3333333333333333,
              "#9c179e"
             ],
             [
              0.4444444444444444,
              "#bd3786"
             ],
             [
              0.5555555555555556,
              "#d8576b"
             ],
             [
              0.6666666666666666,
              "#ed7953"
             ],
             [
              0.7777777777777778,
              "#fb9f3a"
             ],
             [
              0.8888888888888888,
              "#fdca26"
             ],
             [
              1,
              "#f0f921"
             ]
            ],
            "type": "heatmap"
           }
          ],
          "heatmapgl": [
           {
            "colorbar": {
             "outlinewidth": 0,
             "ticks": ""
            },
            "colorscale": [
             [
              0,
              "#0d0887"
             ],
             [
              0.1111111111111111,
              "#46039f"
             ],
             [
              0.2222222222222222,
              "#7201a8"
             ],
             [
              0.3333333333333333,
              "#9c179e"
             ],
             [
              0.4444444444444444,
              "#bd3786"
             ],
             [
              0.5555555555555556,
              "#d8576b"
             ],
             [
              0.6666666666666666,
              "#ed7953"
             ],
             [
              0.7777777777777778,
              "#fb9f3a"
             ],
             [
              0.8888888888888888,
              "#fdca26"
             ],
             [
              1,
              "#f0f921"
             ]
            ],
            "type": "heatmapgl"
           }
          ],
          "histogram": [
           {
            "marker": {
             "pattern": {
              "fillmode": "overlay",
              "size": 10,
              "solidity": 0.2
             }
            },
            "type": "histogram"
           }
          ],
          "histogram2d": [
           {
            "colorbar": {
             "outlinewidth": 0,
             "ticks": ""
            },
            "colorscale": [
             [
              0,
              "#0d0887"
             ],
             [
              0.1111111111111111,
              "#46039f"
             ],
             [
              0.2222222222222222,
              "#7201a8"
             ],
             [
              0.3333333333333333,
              "#9c179e"
             ],
             [
              0.4444444444444444,
              "#bd3786"
             ],
             [
              0.5555555555555556,
              "#d8576b"
             ],
             [
              0.6666666666666666,
              "#ed7953"
             ],
             [
              0.7777777777777778,
              "#fb9f3a"
             ],
             [
              0.8888888888888888,
              "#fdca26"
             ],
             [
              1,
              "#f0f921"
             ]
            ],
            "type": "histogram2d"
           }
          ],
          "histogram2dcontour": [
           {
            "colorbar": {
             "outlinewidth": 0,
             "ticks": ""
            },
            "colorscale": [
             [
              0,
              "#0d0887"
             ],
             [
              0.1111111111111111,
              "#46039f"
             ],
             [
              0.2222222222222222,
              "#7201a8"
             ],
             [
              0.3333333333333333,
              "#9c179e"
             ],
             [
              0.4444444444444444,
              "#bd3786"
             ],
             [
              0.5555555555555556,
              "#d8576b"
             ],
             [
              0.6666666666666666,
              "#ed7953"
             ],
             [
              0.7777777777777778,
              "#fb9f3a"
             ],
             [
              0.8888888888888888,
              "#fdca26"
             ],
             [
              1,
              "#f0f921"
             ]
            ],
            "type": "histogram2dcontour"
           }
          ],
          "mesh3d": [
           {
            "colorbar": {
             "outlinewidth": 0,
             "ticks": ""
            },
            "type": "mesh3d"
           }
          ],
          "parcoords": [
           {
            "line": {
             "colorbar": {
              "outlinewidth": 0,
              "ticks": ""
             }
            },
            "type": "parcoords"
           }
          ],
          "pie": [
           {
            "automargin": true,
            "type": "pie"
           }
          ],
          "scatter": [
           {
            "fillpattern": {
             "fillmode": "overlay",
             "size": 10,
             "solidity": 0.2
            },
            "type": "scatter"
           }
          ],
          "scatter3d": [
           {
            "line": {
             "colorbar": {
              "outlinewidth": 0,
              "ticks": ""
             }
            },
            "marker": {
             "colorbar": {
              "outlinewidth": 0,
              "ticks": ""
             }
            },
            "type": "scatter3d"
           }
          ],
          "scattercarpet": [
           {
            "marker": {
             "colorbar": {
              "outlinewidth": 0,
              "ticks": ""
             }
            },
            "type": "scattercarpet"
           }
          ],
          "scattergeo": [
           {
            "marker": {
             "colorbar": {
              "outlinewidth": 0,
              "ticks": ""
             }
            },
            "type": "scattergeo"
           }
          ],
          "scattergl": [
           {
            "marker": {
             "colorbar": {
              "outlinewidth": 0,
              "ticks": ""
             }
            },
            "type": "scattergl"
           }
          ],
          "scattermapbox": [
           {
            "marker": {
             "colorbar": {
              "outlinewidth": 0,
              "ticks": ""
             }
            },
            "type": "scattermapbox"
           }
          ],
          "scatterpolar": [
           {
            "marker": {
             "colorbar": {
              "outlinewidth": 0,
              "ticks": ""
             }
            },
            "type": "scatterpolar"
           }
          ],
          "scatterpolargl": [
           {
            "marker": {
             "colorbar": {
              "outlinewidth": 0,
              "ticks": ""
             }
            },
            "type": "scatterpolargl"
           }
          ],
          "scatterternary": [
           {
            "marker": {
             "colorbar": {
              "outlinewidth": 0,
              "ticks": ""
             }
            },
            "type": "scatterternary"
           }
          ],
          "surface": [
           {
            "colorbar": {
             "outlinewidth": 0,
             "ticks": ""
            },
            "colorscale": [
             [
              0,
              "#0d0887"
             ],
             [
              0.1111111111111111,
              "#46039f"
             ],
             [
              0.2222222222222222,
              "#7201a8"
             ],
             [
              0.3333333333333333,
              "#9c179e"
             ],
             [
              0.4444444444444444,
              "#bd3786"
             ],
             [
              0.5555555555555556,
              "#d8576b"
             ],
             [
              0.6666666666666666,
              "#ed7953"
             ],
             [
              0.7777777777777778,
              "#fb9f3a"
             ],
             [
              0.8888888888888888,
              "#fdca26"
             ],
             [
              1,
              "#f0f921"
             ]
            ],
            "type": "surface"
           }
          ],
          "table": [
           {
            "cells": {
             "fill": {
              "color": "#EBF0F8"
             },
             "line": {
              "color": "white"
             }
            },
            "header": {
             "fill": {
              "color": "#C8D4E3"
             },
             "line": {
              "color": "white"
             }
            },
            "type": "table"
           }
          ]
         },
         "layout": {
          "annotationdefaults": {
           "arrowcolor": "#2a3f5f",
           "arrowhead": 0,
           "arrowwidth": 1
          },
          "autotypenumbers": "strict",
          "coloraxis": {
           "colorbar": {
            "outlinewidth": 0,
            "ticks": ""
           }
          },
          "colorscale": {
           "diverging": [
            [
             0,
             "#8e0152"
            ],
            [
             0.1,
             "#c51b7d"
            ],
            [
             0.2,
             "#de77ae"
            ],
            [
             0.3,
             "#f1b6da"
            ],
            [
             0.4,
             "#fde0ef"
            ],
            [
             0.5,
             "#f7f7f7"
            ],
            [
             0.6,
             "#e6f5d0"
            ],
            [
             0.7,
             "#b8e186"
            ],
            [
             0.8,
             "#7fbc41"
            ],
            [
             0.9,
             "#4d9221"
            ],
            [
             1,
             "#276419"
            ]
           ],
           "sequential": [
            [
             0,
             "#0d0887"
            ],
            [
             0.1111111111111111,
             "#46039f"
            ],
            [
             0.2222222222222222,
             "#7201a8"
            ],
            [
             0.3333333333333333,
             "#9c179e"
            ],
            [
             0.4444444444444444,
             "#bd3786"
            ],
            [
             0.5555555555555556,
             "#d8576b"
            ],
            [
             0.6666666666666666,
             "#ed7953"
            ],
            [
             0.7777777777777778,
             "#fb9f3a"
            ],
            [
             0.8888888888888888,
             "#fdca26"
            ],
            [
             1,
             "#f0f921"
            ]
           ],
           "sequentialminus": [
            [
             0,
             "#0d0887"
            ],
            [
             0.1111111111111111,
             "#46039f"
            ],
            [
             0.2222222222222222,
             "#7201a8"
            ],
            [
             0.3333333333333333,
             "#9c179e"
            ],
            [
             0.4444444444444444,
             "#bd3786"
            ],
            [
             0.5555555555555556,
             "#d8576b"
            ],
            [
             0.6666666666666666,
             "#ed7953"
            ],
            [
             0.7777777777777778,
             "#fb9f3a"
            ],
            [
             0.8888888888888888,
             "#fdca26"
            ],
            [
             1,
             "#f0f921"
            ]
           ]
          },
          "colorway": [
           "#636efa",
           "#EF553B",
           "#00cc96",
           "#ab63fa",
           "#FFA15A",
           "#19d3f3",
           "#FF6692",
           "#B6E880",
           "#FF97FF",
           "#FECB52"
          ],
          "font": {
           "color": "#2a3f5f"
          },
          "geo": {
           "bgcolor": "white",
           "lakecolor": "white",
           "landcolor": "#E5ECF6",
           "showlakes": true,
           "showland": true,
           "subunitcolor": "white"
          },
          "hoverlabel": {
           "align": "left"
          },
          "hovermode": "closest",
          "mapbox": {
           "style": "light"
          },
          "paper_bgcolor": "white",
          "plot_bgcolor": "#E5ECF6",
          "polar": {
           "angularaxis": {
            "gridcolor": "white",
            "linecolor": "white",
            "ticks": ""
           },
           "bgcolor": "#E5ECF6",
           "radialaxis": {
            "gridcolor": "white",
            "linecolor": "white",
            "ticks": ""
           }
          },
          "scene": {
           "xaxis": {
            "backgroundcolor": "#E5ECF6",
            "gridcolor": "white",
            "gridwidth": 2,
            "linecolor": "white",
            "showbackground": true,
            "ticks": "",
            "zerolinecolor": "white"
           },
           "yaxis": {
            "backgroundcolor": "#E5ECF6",
            "gridcolor": "white",
            "gridwidth": 2,
            "linecolor": "white",
            "showbackground": true,
            "ticks": "",
            "zerolinecolor": "white"
           },
           "zaxis": {
            "backgroundcolor": "#E5ECF6",
            "gridcolor": "white",
            "gridwidth": 2,
            "linecolor": "white",
            "showbackground": true,
            "ticks": "",
            "zerolinecolor": "white"
           }
          },
          "shapedefaults": {
           "line": {
            "color": "#2a3f5f"
           }
          },
          "ternary": {
           "aaxis": {
            "gridcolor": "white",
            "linecolor": "white",
            "ticks": ""
           },
           "baxis": {
            "gridcolor": "white",
            "linecolor": "white",
            "ticks": ""
           },
           "bgcolor": "#E5ECF6",
           "caxis": {
            "gridcolor": "white",
            "linecolor": "white",
            "ticks": ""
           }
          },
          "title": {
           "x": 0.05
          },
          "xaxis": {
           "automargin": true,
           "gridcolor": "white",
           "linecolor": "white",
           "ticks": "",
           "title": {
            "standoff": 15
           },
           "zerolinecolor": "white",
           "zerolinewidth": 2
          },
          "yaxis": {
           "automargin": true,
           "gridcolor": "white",
           "linecolor": "white",
           "ticks": "",
           "title": {
            "standoff": 15
           },
           "zerolinecolor": "white",
           "zerolinewidth": 2
          }
         }
        },
        "xaxis": {
         "anchor": "y",
         "domain": [
          0,
          1
         ],
         "title": {
          "text": "x"
         },
         "type": "log"
        },
        "yaxis": {
         "anchor": "x",
         "domain": [
          0,
          1
         ],
         "title": {
          "text": "y"
         },
         "type": "log"
        }
       }
      }
     },
     "metadata": {},
     "output_type": "display_data"
    }
   ],
   "source": [
    "df = px.data.gapminder().query(\"year==2007\")\n",
    "fig = px.scatter(df, x=dataset['Temperature (K)'], y=dataset['Absolute magnitude(Mv)'], color=dataset['Star type'].astype('str'),\n",
    "     size_max=45, log_x=True,log_y=True)\n",
    "\n",
    "fig.update_layout(legend=dict(\n",
    "    orientation=\"h\",\n",
    "    yanchor=\"bottom\",\n",
    "    y=1.02,\n",
    "    xanchor=\"right\",\n",
    "    x=1\n",
    "))\n",
    "\n",
    "fig.show()"
   ]
  },
  {
   "cell_type": "code",
   "execution_count": 1,
   "metadata": {},
   "outputs": [
    {
     "ename": "FileNotFoundError",
     "evalue": "[Errno 2] No such file or directory: 'xyzr_sphere_coordinates.txt'",
     "output_type": "error",
     "traceback": [
      "\u001b[1;31m---------------------------------------------------------------------------\u001b[0m",
      "\u001b[1;31mFileNotFoundError\u001b[0m                         Traceback (most recent call last)",
      "\u001b[1;32mc:\\Users\\39347\\Desktop\\devD\\data\\data_plot.ipynb Cell 19\u001b[0m in \u001b[0;36m<cell line: 16>\u001b[1;34m()\u001b[0m\n\u001b[0;32m     <a href='vscode-notebook-cell:/c%3A/Users/39347/Desktop/devD/data/data_plot.ipynb#X24sZmlsZQ%3D%3D?line=12'>13</a>\u001b[0m     Z \u001b[39m=\u001b[39m radius \u001b[39m*\u001b[39m np\u001b[39m.\u001b[39mcos(v) \u001b[39m+\u001b[39m z\n\u001b[0;32m     <a href='vscode-notebook-cell:/c%3A/Users/39347/Desktop/devD/data/data_plot.ipynb#X24sZmlsZQ%3D%3D?line=13'>14</a>\u001b[0m     \u001b[39mreturn\u001b[39;00m (X, Y, Z)\n\u001b[1;32m---> <a href='vscode-notebook-cell:/c%3A/Users/39347/Desktop/devD/data/data_plot.ipynb#X24sZmlsZQ%3D%3D?line=15'>16</a>\u001b[0m df \u001b[39m=\u001b[39m pd\u001b[39m.\u001b[39;49mread_csv(\u001b[39m'\u001b[39;49m\u001b[39mxyzr_sphere_coordinates.txt\u001b[39;49m\u001b[39m'\u001b[39;49m)\n\u001b[0;32m     <a href='vscode-notebook-cell:/c%3A/Users/39347/Desktop/devD/data/data_plot.ipynb#X24sZmlsZQ%3D%3D?line=17'>18</a>\u001b[0m data \u001b[39m=\u001b[39m []\n\u001b[0;32m     <a href='vscode-notebook-cell:/c%3A/Users/39347/Desktop/devD/data/data_plot.ipynb#X24sZmlsZQ%3D%3D?line=18'>19</a>\u001b[0m \u001b[39mfor\u001b[39;00m index, row \u001b[39min\u001b[39;00m df\u001b[39m.\u001b[39miterrows():\n",
      "File \u001b[1;32mc:\\Users\\39347\\AppData\\Local\\Programs\\Python\\Python310\\lib\\site-packages\\pandas\\util\\_decorators.py:311\u001b[0m, in \u001b[0;36mdeprecate_nonkeyword_arguments.<locals>.decorate.<locals>.wrapper\u001b[1;34m(*args, **kwargs)\u001b[0m\n\u001b[0;32m    305\u001b[0m \u001b[39mif\u001b[39;00m \u001b[39mlen\u001b[39m(args) \u001b[39m>\u001b[39m num_allow_args:\n\u001b[0;32m    306\u001b[0m     warnings\u001b[39m.\u001b[39mwarn(\n\u001b[0;32m    307\u001b[0m         msg\u001b[39m.\u001b[39mformat(arguments\u001b[39m=\u001b[39marguments),\n\u001b[0;32m    308\u001b[0m         \u001b[39mFutureWarning\u001b[39;00m,\n\u001b[0;32m    309\u001b[0m         stacklevel\u001b[39m=\u001b[39mstacklevel,\n\u001b[0;32m    310\u001b[0m     )\n\u001b[1;32m--> 311\u001b[0m \u001b[39mreturn\u001b[39;00m func(\u001b[39m*\u001b[39margs, \u001b[39m*\u001b[39m\u001b[39m*\u001b[39mkwargs)\n",
      "File \u001b[1;32mc:\\Users\\39347\\AppData\\Local\\Programs\\Python\\Python310\\lib\\site-packages\\pandas\\io\\parsers\\readers.py:680\u001b[0m, in \u001b[0;36mread_csv\u001b[1;34m(filepath_or_buffer, sep, delimiter, header, names, index_col, usecols, squeeze, prefix, mangle_dupe_cols, dtype, engine, converters, true_values, false_values, skipinitialspace, skiprows, skipfooter, nrows, na_values, keep_default_na, na_filter, verbose, skip_blank_lines, parse_dates, infer_datetime_format, keep_date_col, date_parser, dayfirst, cache_dates, iterator, chunksize, compression, thousands, decimal, lineterminator, quotechar, quoting, doublequote, escapechar, comment, encoding, encoding_errors, dialect, error_bad_lines, warn_bad_lines, on_bad_lines, delim_whitespace, low_memory, memory_map, float_precision, storage_options)\u001b[0m\n\u001b[0;32m    665\u001b[0m kwds_defaults \u001b[39m=\u001b[39m _refine_defaults_read(\n\u001b[0;32m    666\u001b[0m     dialect,\n\u001b[0;32m    667\u001b[0m     delimiter,\n\u001b[1;32m   (...)\u001b[0m\n\u001b[0;32m    676\u001b[0m     defaults\u001b[39m=\u001b[39m{\u001b[39m\"\u001b[39m\u001b[39mdelimiter\u001b[39m\u001b[39m\"\u001b[39m: \u001b[39m\"\u001b[39m\u001b[39m,\u001b[39m\u001b[39m\"\u001b[39m},\n\u001b[0;32m    677\u001b[0m )\n\u001b[0;32m    678\u001b[0m kwds\u001b[39m.\u001b[39mupdate(kwds_defaults)\n\u001b[1;32m--> 680\u001b[0m \u001b[39mreturn\u001b[39;00m _read(filepath_or_buffer, kwds)\n",
      "File \u001b[1;32mc:\\Users\\39347\\AppData\\Local\\Programs\\Python\\Python310\\lib\\site-packages\\pandas\\io\\parsers\\readers.py:575\u001b[0m, in \u001b[0;36m_read\u001b[1;34m(filepath_or_buffer, kwds)\u001b[0m\n\u001b[0;32m    572\u001b[0m _validate_names(kwds\u001b[39m.\u001b[39mget(\u001b[39m\"\u001b[39m\u001b[39mnames\u001b[39m\u001b[39m\"\u001b[39m, \u001b[39mNone\u001b[39;00m))\n\u001b[0;32m    574\u001b[0m \u001b[39m# Create the parser.\u001b[39;00m\n\u001b[1;32m--> 575\u001b[0m parser \u001b[39m=\u001b[39m TextFileReader(filepath_or_buffer, \u001b[39m*\u001b[39m\u001b[39m*\u001b[39mkwds)\n\u001b[0;32m    577\u001b[0m \u001b[39mif\u001b[39;00m chunksize \u001b[39mor\u001b[39;00m iterator:\n\u001b[0;32m    578\u001b[0m     \u001b[39mreturn\u001b[39;00m parser\n",
      "File \u001b[1;32mc:\\Users\\39347\\AppData\\Local\\Programs\\Python\\Python310\\lib\\site-packages\\pandas\\io\\parsers\\readers.py:933\u001b[0m, in \u001b[0;36mTextFileReader.__init__\u001b[1;34m(self, f, engine, **kwds)\u001b[0m\n\u001b[0;32m    930\u001b[0m     \u001b[39mself\u001b[39m\u001b[39m.\u001b[39moptions[\u001b[39m\"\u001b[39m\u001b[39mhas_index_names\u001b[39m\u001b[39m\"\u001b[39m] \u001b[39m=\u001b[39m kwds[\u001b[39m\"\u001b[39m\u001b[39mhas_index_names\u001b[39m\u001b[39m\"\u001b[39m]\n\u001b[0;32m    932\u001b[0m \u001b[39mself\u001b[39m\u001b[39m.\u001b[39mhandles: IOHandles \u001b[39m|\u001b[39m \u001b[39mNone\u001b[39;00m \u001b[39m=\u001b[39m \u001b[39mNone\u001b[39;00m\n\u001b[1;32m--> 933\u001b[0m \u001b[39mself\u001b[39m\u001b[39m.\u001b[39m_engine \u001b[39m=\u001b[39m \u001b[39mself\u001b[39;49m\u001b[39m.\u001b[39;49m_make_engine(f, \u001b[39mself\u001b[39;49m\u001b[39m.\u001b[39;49mengine)\n",
      "File \u001b[1;32mc:\\Users\\39347\\AppData\\Local\\Programs\\Python\\Python310\\lib\\site-packages\\pandas\\io\\parsers\\readers.py:1217\u001b[0m, in \u001b[0;36mTextFileReader._make_engine\u001b[1;34m(self, f, engine)\u001b[0m\n\u001b[0;32m   1213\u001b[0m     mode \u001b[39m=\u001b[39m \u001b[39m\"\u001b[39m\u001b[39mrb\u001b[39m\u001b[39m\"\u001b[39m\n\u001b[0;32m   1214\u001b[0m \u001b[39m# error: No overload variant of \"get_handle\" matches argument types\u001b[39;00m\n\u001b[0;32m   1215\u001b[0m \u001b[39m# \"Union[str, PathLike[str], ReadCsvBuffer[bytes], ReadCsvBuffer[str]]\"\u001b[39;00m\n\u001b[0;32m   1216\u001b[0m \u001b[39m# , \"str\", \"bool\", \"Any\", \"Any\", \"Any\", \"Any\", \"Any\"\u001b[39;00m\n\u001b[1;32m-> 1217\u001b[0m \u001b[39mself\u001b[39m\u001b[39m.\u001b[39mhandles \u001b[39m=\u001b[39m get_handle(  \u001b[39m# type: ignore[call-overload]\u001b[39;49;00m\n\u001b[0;32m   1218\u001b[0m     f,\n\u001b[0;32m   1219\u001b[0m     mode,\n\u001b[0;32m   1220\u001b[0m     encoding\u001b[39m=\u001b[39;49m\u001b[39mself\u001b[39;49m\u001b[39m.\u001b[39;49moptions\u001b[39m.\u001b[39;49mget(\u001b[39m\"\u001b[39;49m\u001b[39mencoding\u001b[39;49m\u001b[39m\"\u001b[39;49m, \u001b[39mNone\u001b[39;49;00m),\n\u001b[0;32m   1221\u001b[0m     compression\u001b[39m=\u001b[39;49m\u001b[39mself\u001b[39;49m\u001b[39m.\u001b[39;49moptions\u001b[39m.\u001b[39;49mget(\u001b[39m\"\u001b[39;49m\u001b[39mcompression\u001b[39;49m\u001b[39m\"\u001b[39;49m, \u001b[39mNone\u001b[39;49;00m),\n\u001b[0;32m   1222\u001b[0m     memory_map\u001b[39m=\u001b[39;49m\u001b[39mself\u001b[39;49m\u001b[39m.\u001b[39;49moptions\u001b[39m.\u001b[39;49mget(\u001b[39m\"\u001b[39;49m\u001b[39mmemory_map\u001b[39;49m\u001b[39m\"\u001b[39;49m, \u001b[39mFalse\u001b[39;49;00m),\n\u001b[0;32m   1223\u001b[0m     is_text\u001b[39m=\u001b[39;49mis_text,\n\u001b[0;32m   1224\u001b[0m     errors\u001b[39m=\u001b[39;49m\u001b[39mself\u001b[39;49m\u001b[39m.\u001b[39;49moptions\u001b[39m.\u001b[39;49mget(\u001b[39m\"\u001b[39;49m\u001b[39mencoding_errors\u001b[39;49m\u001b[39m\"\u001b[39;49m, \u001b[39m\"\u001b[39;49m\u001b[39mstrict\u001b[39;49m\u001b[39m\"\u001b[39;49m),\n\u001b[0;32m   1225\u001b[0m     storage_options\u001b[39m=\u001b[39;49m\u001b[39mself\u001b[39;49m\u001b[39m.\u001b[39;49moptions\u001b[39m.\u001b[39;49mget(\u001b[39m\"\u001b[39;49m\u001b[39mstorage_options\u001b[39;49m\u001b[39m\"\u001b[39;49m, \u001b[39mNone\u001b[39;49;00m),\n\u001b[0;32m   1226\u001b[0m )\n\u001b[0;32m   1227\u001b[0m \u001b[39massert\u001b[39;00m \u001b[39mself\u001b[39m\u001b[39m.\u001b[39mhandles \u001b[39mis\u001b[39;00m \u001b[39mnot\u001b[39;00m \u001b[39mNone\u001b[39;00m\n\u001b[0;32m   1228\u001b[0m f \u001b[39m=\u001b[39m \u001b[39mself\u001b[39m\u001b[39m.\u001b[39mhandles\u001b[39m.\u001b[39mhandle\n",
      "File \u001b[1;32mc:\\Users\\39347\\AppData\\Local\\Programs\\Python\\Python310\\lib\\site-packages\\pandas\\io\\common.py:789\u001b[0m, in \u001b[0;36mget_handle\u001b[1;34m(path_or_buf, mode, encoding, compression, memory_map, is_text, errors, storage_options)\u001b[0m\n\u001b[0;32m    784\u001b[0m \u001b[39melif\u001b[39;00m \u001b[39misinstance\u001b[39m(handle, \u001b[39mstr\u001b[39m):\n\u001b[0;32m    785\u001b[0m     \u001b[39m# Check whether the filename is to be opened in binary mode.\u001b[39;00m\n\u001b[0;32m    786\u001b[0m     \u001b[39m# Binary mode does not support 'encoding' and 'newline'.\u001b[39;00m\n\u001b[0;32m    787\u001b[0m     \u001b[39mif\u001b[39;00m ioargs\u001b[39m.\u001b[39mencoding \u001b[39mand\u001b[39;00m \u001b[39m\"\u001b[39m\u001b[39mb\u001b[39m\u001b[39m\"\u001b[39m \u001b[39mnot\u001b[39;00m \u001b[39min\u001b[39;00m ioargs\u001b[39m.\u001b[39mmode:\n\u001b[0;32m    788\u001b[0m         \u001b[39m# Encoding\u001b[39;00m\n\u001b[1;32m--> 789\u001b[0m         handle \u001b[39m=\u001b[39m \u001b[39mopen\u001b[39;49m(\n\u001b[0;32m    790\u001b[0m             handle,\n\u001b[0;32m    791\u001b[0m             ioargs\u001b[39m.\u001b[39;49mmode,\n\u001b[0;32m    792\u001b[0m             encoding\u001b[39m=\u001b[39;49mioargs\u001b[39m.\u001b[39;49mencoding,\n\u001b[0;32m    793\u001b[0m             errors\u001b[39m=\u001b[39;49merrors,\n\u001b[0;32m    794\u001b[0m             newline\u001b[39m=\u001b[39;49m\u001b[39m\"\u001b[39;49m\u001b[39m\"\u001b[39;49m,\n\u001b[0;32m    795\u001b[0m         )\n\u001b[0;32m    796\u001b[0m     \u001b[39melse\u001b[39;00m:\n\u001b[0;32m    797\u001b[0m         \u001b[39m# Binary mode\u001b[39;00m\n\u001b[0;32m    798\u001b[0m         handle \u001b[39m=\u001b[39m \u001b[39mopen\u001b[39m(handle, ioargs\u001b[39m.\u001b[39mmode)\n",
      "\u001b[1;31mFileNotFoundError\u001b[0m: [Errno 2] No such file or directory: 'xyzr_sphere_coordinates.txt'"
     ]
    }
   ],
   "source": [
    "#data plot of 3D sphere with different dimensions \n",
    "#3D sphere with mapped image \n",
    "\n",
    "import pandas as pd\n",
    "import plotly.express as px\n",
    "import plotly.graph_objects as go\n",
    "\n",
    "def ms(x, y, z, radius, resolution=20):\n",
    "    \"\"\"Return the coordinates for plotting a sphere centered at (x,y,z)\"\"\"\n",
    "    u, v = np.mgrid[0:2*np.pi:resolution*2j, 0:np.pi:resolution*1j]\n",
    "    X = radius * np.cos(u)*np.sin(v) + x\n",
    "    Y = radius * np.sin(u)*np.sin(v) + y\n",
    "    Z = radius * np.cos(v) + z\n",
    "    return (X, Y, Z)\n",
    "\n",
    "df = pd.read_csv('xyzr_sphere_coordinates.txt')\n",
    "\n",
    "data = []\n",
    "for index, row in df.iterrows():\n",
    "    (x_pns_surface, y_pns_surface, z_pns_suraface) = ms(row.x, row.y, row.z, row.r)\n",
    "    data.append(go.Surface(x=x_pns_surface, y=y_pns_surface, z=z_pns_suraface, opacity=0.5))\n",
    "\n",
    "fig = go.Figure(data=data)\n",
    "fig.show()"
   ]
  },
  {
   "cell_type": "code",
   "execution_count": 6,
   "metadata": {},
   "outputs": [
    {
     "data": {
      "image/png": "[encoded data removed]",
      "text/plain": [
       "<Figure size 432x288 with 1 Axes>"
      ]
     },
     "metadata": {
      "needs_background": "light"
     },
     "output_type": "display_data"
    }
   ],
   "source": [
    "#plot star dimensions\n",
    "import numpy as np\n",
    "import matplotlib.pyplot as plt\n",
    "from itertools import repeat  # just for the example\n",
    "cmaps=['r','y']\n",
    "def makesphere(x, y, z, radius, resolution=15):\n",
    "    \"\"\"Return the coordinates for plotting a sphere centered at (x,y,z)\"\"\"\n",
    "    u, v = np.mgrid[0:2*np.pi:resolution*2j, 0:np.pi:resolution*1j]\n",
    "    X = radius * np.cos(u)*np.sin(v) + x\n",
    "    Y = radius * np.sin(u)*np.sin(v) + y\n",
    "    Z = radius * np.cos(v) + z\n",
    "    return (X, Y, Z)\n",
    "\n",
    "fig = plt.figure(\"Spheres\")\n",
    "ax = fig.add_subplot(projection='3d')\n",
    "i=0\n",
    "for x, y, z, radius, in zip(*repeat(np.arange(1,4),3), [.1, .5]):\n",
    "    X, Y, Z = makesphere(x, y, z, radius)\n",
    "    ax.plot_surface(X, Y, Z, color=cmaps[i])\n",
    "    i=i+1"
   ]
  },
  {
   "cell_type": "code",
   "execution_count": 8,
   "metadata": {},
   "outputs": [
    {
     "data": {
      "text/plain": [
       "<matplotlib.image.AxesImage at 0x1a4edf48c10>"
      ]
     },
     "execution_count": 8,
     "metadata": {},
     "output_type": "execute_result"
    },
    {
     "data": {
      "image/png": "[encoded data removed]",
      "text/plain": [
       "<Figure size 432x288 with 1 Axes>"
      ]
     },
     "metadata": {
      "needs_background": "light"
     },
     "output_type": "display_data"
    }
   ],
   "source": [
    "import plotly.graph_objects as go\n",
    "from skimage import io\n",
    "%matplotlib inline\n",
    "\n",
    "#plot star dimensions + image \n",
    "img = io.imread('C:\\\\Users\\\\39347\\\\Desktop\\\\devD\\\\plotly_dash4data\\\\sun_lum_80.jpg') \n",
    "io.imshow(img)"
   ]
  },
  {
   "cell_type": "code",
   "execution_count": 9,
   "metadata": {},
   "outputs": [
    {
     "data": {
      "text/plain": [
       "<matplotlib.image.AxesImage at 0x1a4ed3efcd0>"
      ]
     },
     "execution_count": 9,
     "metadata": {},
     "output_type": "execute_result"
    },
    {
     "data": {
      "image/png": "[encoded data removed]",
      "text/plain": [
       "<Figure size 432x288 with 1 Axes>"
      ]
     },
     "metadata": {
      "needs_background": "light"
     },
     "output_type": "display_data"
    }
   ],
   "source": [
    "io.imshow(img[500:700, 600:800])"
   ]
  },
  {
   "cell_type": "code",
   "execution_count": 10,
   "metadata": {},
   "outputs": [],
   "source": [
    "my_img = img[500:700, 600:800]"
   ]
  },
  {
   "cell_type": "code",
   "execution_count": 12,
   "metadata": {},
   "outputs": [],
   "source": [
    "pl_green=[[0.0, 'rgb(0, 69, 41)'],# the first half from cm.YlGn_r \n",
    " [0.1, 'rgb(0, 82, 46)'],\n",
    " [0.2, 'rgb(0, 96, 51)'],\n",
    " [0.3, 'rgb(6, 109, 57)'],\n",
    " [0.4, 'rgb(21, 120, 62)'],\n",
    " [0.5, 'rgb(35, 132, 67)'],\n",
    " [0.6, 'rgb(46, 146, 76)'],\n",
    " [0.7, 'rgb(58, 162, 87)'],\n",
    " [0.8, 'rgb(76, 176, 98)'],\n",
    " [0.9, 'rgb(98, 187, 110)'],\n",
    " [1., 'rgb(120, 198, 121)']]"
   ]
  },
  {
   "cell_type": "code",
   "execution_count": null,
   "metadata": {},
   "outputs": [],
   "source": [
    "x = np.linspace(0,5, 200)\n",
    "y = np.linspace(5, 10, 200)\n",
    "X, Y = np.meshgrid(x,y)\n",
    "z = (X+Y)/(2+np.cos(X)*np.sin(Y))"
   ]
  },
  {
   "cell_type": "code",
   "execution_count": 14,
   "metadata": {},
   "outputs": [],
   "source": [
    "surfcolor = np.fliplr(img[200:400,200:400])"
   ]
  },
  {
   "cell_type": "code",
   "execution_count": 16,
   "metadata": {},
   "outputs": [],
   "source": [
    "pl_grey =[[0.0, 'rgb(0, 0, 0)'],\n",
    " [0.05, 'rgb(13, 13, 13)'],\n",
    " [0.1, 'rgb(29, 29, 29)'],\n",
    " [0.15, 'rgb(45, 45, 45)'],\n",
    " [0.2, 'rgb(64, 64, 64)'],\n",
    " [0.25, 'rgb(82, 82, 82)'],\n",
    " [0.3, 'rgb(94, 94, 94)'],\n",
    " [0.35, 'rgb(108, 108, 108)'],\n",
    " [0.4, 'rgb(122, 122, 122)'],\n",
    " [0.45, 'rgb(136, 136, 136)'],\n",
    " [0.5, 'rgb(150, 150, 150)'],\n",
    " [0.55, 'rgb(165, 165, 165)'],\n",
    " [0.6, 'rgb(181, 181, 181)'],\n",
    " [0.65, 'rgb(194, 194, 194)'],\n",
    " [0.7, 'rgb(206, 206, 206)'],\n",
    " [0.75, 'rgb(217, 217, 217)'],\n",
    " [0.8, 'rgb(226, 226, 226)'],\n",
    " [0.85, 'rgb(235, 235, 235)'],\n",
    " [0.9, 'rgb(243, 243, 243)'],\n",
    " [0.95, 'rgb(249, 249, 249)'],\n",
    " [1.0, 'rgb(255, 255, 255)']]"
   ]
  },
  {
   "cell_type": "code",
   "execution_count": 17,
   "metadata": {},
   "outputs": [
    {
     "ename": "ValueError",
     "evalue": "\n    Invalid value of type 'numpy.int32' received for the 'x' property of surface\n        Received value: 3\n\n    The 'x' property is an array that may be specified as a tuple,\n    list, numpy array, or pandas Series",
     "output_type": "error",
     "traceback": [
      "\u001b[1;31m---------------------------------------------------------------------------\u001b[0m",
      "\u001b[1;31mValueError\u001b[0m                                Traceback (most recent call last)",
      "\u001b[1;32mc:\\Users\\39347\\Desktop\\devD\\data\\data_plot.ipynb Cell 28\u001b[0m in \u001b[0;36m<cell line: 1>\u001b[1;34m()\u001b[0m\n\u001b[1;32m----> <a href='vscode-notebook-cell:/c%3A/Users/39347/Desktop/devD/data/data_plot.ipynb#X40sZmlsZQ%3D%3D?line=0'>1</a>\u001b[0m surf \u001b[39m=\u001b[39m go\u001b[39m.\u001b[39;49mSurface(x\u001b[39m=\u001b[39;49mx, y\u001b[39m=\u001b[39;49my, z\u001b[39m=\u001b[39;49mz,\n\u001b[0;32m      <a href='vscode-notebook-cell:/c%3A/Users/39347/Desktop/devD/data/data_plot.ipynb#X40sZmlsZQ%3D%3D?line=1'>2</a>\u001b[0m                   surfacecolor\u001b[39m=\u001b[39;49msurfcolor,\n\u001b[0;32m      <a href='vscode-notebook-cell:/c%3A/Users/39347/Desktop/devD/data/data_plot.ipynb#X40sZmlsZQ%3D%3D?line=2'>3</a>\u001b[0m                   colorscale\u001b[39m=\u001b[39;49mpl_grey,\n\u001b[0;32m      <a href='vscode-notebook-cell:/c%3A/Users/39347/Desktop/devD/data/data_plot.ipynb#X40sZmlsZQ%3D%3D?line=3'>4</a>\u001b[0m                   showscale\u001b[39m=\u001b[39;49m\u001b[39mFalse\u001b[39;49;00m)\n",
      "File \u001b[1;32mc:\\Users\\39347\\AppData\\Local\\Programs\\Python\\Python310\\lib\\site-packages\\plotly\\graph_objs\\_surface.py:2658\u001b[0m, in \u001b[0;36mSurface.__init__\u001b[1;34m(self, arg, autocolorscale, cauto, cmax, cmid, cmin, coloraxis, colorbar, colorscale, connectgaps, contours, customdata, customdatasrc, hidesurface, hoverinfo, hoverinfosrc, hoverlabel, hovertemplate, hovertemplatesrc, hovertext, hovertextsrc, ids, idssrc, legendgroup, legendgrouptitle, legendrank, lighting, lightposition, meta, metasrc, name, opacity, opacityscale, reversescale, scene, showlegend, showscale, stream, surfacecolor, surfacecolorsrc, text, textsrc, uid, uirevision, visible, x, xcalendar, xhoverformat, xsrc, y, ycalendar, yhoverformat, ysrc, z, zcalendar, zhoverformat, zsrc, **kwargs)\u001b[0m\n\u001b[0;32m   2656\u001b[0m _v \u001b[39m=\u001b[39m x \u001b[39mif\u001b[39;00m x \u001b[39mis\u001b[39;00m \u001b[39mnot\u001b[39;00m \u001b[39mNone\u001b[39;00m \u001b[39melse\u001b[39;00m _v\n\u001b[0;32m   2657\u001b[0m \u001b[39mif\u001b[39;00m _v \u001b[39mis\u001b[39;00m \u001b[39mnot\u001b[39;00m \u001b[39mNone\u001b[39;00m:\n\u001b[1;32m-> 2658\u001b[0m     \u001b[39mself\u001b[39m[\u001b[39m\"\u001b[39m\u001b[39mx\u001b[39m\u001b[39m\"\u001b[39m] \u001b[39m=\u001b[39m _v\n\u001b[0;32m   2659\u001b[0m _v \u001b[39m=\u001b[39m arg\u001b[39m.\u001b[39mpop(\u001b[39m\"\u001b[39m\u001b[39mxcalendar\u001b[39m\u001b[39m\"\u001b[39m, \u001b[39mNone\u001b[39;00m)\n\u001b[0;32m   2660\u001b[0m _v \u001b[39m=\u001b[39m xcalendar \u001b[39mif\u001b[39;00m xcalendar \u001b[39mis\u001b[39;00m \u001b[39mnot\u001b[39;00m \u001b[39mNone\u001b[39;00m \u001b[39melse\u001b[39;00m _v\n",
      "File \u001b[1;32mc:\\Users\\39347\\AppData\\Local\\Programs\\Python\\Python310\\lib\\site-packages\\plotly\\basedatatypes.py:4859\u001b[0m, in \u001b[0;36mBasePlotlyType.__setitem__\u001b[1;34m(self, prop, value)\u001b[0m\n\u001b[0;32m   4855\u001b[0m         \u001b[39mself\u001b[39m\u001b[39m.\u001b[39m_set_array_prop(prop, value)\n\u001b[0;32m   4857\u001b[0m     \u001b[39m# ### Handle simple property ###\u001b[39;00m\n\u001b[0;32m   4858\u001b[0m     \u001b[39melse\u001b[39;00m:\n\u001b[1;32m-> 4859\u001b[0m         \u001b[39mself\u001b[39;49m\u001b[39m.\u001b[39;49m_set_prop(prop, value)\n\u001b[0;32m   4860\u001b[0m \u001b[39melse\u001b[39;00m:\n\u001b[0;32m   4861\u001b[0m     \u001b[39m# Make sure properties dict is initialized\u001b[39;00m\n\u001b[0;32m   4862\u001b[0m     \u001b[39mself\u001b[39m\u001b[39m.\u001b[39m_init_props()\n",
      "File \u001b[1;32mc:\\Users\\39347\\AppData\\Local\\Programs\\Python\\Python310\\lib\\site-packages\\plotly\\basedatatypes.py:5203\u001b[0m, in \u001b[0;36mBasePlotlyType._set_prop\u001b[1;34m(self, prop, val)\u001b[0m\n\u001b[0;32m   5201\u001b[0m         \u001b[39mreturn\u001b[39;00m\n\u001b[0;32m   5202\u001b[0m     \u001b[39melse\u001b[39;00m:\n\u001b[1;32m-> 5203\u001b[0m         \u001b[39mraise\u001b[39;00m err\n\u001b[0;32m   5205\u001b[0m \u001b[39m# val is None\u001b[39;00m\n\u001b[0;32m   5206\u001b[0m \u001b[39m# -----------\u001b[39;00m\n\u001b[0;32m   5207\u001b[0m \u001b[39mif\u001b[39;00m val \u001b[39mis\u001b[39;00m \u001b[39mNone\u001b[39;00m:\n\u001b[0;32m   5208\u001b[0m     \u001b[39m# Check if we should send null update\u001b[39;00m\n",
      "File \u001b[1;32mc:\\Users\\39347\\AppData\\Local\\Programs\\Python\\Python310\\lib\\site-packages\\plotly\\basedatatypes.py:5198\u001b[0m, in \u001b[0;36mBasePlotlyType._set_prop\u001b[1;34m(self, prop, val)\u001b[0m\n\u001b[0;32m   5195\u001b[0m validator \u001b[39m=\u001b[39m \u001b[39mself\u001b[39m\u001b[39m.\u001b[39m_get_validator(prop)\n\u001b[0;32m   5197\u001b[0m \u001b[39mtry\u001b[39;00m:\n\u001b[1;32m-> 5198\u001b[0m     val \u001b[39m=\u001b[39m validator\u001b[39m.\u001b[39;49mvalidate_coerce(val)\n\u001b[0;32m   5199\u001b[0m \u001b[39mexcept\u001b[39;00m \u001b[39mValueError\u001b[39;00m \u001b[39mas\u001b[39;00m err:\n\u001b[0;32m   5200\u001b[0m     \u001b[39mif\u001b[39;00m \u001b[39mself\u001b[39m\u001b[39m.\u001b[39m_skip_invalid:\n",
      "File \u001b[1;32mc:\\Users\\39347\\AppData\\Local\\Programs\\Python\\Python310\\lib\\site-packages\\_plotly_utils\\basevalidators.py:404\u001b[0m, in \u001b[0;36mDataArrayValidator.validate_coerce\u001b[1;34m(self, v)\u001b[0m\n\u001b[0;32m    402\u001b[0m     v \u001b[39m=\u001b[39m to_scalar_or_list(v)\n\u001b[0;32m    403\u001b[0m \u001b[39melse\u001b[39;00m:\n\u001b[1;32m--> 404\u001b[0m     \u001b[39mself\u001b[39;49m\u001b[39m.\u001b[39;49mraise_invalid_val(v)\n\u001b[0;32m    405\u001b[0m \u001b[39mreturn\u001b[39;00m v\n",
      "File \u001b[1;32mc:\\Users\\39347\\AppData\\Local\\Programs\\Python\\Python310\\lib\\site-packages\\_plotly_utils\\basevalidators.py:288\u001b[0m, in \u001b[0;36mBaseValidator.raise_invalid_val\u001b[1;34m(self, v, inds)\u001b[0m\n\u001b[0;32m    285\u001b[0m             \u001b[39mfor\u001b[39;00m i \u001b[39min\u001b[39;00m inds:\n\u001b[0;32m    286\u001b[0m                 name \u001b[39m+\u001b[39m\u001b[39m=\u001b[39m \u001b[39m\"\u001b[39m\u001b[39m[\u001b[39m\u001b[39m\"\u001b[39m \u001b[39m+\u001b[39m \u001b[39mstr\u001b[39m(i) \u001b[39m+\u001b[39m \u001b[39m\"\u001b[39m\u001b[39m]\u001b[39m\u001b[39m\"\u001b[39m\n\u001b[1;32m--> 288\u001b[0m         \u001b[39mraise\u001b[39;00m \u001b[39mValueError\u001b[39;00m(\n\u001b[0;32m    289\u001b[0m             \u001b[39m\"\"\"\u001b[39;00m\n\u001b[0;32m    290\u001b[0m \u001b[39m    Invalid value of type {typ} received for the '{name}' property of {pname}\u001b[39;00m\n\u001b[0;32m    291\u001b[0m \u001b[39m        Received value: {v}\u001b[39;00m\n\u001b[0;32m    292\u001b[0m \n\u001b[0;32m    293\u001b[0m \u001b[39m{valid_clr_desc}\"\"\"\u001b[39;00m\u001b[39m.\u001b[39mformat(\n\u001b[0;32m    294\u001b[0m                 name\u001b[39m=\u001b[39mname,\n\u001b[0;32m    295\u001b[0m                 pname\u001b[39m=\u001b[39m\u001b[39mself\u001b[39m\u001b[39m.\u001b[39mparent_name,\n\u001b[0;32m    296\u001b[0m                 typ\u001b[39m=\u001b[39mtype_str(v),\n\u001b[0;32m    297\u001b[0m                 v\u001b[39m=\u001b[39m\u001b[39mrepr\u001b[39m(v),\n\u001b[0;32m    298\u001b[0m                 valid_clr_desc\u001b[39m=\u001b[39m\u001b[39mself\u001b[39m\u001b[39m.\u001b[39mdescription(),\n\u001b[0;32m    299\u001b[0m             )\n\u001b[0;32m    300\u001b[0m         )\n",
      "\u001b[1;31mValueError\u001b[0m: \n    Invalid value of type 'numpy.int32' received for the 'x' property of surface\n        Received value: 3\n\n    The 'x' property is an array that may be specified as a tuple,\n    list, numpy array, or pandas Series"
     ]
    }
   ],
   "source": [
    "surf = go.Surface(x=x, y=y, z=z,\n",
    "                  surfacecolor=surfcolor,\n",
    "                  colorscale=pl_grey,\n",
    "                  showscale=False)   "
   ]
  },
  {
   "cell_type": "code",
   "execution_count": 13,
   "metadata": {},
   "outputs": [
    {
     "ename": "AttributeError",
     "evalue": "'Figure' object has no attribute 'data'",
     "output_type": "error",
     "traceback": [
      "\u001b[1;31m---------------------------------------------------------------------------\u001b[0m",
      "\u001b[1;31mAttributeError\u001b[0m                            Traceback (most recent call last)",
      "\u001b[1;32mc:\\Users\\39347\\Desktop\\devD\\data\\data_plot.ipynb Cell 25\u001b[0m in \u001b[0;36m<cell line: 1>\u001b[1;34m()\u001b[0m\n\u001b[1;32m----> <a href='vscode-notebook-cell:/c%3A/Users/39347/Desktop/devD/data/data_plot.ipynb#X33sZmlsZQ%3D%3D?line=0'>1</a>\u001b[0m fig\u001b[39m.\u001b[39;49mdata[\u001b[39m0\u001b[39m]\u001b[39m.\u001b[39mupdate(colorscale\u001b[39m=\u001b[39mpl_green, surfacecolor\u001b[39m=\u001b[39mmy_img[:,:,\u001b[39m0\u001b[39m]);\n\u001b[0;32m      <a href='vscode-notebook-cell:/c%3A/Users/39347/Desktop/devD/data/data_plot.ipynb#X33sZmlsZQ%3D%3D?line=1'>2</a>\u001b[0m py\u001b[39m.\u001b[39miplot(fig, filename\u001b[39m=\u001b[39m\u001b[39m'\u001b[39m\u001b[39mmappingimgSurf\u001b[39m\u001b[39m'\u001b[39m)\n",
      "\u001b[1;31mAttributeError\u001b[0m: 'Figure' object has no attribute 'data'"
     ]
    }
   ],
   "source": [
    "fig.data[0].update(colorscale=pl_green, surfacecolor=my_img[:,:,0]);\n",
    "py.iplot(fig, filename='mappingimgSurf')"
   ]
  },
  {
   "cell_type": "code",
   "execution_count": 2,
   "metadata": {},
   "outputs": [],
   "source": [
    "import numpy as np\n",
    "z1 = np.array([\n",
    "    [8.83,8.89,8.81,8.87,8.9,8.87],\n",
    "    [8.89,8.94,8.85,8.94,8.96,8.92],\n",
    "    [8.84,8.9,8.82,8.92,8.93,8.91],\n",
    "    [8.79,8.85,8.79,8.9,8.94,8.92],\n",
    "    [8.79,8.88,8.81,8.9,8.95,8.92],\n",
    "    [8.8,8.82,8.78,8.91,8.94,8.92],\n",
    "    [8.75,8.78,8.77,8.91,8.95,8.92],\n",
    "    [8.8,8.8,8.77,8.91,8.95,8.94],\n",
    "    [8.74,8.81,8.76,8.93,8.98,8.99],\n",
    "    [8.89,8.99,8.92,9.1,9.13,9.11],\n",
    "    [8.97,8.97,8.91,9.09,9.11,9.11],\n",
    "    [9.04,9.08,9.05,9.25,9.28,9.27],\n",
    "    [9,9.01,9,9.2,9.23,9.2],\n",
    "    [8.99,8.99,8.98,9.18,9.2,9.19],\n",
    "    [8.93,8.97,8.97,9.18,9.2,9.18]\n",
    "])"
   ]
  },
  {
   "cell_type": "code",
   "execution_count": 3,
   "metadata": {},
   "outputs": [
    {
     "data": {
      "text/plain": [
       "(15, 6)"
      ]
     },
     "execution_count": 3,
     "metadata": {},
     "output_type": "execute_result"
    }
   ],
   "source": [
    "z1.shape"
   ]
  }
 ],
 "metadata": {
  "kernelspec": {
   "display_name": "Python 3.10.4 64-bit",
   "language": "python",
   "name": "python3"
  },
  "language_info": {
   "codemirror_mode": {
    "name": "ipython",
    "version": 3
   },
   "file_extension": ".py",
   "mimetype": "text/x-python",
   "name": "python",
   "nbconvert_exporter": "python",
   "pygments_lexer": "ipython3",
   "version": "3.10.4"
  },
  "orig_nbformat": 4,
  "vscode": {
   "interpreter": {
    "hash": "c2eafff8c9257340de0e6d7dec73796caa05dbc28a20b08502003226828c48bd"
   }
  }
 },
 "nbformat": 4,
 "nbformat_minor": 2
}
