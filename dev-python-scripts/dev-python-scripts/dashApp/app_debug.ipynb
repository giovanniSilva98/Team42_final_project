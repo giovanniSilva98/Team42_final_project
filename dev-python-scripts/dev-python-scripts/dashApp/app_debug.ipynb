{
 "cells": [
  {
   "cell_type": "code",
   "execution_count": 5,
   "metadata": {},
   "outputs": [
    {
     "ename": "NameError",
     "evalue": "name '__file__' is not defined",
     "output_type": "error",
     "traceback": [
      "\u001b[1;31m---------------------------------------------------------------------------\u001b[0m",
      "\u001b[1;31mNameError\u001b[0m                                 Traceback (most recent call last)",
      "\u001b[1;32mc:\\Users\\39347\\Desktop\\R.O.Y\\app_debug.ipynb Cell 1\u001b[0m in \u001b[0;36m<cell line: 22>\u001b[1;34m()\u001b[0m\n\u001b[0;32m     <a href='vscode-notebook-cell:/c%3A/Users/39347/Desktop/R.O.Y/app_debug.ipynb#W0sZmlsZQ%3D%3D?line=18'>19</a>\u001b[0m server \u001b[39m=\u001b[39m app\u001b[39m.\u001b[39mserver\n\u001b[0;32m     <a href='vscode-notebook-cell:/c%3A/Users/39347/Desktop/R.O.Y/app_debug.ipynb#W0sZmlsZQ%3D%3D?line=19'>20</a>\u001b[0m app\u001b[39m.\u001b[39mconfig[\u001b[39m\"\u001b[39m\u001b[39msuppress_callback_exceptions\u001b[39m\u001b[39m\"\u001b[39m] \u001b[39m=\u001b[39m \u001b[39mTrue\u001b[39;00m\n\u001b[1;32m---> <a href='vscode-notebook-cell:/c%3A/Users/39347/Desktop/R.O.Y/app_debug.ipynb#W0sZmlsZQ%3D%3D?line=21'>22</a>\u001b[0m APP_PATH \u001b[39m=\u001b[39m \u001b[39mstr\u001b[39m(pathlib\u001b[39m.\u001b[39mPath(\u001b[39m__file__\u001b[39;49m)\u001b[39m.\u001b[39mparent\u001b[39m.\u001b[39mresolve())\n\u001b[0;32m     <a href='vscode-notebook-cell:/c%3A/Users/39347/Desktop/R.O.Y/app_debug.ipynb#W0sZmlsZQ%3D%3D?line=22'>23</a>\u001b[0m df \u001b[39m=\u001b[39m pd\u001b[39m.\u001b[39mread_csv(os\u001b[39m.\u001b[39mpath\u001b[39m.\u001b[39mjoin(APP_PATH, os\u001b[39m.\u001b[39mpath\u001b[39m.\u001b[39mjoin(\u001b[39m\"\u001b[39m\u001b[39mdata\u001b[39m\u001b[39m\"\u001b[39m, \u001b[39m\"\u001b[39m\u001b[39mspc_data.csv\u001b[39m\u001b[39m\"\u001b[39m)))\n",
      "\u001b[1;31mNameError\u001b[0m: name '__file__' is not defined"
     ]
    }
   ],
   "source": [
    "import os"
   ]
  },
  {
   "cell_type": "code",
   "execution_count": 6,
   "metadata": {},
   "outputs": [],
   "source": [
    "APP_PATH = \"\"\n",
    "df = pd.read_csv(os.path.join(APP_PATH, os.path.join(\"data\", \"spc_data.csv\")))"
   ]
  },
  {
   "cell_type": "code",
   "execution_count": 7,
   "metadata": {},
   "outputs": [
    {
     "data": {
      "text/html": [
       "<div>\n",
       "<style scoped>\n",
       "    .dataframe tbody tr th:only-of-type {\n",
       "        vertical-align: middle;\n",
       "    }\n",
       "\n",
       "    .dataframe tbody tr th {\n",
       "        vertical-align: top;\n",
       "    }\n",
       "\n",
       "    .dataframe thead th {\n",
       "        text-align: right;\n",
       "    }\n",
       "</style>\n",
       "<table border=\"1\" class=\"dataframe\">\n",
       "  <thead>\n",
       "    <tr style=\"text-align: right;\">\n",
       "      <th></th>\n",
       "      <th>Batch</th>\n",
       "      <th>Diameter</th>\n",
       "      <th>Etch1</th>\n",
       "      <th>Film-Thickness</th>\n",
       "      <th>Etch2</th>\n",
       "      <th>Line-Width</th>\n",
       "      <th>Overlay</th>\n",
       "      <th>Volume</th>\n",
       "    </tr>\n",
       "  </thead>\n",
       "  <tbody>\n",
       "    <tr>\n",
       "      <th>0</th>\n",
       "      <td>1</td>\n",
       "      <td>0.429</td>\n",
       "      <td>0.43025</td>\n",
       "      <td>49512</td>\n",
       "      <td>308.75</td>\n",
       "      <td>810</td>\n",
       "      <td>1759</td>\n",
       "      <td>315.5</td>\n",
       "    </tr>\n",
       "    <tr>\n",
       "      <th>1</th>\n",
       "      <td>2</td>\n",
       "      <td>0.421</td>\n",
       "      <td>0.43300</td>\n",
       "      <td>47101</td>\n",
       "      <td>306.75</td>\n",
       "      <td>824</td>\n",
       "      <td>1746</td>\n",
       "      <td>305.5</td>\n",
       "    </tr>\n",
       "    <tr>\n",
       "      <th>2</th>\n",
       "      <td>3</td>\n",
       "      <td>0.417</td>\n",
       "      <td>0.42850</td>\n",
       "      <td>60023</td>\n",
       "      <td>311.75</td>\n",
       "      <td>765</td>\n",
       "      <td>1482</td>\n",
       "      <td>330.5</td>\n",
       "    </tr>\n",
       "    <tr>\n",
       "      <th>3</th>\n",
       "      <td>4</td>\n",
       "      <td>0.421</td>\n",
       "      <td>0.43775</td>\n",
       "      <td>55428</td>\n",
       "      <td>322.75</td>\n",
       "      <td>933</td>\n",
       "      <td>1857</td>\n",
       "      <td>319.5</td>\n",
       "    </tr>\n",
       "    <tr>\n",
       "      <th>4</th>\n",
       "      <td>5</td>\n",
       "      <td>0.421</td>\n",
       "      <td>0.41725</td>\n",
       "      <td>46442</td>\n",
       "      <td>312.50</td>\n",
       "      <td>686</td>\n",
       "      <td>1844</td>\n",
       "      <td>323.5</td>\n",
       "    </tr>\n",
       "    <tr>\n",
       "      <th>...</th>\n",
       "      <td>...</td>\n",
       "      <td>...</td>\n",
       "      <td>...</td>\n",
       "      <td>...</td>\n",
       "      <td>...</td>\n",
       "      <td>...</td>\n",
       "      <td>...</td>\n",
       "      <td>...</td>\n",
       "    </tr>\n",
       "    <tr>\n",
       "      <th>648</th>\n",
       "      <td>649</td>\n",
       "      <td>0.425</td>\n",
       "      <td>0.46625</td>\n",
       "      <td>50139</td>\n",
       "      <td>314.25</td>\n",
       "      <td>910</td>\n",
       "      <td>1561</td>\n",
       "      <td>304.0</td>\n",
       "    </tr>\n",
       "    <tr>\n",
       "      <th>649</th>\n",
       "      <td>650</td>\n",
       "      <td>0.421</td>\n",
       "      <td>0.43200</td>\n",
       "      <td>51747</td>\n",
       "      <td>312.75</td>\n",
       "      <td>872</td>\n",
       "      <td>1549</td>\n",
       "      <td>317.5</td>\n",
       "    </tr>\n",
       "    <tr>\n",
       "      <th>650</th>\n",
       "      <td>651</td>\n",
       "      <td>0.421</td>\n",
       "      <td>0.42400</td>\n",
       "      <td>42278</td>\n",
       "      <td>307.25</td>\n",
       "      <td>854</td>\n",
       "      <td>1433</td>\n",
       "      <td>304.0</td>\n",
       "    </tr>\n",
       "    <tr>\n",
       "      <th>651</th>\n",
       "      <td>652</td>\n",
       "      <td>0.429</td>\n",
       "      <td>0.44425</td>\n",
       "      <td>50548</td>\n",
       "      <td>311.75</td>\n",
       "      <td>864</td>\n",
       "      <td>1496</td>\n",
       "      <td>313.0</td>\n",
       "    </tr>\n",
       "    <tr>\n",
       "      <th>652</th>\n",
       "      <td>653</td>\n",
       "      <td>0.421</td>\n",
       "      <td>0.42675</td>\n",
       "      <td>42970</td>\n",
       "      <td>294.25</td>\n",
       "      <td>770</td>\n",
       "      <td>1354</td>\n",
       "      <td>287.5</td>\n",
       "    </tr>\n",
       "  </tbody>\n",
       "</table>\n",
       "<p>653 rows × 8 columns</p>\n",
       "</div>"
      ],
      "text/plain": [
       "     Batch  Diameter    Etch1  Film-Thickness   Etch2  Line-Width  Overlay  \\\n",
       "0        1     0.429  0.43025           49512  308.75         810     1759   \n",
       "1        2     0.421  0.43300           47101  306.75         824     1746   \n",
       "2        3     0.417  0.42850           60023  311.75         765     1482   \n",
       "3        4     0.421  0.43775           55428  322.75         933     1857   \n",
       "4        5     0.421  0.41725           46442  312.50         686     1844   \n",
       "..     ...       ...      ...             ...     ...         ...      ...   \n",
       "648    649     0.425  0.46625           50139  314.25         910     1561   \n",
       "649    650     0.421  0.43200           51747  312.75         872     1549   \n",
       "650    651     0.421  0.42400           42278  307.25         854     1433   \n",
       "651    652     0.429  0.44425           50548  311.75         864     1496   \n",
       "652    653     0.421  0.42675           42970  294.25         770     1354   \n",
       "\n",
       "     Volume  \n",
       "0     315.5  \n",
       "1     305.5  \n",
       "2     330.5  \n",
       "3     319.5  \n",
       "4     323.5  \n",
       "..      ...  \n",
       "648   304.0  \n",
       "649   317.5  \n",
       "650   304.0  \n",
       "651   313.0  \n",
       "652   287.5  \n",
       "\n",
       "[653 rows x 8 columns]"
      ]
     },
     "execution_count": 7,
     "metadata": {},
     "output_type": "execute_result"
    }
   ],
   "source": [
    "df"
   ]
  },
  {
   "cell_type": "code",
   "execution_count": 10,
   "metadata": {},
   "outputs": [],
   "source": [
    "def init_df():\n",
    "    \"\"\"data manipulation\"\"\"\n",
    "    ret = {}\n",
    "    for col in list(df[1:]):\n",
    "        data = df[col]\n",
    "        stats = data.describe()\n",
    "\n",
    "        std = stats[\"std\"].tolist()\n",
    "        ucl = (stats[\"mean\"] + 3 * stats[\"std\"]).tolist()\n",
    "        lcl = (stats[\"mean\"] - 3 * stats[\"std\"]).tolist()\n",
    "        usl = (stats[\"mean\"] + stats[\"std\"]).tolist()\n",
    "        lsl = (stats[\"mean\"] - stats[\"std\"]).tolist()\n",
    "\n",
    "        ret.update(\n",
    "            {\n",
    "                col: {\n",
    "                    \"count\": stats[\"count\"].tolist(),\n",
    "                    \"data\": data,\n",
    "                    \"mean\": stats[\"mean\"].tolist(),\n",
    "                    \"std\": std,\n",
    "                    \"ucl\": round(ucl, 3),\n",
    "                    \"lcl\": round(lcl, 3),\n",
    "                    \"usl\": round(usl, 3),\n",
    "                    \"lsl\": round(lsl, 3),\n",
    "                    \"min\": stats[\"min\"].tolist(),\n",
    "                    \"max\": stats[\"max\"].tolist(),\n",
    "                    \"ooc\": populate_ooc(data, ucl, lcl),\n",
    "                }\n",
    "            }\n",
    "        )\n",
    "\n",
    "    return ret\n",
    "\n",
    "def populate_ooc(data, ucl, lcl):\n",
    "    \"\"\"Count out of control\"\"\"\n",
    "    ooc_count = 0\n",
    "    ret = []\n",
    "    for i in range(len(data)):\n",
    "        if data[i] >= ucl or data[i] <= lcl:\n",
    "            ooc_count += 1\n",
    "            ret.append(ooc_count / (i + 1))\n",
    "        else:\n",
    "            ret.append(ooc_count / (i + 1))\n",
    "    return ret"
   ]
  },
  {
   "cell_type": "code",
   "execution_count": 39,
   "metadata": {},
   "outputs": [],
   "source": [
    "params = list(df)"
   ]
  },
  {
   "cell_type": "code",
   "execution_count": 41,
   "metadata": {},
   "outputs": [
    {
     "data": {
      "text/plain": [
       "['Batch',\n",
       " 'Diameter',\n",
       " 'Etch1',\n",
       " 'Film-Thickness',\n",
       " 'Etch2',\n",
       " 'Line-Width',\n",
       " 'Overlay',\n",
       " 'Volume']"
      ]
     },
     "execution_count": 41,
     "metadata": {},
     "output_type": "execute_result"
    }
   ],
   "source": [
    "params"
   ]
  },
  {
   "cell_type": "code",
   "execution_count": 40,
   "metadata": {},
   "outputs": [
    {
     "data": {
      "text/plain": [
       "[{'label': 'Diameter', 'value': 'Diameter'},\n",
       " {'label': 'Etch1', 'value': 'Etch1'},\n",
       " {'label': 'Film-Thickness', 'value': 'Film-Thickness'},\n",
       " {'label': 'Etch2', 'value': 'Etch2'},\n",
       " {'label': 'Line-Width', 'value': 'Line-Width'},\n",
       " {'label': 'Overlay', 'value': 'Overlay'},\n",
       " {'label': 'Volume', 'value': 'Volume'}]"
      ]
     },
     "execution_count": 40,
     "metadata": {},
     "output_type": "execute_result"
    }
   ],
   "source": [
    "list({\"label\": param, \"value\": param} for param in params[1:])"
   ]
  },
  {
   "cell_type": "code",
   "execution_count": 31,
   "metadata": {},
   "outputs": [
    {
     "name": "stdout",
     "output_type": "stream",
     "text": [
      "Batch\n",
      "Diameter\n",
      "Etch1\n",
      "Film-Thickness\n",
      "Etch2\n",
      "Line-Width\n",
      "Overlay\n",
      "Volume\n"
     ]
    }
   ],
   "source": [
    " #how to access column names \n",
    " for col in list(df[1:]):\n",
    "    print(col)"
   ]
  },
  {
   "cell_type": "code",
   "execution_count": null,
   "metadata": {},
   "outputs": [],
   "source": []
  }
 ],
 "metadata": {
  "kernelspec": {
   "display_name": "Python 3.10.4 64-bit",
   "language": "python",
   "name": "python3"
  },
  "language_info": {
   "codemirror_mode": {
    "name": "ipython",
    "version": 3
   },
   "file_extension": ".py",
   "mimetype": "text/x-python",
   "name": "python",
   "nbconvert_exporter": "python",
   "pygments_lexer": "ipython3",
   "version": "3.10.4"
  },
  "orig_nbformat": 4,
  "vscode": {
   "interpreter": {
    "hash": "c2eafff8c9257340de0e6d7dec73796caa05dbc28a20b08502003226828c48bd"
   }
  }
 },
 "nbformat": 4,
 "nbformat_minor": 2
}
